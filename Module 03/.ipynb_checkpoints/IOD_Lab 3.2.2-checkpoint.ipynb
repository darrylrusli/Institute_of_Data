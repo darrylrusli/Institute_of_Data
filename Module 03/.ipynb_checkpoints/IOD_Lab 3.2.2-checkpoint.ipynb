{
 "cells": [
  {
   "cell_type": "markdown",
   "metadata": {
    "colab_type": "text",
    "id": "XfnQYVMtJhQD"
   },
   "source": [
    "<div>\n",
    "<img src=https://www.institutedata.com/wp-content/uploads/2019/10/iod_h_tp_primary_c.svg width=\"300\">\n",
    "</div>\n"
   ]
  },
  {
   "cell_type": "markdown",
   "metadata": {
    "colab_type": "text",
    "id": "5dCt8XbjJhQG"
   },
   "source": [
    "# Lab 3.2.2 \n",
    "# *Mining Social Media with Twitter*"
   ]
  },
  {
   "cell_type": "markdown",
   "metadata": {
    "colab_type": "text",
    "id": "b5VfS9hhJhQI"
   },
   "source": [
    "## The Twitter API and Tweepy Package"
   ]
  },
  {
   "cell_type": "markdown",
   "metadata": {
    "colab_type": "text",
    "id": "lF2z-w5uJhQK"
   },
   "source": [
    "The Twitter API provides access to tweets and comments, and allows an application to post tweets to the user's timeline. \n",
    "\n",
    "Twitter requires developers to create and authenticate an app before they can use the API. As of recent policy changes, however, new developers must be approved before they can create an app. There is no indication of the waiting period for approval."
   ]
  },
  {
   "cell_type": "markdown",
   "metadata": {
    "colab_type": "text",
    "id": "M0wxJ8HNJhQM"
   },
   "source": [
    "### 1. Apply for Developer Access\n",
    "\n",
    "Go to https://blog.twitter.com/developer/en_us/topics/tools/2018/new-developer-requirements-to-protect-our-platform.html\n",
    "and read the advice.\n"
   ]
  },
  {
   "cell_type": "markdown",
   "metadata": {
    "colab_type": "text",
    "id": "tICSKwL1JhQN"
   },
   "source": [
    "Apply at https://developer.twitter.com/en/apply-for-access.html. Where asked state that you will use the app as a student to explore the tweepy Python library and use it to fetch recent tweets and to create/delete a tweet."
   ]
  },
  {
   "cell_type": "markdown",
   "metadata": {
    "colab_type": "text",
    "id": "NMeZ70IZJhQR"
   },
   "source": [
    "### 2. Create Your Twitter App\n",
    "Go to https://developer.twitter.com/en/portal/projects-and-apps and click on the \"+ Create App\" button. Give your app a name and then you will be able to generate Consumer Keys (API key & secret) and Authentication Tokens (Access token & secret). Copy-paste these authentication details for use in this lab."
   ]
  },
  {
   "cell_type": "markdown",
   "metadata": {
    "colab_type": "text",
    "id": "HpWMHz9NJhQS"
   },
   "source": [
    "### 3. Load Python Libraries"
   ]
  },
  {
   "cell_type": "code",
   "execution_count": 1,
   "metadata": {
    "colab": {},
    "colab_type": "code",
    "id": "16hb8EpNJhQU"
   },
   "outputs": [],
   "source": [
    "import tweepy\n",
    "import json\n",
    "import pprint\n",
    "import config\n",
    "import configparser"
   ]
  },
  {
   "cell_type": "code",
   "execution_count": 2,
   "metadata": {},
   "outputs": [
    {
     "name": "stdout",
     "output_type": "stream",
     "text": [
      "4.4.0\n"
     ]
    }
   ],
   "source": [
    "print(tweepy.__version__)"
   ]
  },
  {
   "cell_type": "markdown",
   "metadata": {
    "colab_type": "text",
    "id": "p7W0se6_JhQX"
   },
   "source": [
    "### 4. Authenticate from your Python script"
   ]
  },
  {
   "cell_type": "markdown",
   "metadata": {
    "colab_type": "text",
    "id": "mJfe55dVJhQY"
   },
   "source": [
    "You could assign your authentication details explicitly, as follows:"
   ]
  },
  {
   "cell_type": "code",
   "execution_count": 3,
   "metadata": {},
   "outputs": [],
   "source": [
    "s"
   ]
  },
  {
   "cell_type": "code",
   "execution_count": 4,
   "metadata": {},
   "outputs": [],
   "source": [
    "# config = configparser.ConfigParser()\n",
    "# config.read('config.ini')"
   ]
  },
  {
   "cell_type": "code",
   "execution_count": 5,
   "metadata": {},
   "outputs": [],
   "source": [
    "# api_key = config['twitter']['api_key']\n",
    "# api_key_secret = config['twitter']['api_key_secret']\n",
    "# access_token = config['twitter']['access_token']\n",
    "# access_token_secret = config['twitter']['access_token_secret']"
   ]
  },
  {
   "cell_type": "markdown",
   "metadata": {
    "colab_type": "text",
    "id": "7LXwmSzOJhQe"
   },
   "source": [
    "A better way would be to store these details externally, so they are not displayed in the notebook:\n",
    "\n",
    "- create a file called \"auth_twitter.json\" in your \"notebooks\" directory, and save your credentials there in JSON format:\n",
    "\n",
    "`{`<br>\n",
    "&nbsp;&nbsp;&nbsp;&nbsp;&nbsp;&nbsp;&nbsp;&nbsp;`   \"consumer_key\": \"your consumer key (string) goes in here\",` <br>\n",
    "&nbsp;&nbsp;&nbsp;&nbsp;&nbsp;&nbsp;&nbsp;&nbsp;` \"consumer_secret\": \"your consumer secret key (string) goes in here\",` <br>\n",
    "&nbsp;&nbsp;&nbsp;&nbsp;&nbsp;&nbsp;&nbsp;&nbsp;`\"access_token\": \"your access token (string) goes in here\",` <br>\n",
    "&nbsp;&nbsp;&nbsp;&nbsp;&nbsp;&nbsp;&nbsp;&nbsp;`\"access_token_secret\": \"your access token secret (string) goes in here\"` <br>\n",
    "`}`\n",
    "\n",
    "(Nb. Parsers are very fussy. Make sure each key:value pair has a comma after it except the last one!)  \n",
    "\n",
    "Use the following code to load the credentials:  "
   ]
  },
  {
   "cell_type": "code",
   "execution_count": 6,
   "metadata": {
    "colab": {},
    "colab_type": "code",
    "id": "kh2srKpzJhQh"
   },
   "outputs": [
    {
     "data": {
      "text/plain": [
       "'C:\\\\Users\\\\darry\\\\OneDrive\\\\Desktop\\\\Institute_of_Data'"
      ]
     },
     "execution_count": 6,
     "metadata": {},
     "output_type": "execute_result"
    }
   ],
   "source": [
    "pwd()  # make sure your working directory is where the file is"
   ]
  },
  {
   "cell_type": "markdown",
   "metadata": {
    "colab_type": "text",
    "id": "Ln30k0pZJhQp"
   },
   "source": [
    "### 5. Exploring the API"
   ]
  },
  {
   "cell_type": "markdown",
   "metadata": {
    "colab_type": "text",
    "id": "6fsc0U1nJhQq"
   },
   "source": [
    "Here is how to connect to Twitter using the Tweepy library:"
   ]
  },
  {
   "cell_type": "code",
   "execution_count": 7,
   "metadata": {},
   "outputs": [],
   "source": [
    "# auth = tweepy.OAuthHandler(api_key, api_key_secret)\n",
    "# auth.set_access_token(access_token, access_token_secret)\n",
    "# api = tweepy.API(auth)"
   ]
  },
  {
   "cell_type": "markdown",
   "metadata": {
    "colab_type": "text",
    "id": "GPRmYZigJhQp"
   },
   "source": [
    "Security considerations: \n",
    "- this method only keeps your credentials invisible as long as nobody accesses this notebook while it's running on your computer \n",
    "- if you wanted another user to have access to the executable notebook without divulging your credentials you should set up an OAuth 2.0 workflow to let them obtain and apply their own API tokens when using your app\n",
    "- if you just want to share your analyses, you could use a separate script (which you don't share) to fetch the data and save it locally, then use a second notebook (with no API access) to load and analyse the locally stored data"
   ]
  },
  {
   "cell_type": "markdown",
   "metadata": {
    "colab_type": "text",
    "id": "wSKzR9LdJhQu"
   },
   "source": [
    "In the next cell, put the cursor after the '.' and hit the [tab] key to see the available members and methods in the response object:"
   ]
  },
  {
   "cell_type": "markdown",
   "metadata": {
    "colab_type": "text",
    "id": "DcJ-cc6zJhQz"
   },
   "source": [
    "Consult the Tweept and Twitter API documentation. Print a few of the response members below:"
   ]
  },
  {
   "cell_type": "code",
   "execution_count": 8,
   "metadata": {},
   "outputs": [
    {
     "name": "stdout",
     "output_type": "stream",
     "text": [
      "Response(data=[<User id=841765929868492800 name=Ryan Wilkinson username=RyanWil84704801>, <User id=1110736998 name=Kanji Drop! username=KanGeniusGame>, <User id=777872179413131264 name=無 username=MUMUMU032>, <User id=3282169578 name=にょーん username=megaiceblast>, <User id=4131897913 name=玉木 杏 username=AnB3nk>, <User id=3253595570 name=♡恋の名言集♡ username=1azxcvbnmG>, <User id=3268107115 name=極上のラブソング♡ username=2azxcvbnmasH>, <User id=810140444 name=柳内 良仁 username=yanai24yoshi>, <User id=3235951159 name=ドラクエ、トレクル販売 username=jjejdsxaltmxtm>, <User id=46588298 name=サッカーキング username=SoccerKingJP>], includes={}, errors=[], meta={'result_count': 10})\n"
     ]
    }
   ],
   "source": [
    "users = client.get_users_followers(id = config.USER_ID, user_fields = [\"id\"])\n",
    "print(users)"
   ]
  },
  {
   "cell_type": "code",
   "execution_count": 9,
   "metadata": {
    "colab": {},
    "colab_type": "code",
    "id": "W_IKqMAQJhQ1"
   },
   "outputs": [
    {
     "name": "stdout",
     "output_type": "stream",
     "text": [
      "[<Tweet id=1485410128950091779 text=When The 'Normies' Figure Out The COVID Lies, 'There Will Be Blood In The Gutter' - Dr. Hodkinson https://t.co/aoRZ1nTcvY>, <Tweet id=1485410128719335425 text=RT @freedragonfly17: My son was uninvited to a party because he is un-vaxxed.  Nearly everyone at the party got covid, all vaxxed.  I told…>, <Tweet id=1485410128576892930 text=@CanTruck The problem is that I got triple vaxxed and it doesn't stop me from catching or spreading covid. I still have to take a hard to find PCR test for $150 US or even $250 US to get home.>, <Tweet id=1485410128551579650 text=Milestone 2: fail - huge queues at immigration and covid recovery cases like me and my son are sent to a very long line>, <Tweet id=1485410128539045888 text=RT @FbpeReynard: New Zealand is back into its highest level of restrictions due to there being 9 omicron cases in the country. I have 9 con…>, <Tweet id=1485410128165994499 text=RT @MichaelPascoe01: OK, a couple of these are a stretch, but overall,  yep. \n",
      "In particular, the dud job of Morrison/Frydenberg before COVI…>, <Tweet id=1485410127415025667 text=@Laurie_Garrett @BillGates Trump lost. And covid is hunting down the unvaccinated no matter how they pretend that they are invulnerable. So weary of the lies.>, <Tweet id=1485410126832017412 text=@Cristob11025137 @FrayJosepho Si hubiera dependido de Vox, no tendrías ningún problema con el Pasaporte Covid. Tus hijos tampoco.>, <Tweet id=1485410126328520705 text=RT @bessbell: Hey I know you follow me @bariweiss so allow me to directly penetrate your breathtakingly myopic fantasy and say I have to gi…>, <Tweet id=1485410125951217665 text=RT @GBaskerville: I'm going to keep saying it until the journalists make the connection. The people currently dying 'with underlying condit…>, <Tweet id=1485410125925998593 text=Subregistro de contagios COVID-19, el escenario oculto de la pandemia https://t.co/tGFvnQp7Jp>, <Tweet id=1485410125598887936 text=@Vidoc_Ronaco I’m done avec la Covid. Portez vos masques N95, faites-vous injecter toute la drogue que vous voulez aussi souvent que vous voulez, restez chez vous caché en ayant peur de vos voisins comme si ils avaient la lèpre en attendant la vie d’avant moi c’est maintenant que je vie.>, <Tweet id=1485410125271683078 text=RT @PoliticsForUK: 🚨| EU Covid Pasports: \"building on vaccine passports technology, every EU citizen and resident in the Union will be able…>, <Tweet id=1485410125263536133 text=RT @womensart1: Dolly Rebecca Parton, US singer, songwriter, multi-instrumentalist, actress, author, businesswoman and humanitarian, who he…>, <Tweet id=1485410125233930247 text=Survived my first COVID test today.  Fortunately it was negative, unfortunately I still feel miserable.>, <Tweet id=1485410124894199812 text=RT @kemettler: Scenes from today’s march in downtown Washington, where thousands have gathered from around the country to protest covid-19…>, <Tweet id=1485410124609069061 text=Covid Doesn’t Discriminate. https://t.co/CErRgSrsO8>, <Tweet id=1485410124277575682 text=RT @sandralopezleon: 🦠#COVID ¿Me tengo q hacer PCR para saber q ya no contagio?\n",
      "\n",
      "🚫No. La prueba PCR puede salir positiva por 3 meses, aunqu…>, <Tweet id=1485410124042674177 text=@theIVpointplay If you're up for expanding your knowledge on the subject, check out the IV point play in the medical field @PeterAttiaMD His latest article is an extensive breakdown you should appreciate. https://t.co/7Q5Wc5DJLm>, <Tweet id=1485410123925409792 text=@jsessions8032 @jdkahler @Shenanigan1111 @DBvelin @Liz_Cheney @gtconway3d bc of covid which isn't his fault \n",
      "\n",
      "No it’s not his fault, but he lied, and has been unprepared. His vaccine only policies are a failure. His mandates a failure. He had the chance to send out tests to people and waited too long>]\n",
      "{}\n",
      "[]\n",
      "{'newest_id': '1485410128950091779', 'oldest_id': '1485410123925409792', 'result_count': 20, 'next_token': 'b26v89c19zqg8o3fpe477ykuryvfk340k5n28648lxvgd'}\n"
     ]
    }
   ],
   "source": [
    "query = 'covid'\n",
    "tweets = client.search_recent_tweets(query = query, max_results = 20)\n",
    "tweets\n",
    "for tweet in tweets:\n",
    "    print(tweet)"
   ]
  },
  {
   "cell_type": "markdown",
   "metadata": {
    "colab_type": "text",
    "id": "dLkdLKjLJhQ3"
   },
   "source": [
    "This will fetch recent tweets from accounts you follow:"
   ]
  },
  {
   "cell_type": "code",
   "execution_count": 10,
   "metadata": {},
   "outputs": [
    {
     "name": "stdout",
     "output_type": "stream",
     "text": [
      "[<Tweet id=1485410132901117953 text=RT @BookshopW: Two of my grandchildren (3 &amp; 6) now have Covid. I haven’t given the government permission to play politics with their lives.>, <Tweet id=1485410132452384773 text=RT @WalkerBragman: Whose COVID burnout we focus on matters. https://t.co/kxYBF5hN5l>, <Tweet id=1485410132095692801 text=RT @KWholesaler: Not really clear what the “over COVID” crowd wants to be over, since they only trivially changed their behavior and there…>, <Tweet id=1485410131974180865 text=RT @fabriziomejia: No es el COVID lo que impide que la UNAM regrese a clases presenciales. Son los 3 problemas que no quieren afrontar: aco…>, <Tweet id=1485410131844210693 text=RT @houisvoI6: desculpem por estar curto, eu tô (provavelmente) com covid e ela me derrubou legal aqui, ent eu tô sem força até pra pensar…>, <Tweet id=1485410131659612163 text=RT @ianmSC: It’s now been over 2 weeks since the Philippines ordered the arrest of any unvaccinated person who left their home, and cases a…>, <Tweet id=1485410131592585218 text=RT @CNN: Gonzaga University has suspended season tickets for one of its most notable alumni and Hall of Fame basketball player John Stockto…>, <Tweet id=1485410131412230148 text=@Nerdnurse I'm so very sorry, Carole. I can't imagine how tough it was to deal with all of this during Covid. My heart goes out to you.>, <Tweet id=1485410131391107072 text=RT @davidfrum: Biden wants to focus on COVID and jobs. Europe just wants secure gas. Ukrainians want to get on with their lives under a gov…>, <Tweet id=1485410131374444546 text=RT @TonyHinton2016: New Zealand 🇳🇿 compared to the UK 🇬🇧 has very likely far less post covid immunity and that is far superior.>]\n",
      "{}\n",
      "[]\n",
      "{'newest_id': '1485410132901117953', 'oldest_id': '1485410131374444546', 'result_count': 10, 'next_token': 'b26v89c19zqg8o3fpe477ykuryvgmnyoir2qgwwy42ovx'}\n"
     ]
    }
   ],
   "source": [
    "query = 'covid'\n",
    "tweets = client.search_recent_tweets(query = query)\n",
    "for tweet in tweets:\n",
    "    print(tweet)"
   ]
  },
  {
   "cell_type": "markdown",
   "metadata": {
    "colab_type": "text",
    "id": "k2NpPlOIJhQ6"
   },
   "source": [
    "The request to see your own recent tweets is similar, but uses the `user_timeline` endpoint. Try this below:"
   ]
  },
  {
   "cell_type": "code",
   "execution_count": 12,
   "metadata": {
    "colab": {},
    "colab_type": "code",
    "id": "QMlhdx5NJhQ6"
   },
   "outputs": [
    {
     "name": "stdout",
     "output_type": "stream",
     "text": [
      "[<Tweet id=1485228290881179651 text=@comamugiri0123 おめでと😎🎉>, <Tweet id=1485169273429389312 text=YouTubeの全動画の中で急上昇1位😎👊🎉見て下さった皆さん、ありがとうございます😭✨\n",
      "\n",
      "家にいきなり長澤まさみさんと生田絵梨花さんが来たんだけど… https://t.co/ZQrtiwLQPg @YouTubeより https://t.co/dvidarB6BW>, <Tweet id=1484868646597890052 text=本日のヒカキンTV、長澤まさみさんと生田絵梨花さんとの超豪華コラボ😂🎉🙏\n",
      "是非ご覧下さい😎👍\n",
      "\n",
      "家にいきなり長澤まさみさんと生田絵梨花さんが来たんだけど… https://t.co/ZQrtiwLQPg @YouTubeより https://t.co/hpRiE6WeUp>, <Tweet id=1484847286987358209 text=RT @confidencemanJP: #コンフィデンスマンTV ⑫\n",
      "説明不要のトップYouTuber #HIKAKIN さんのお宅で、#長澤まさみ さん #生田絵梨花 さんの3人でオサカナ釣りをしました🎣\n",
      "ぜひぜひご覧ください📺\n",
      "\n",
      "#コンフィデンスマンJP #英雄編\n",
      "\n",
      "@h…>, <Tweet id=1484839012565094402 text=ヒカキンゲームズプレミア公開！🎉🎮😎\n",
      "\n",
      "長澤まさみ &amp; 生田絵梨花ゲーム実況デビューwww【ヒカキンゲームズ】 https://t.co/IRXaPe7Y6N @YouTubeより https://t.co/GsMtSLnkP7>, <Tweet id=1484824777928101889 text=ヒカキンTV19時プレミア公開🎉😎\n",
      "\n",
      "家にいきなり長澤まさみさんと生田絵梨花さんが来たんだけど… https://t.co/ZQrtiwuNNg @YouTubeより https://t.co/GE6r5SzTBQ>, <Tweet id=1484565827382767617 text=地震の対象地域の皆さん、不安かと思いますが、余震も気をつけて。 https://t.co/kmqlpTeKEI>, <Tweet id=1483763667401592836 text=ヒカキンTV動画公開！😂🎉\n",
      "\n",
      "【お金無限】中身がわからない福袋クレーンゲームでとりまくったらまさかの中身!? https://t.co/UE68eXVG5l @YouTubeより https://t.co/qSFmvTpbhi>, <Tweet id=1483690029444526082 text=RT @uuum_news: UUUM、日本初となる「Minecraft（マインクラフト）」 と動画クリエイターのコラボ商品化権を取得 https://t.co/EJaUiWpG7e>, <Tweet id=1483022385854902274 text=RT @Yahoo_JAPAN_PR: #全国一斉シェイクアウト訓練 、ヒカキン @hikakin さんにも応援していただいています。\n",
      "みなさんもぜひ一緒に訓練しましょう📣>]\n",
      "{}\n",
      "[]\n",
      "{'oldest_id': '1483022385854902274', 'newest_id': '1485228290881179651', 'result_count': 10, 'next_token': '7140dibdnow9c7btw3z452okbdf9fv5plb9he7lbfezp0'}\n"
     ]
    }
   ],
   "source": [
    "user_id = '130447415'\n",
    "tweets = client.get_users_tweets(id = user_id)\n",
    "for tweet in tweets:\n",
    "    print(tweet)"
   ]
  },
  {
   "cell_type": "markdown",
   "metadata": {
    "colab_type": "text",
    "id": "qY7oM-lJJhQ8"
   },
   "source": [
    "Now, instead of printing the text of each tweet, print the `created_at` and `id_str` methods:"
   ]
  },
  {
   "cell_type": "code",
   "execution_count": 16,
   "metadata": {
    "colab": {},
    "colab_type": "code",
    "id": "aUOlNdG8JhQ9"
   },
   "outputs": [
    {
     "name": "stdout",
     "output_type": "stream",
     "text": [
      "[<Tweet id=1485228290881179651 text=@comamugiri0123 おめでと😎🎉>, <Tweet id=1485169273429389312 text=YouTubeの全動画の中で急上昇1位😎👊🎉見て下さった皆さん、ありがとうございます😭✨\n",
      "\n",
      "家にいきなり長澤まさみさんと生田絵梨花さんが来たんだけど… https://t.co/ZQrtiwLQPg @YouTubeより https://t.co/dvidarB6BW>, <Tweet id=1484868646597890052 text=本日のヒカキンTV、長澤まさみさんと生田絵梨花さんとの超豪華コラボ😂🎉🙏\n",
      "是非ご覧下さい😎👍\n",
      "\n",
      "家にいきなり長澤まさみさんと生田絵梨花さんが来たんだけど… https://t.co/ZQrtiwLQPg @YouTubeより https://t.co/hpRiE6WeUp>, <Tweet id=1484847286987358209 text=RT @confidencemanJP: #コンフィデンスマンTV ⑫\n",
      "説明不要のトップYouTuber #HIKAKIN さんのお宅で、#長澤まさみ さん #生田絵梨花 さんの3人でオサカナ釣りをしました🎣\n",
      "ぜひぜひご覧ください📺\n",
      "\n",
      "#コンフィデンスマンJP #英雄編\n",
      "\n",
      "@h…>, <Tweet id=1484839012565094402 text=ヒカキンゲームズプレミア公開！🎉🎮😎\n",
      "\n",
      "長澤まさみ &amp; 生田絵梨花ゲーム実況デビューwww【ヒカキンゲームズ】 https://t.co/IRXaPe7Y6N @YouTubeより https://t.co/GsMtSLnkP7>, <Tweet id=1484824777928101889 text=ヒカキンTV19時プレミア公開🎉😎\n",
      "\n",
      "家にいきなり長澤まさみさんと生田絵梨花さんが来たんだけど… https://t.co/ZQrtiwuNNg @YouTubeより https://t.co/GE6r5SzTBQ>, <Tweet id=1484565827382767617 text=地震の対象地域の皆さん、不安かと思いますが、余震も気をつけて。 https://t.co/kmqlpTeKEI>, <Tweet id=1483763667401592836 text=ヒカキンTV動画公開！😂🎉\n",
      "\n",
      "【お金無限】中身がわからない福袋クレーンゲームでとりまくったらまさかの中身!? https://t.co/UE68eXVG5l @YouTubeより https://t.co/qSFmvTpbhi>, <Tweet id=1483690029444526082 text=RT @uuum_news: UUUM、日本初となる「Minecraft（マインクラフト）」 と動画クリエイターのコラボ商品化権を取得 https://t.co/EJaUiWpG7e>, <Tweet id=1483022385854902274 text=RT @Yahoo_JAPAN_PR: #全国一斉シェイクアウト訓練 、ヒカキン @hikakin さんにも応援していただいています。\n",
      "みなさんもぜひ一緒に訓練しましょう📣>]\n",
      "{}\n",
      "[]\n",
      "{'oldest_id': '1483022385854902274', 'newest_id': '1485228290881179651', 'result_count': 10, 'next_token': '7140dibdnow9c7btw3z452okbdf9fv5plb9he7lbfezp0'}\n"
     ]
    }
   ],
   "source": [
    "user_id = '130447415'\n",
    "tweets = client.get_users_tweets(id = user_id, tweet_fields =['id', 'created_at'])\n",
    "for tweet in tweets:\n",
    "    print(tweet)"
   ]
  },
  {
   "cell_type": "markdown",
   "metadata": {
    "colab_type": "text",
    "id": "3PibchrmJhQ-"
   },
   "source": [
    "You can create a tweet as follows:"
   ]
  },
  {
   "cell_type": "code",
   "execution_count": 0,
   "metadata": {
    "colab": {},
    "colab_type": "code",
    "id": "IwzTjf1gJhQ_"
   },
   "outputs": [],
   "source": [
    "# create a tweet:\n",
    "tweet = api.update_status('Test: Made with Tweepy')"
   ]
  },
  {
   "cell_type": "markdown",
   "metadata": {
    "colab_type": "text",
    "id": "TtlXvbjoJhRB"
   },
   "source": [
    "(Nb. Don't abuse this feature! If you try to generate a zillion tweets in a loop, Twitter will ban youur account.)"
   ]
  },
  {
   "cell_type": "markdown",
   "metadata": {
    "colab_type": "text",
    "id": "awUIiruTJhRB"
   },
   "source": [
    "Tweets can be deleted by reference to their `id_str` attribute:"
   ]
  },
  {
   "cell_type": "code",
   "execution_count": 0,
   "metadata": {
    "colab": {},
    "colab_type": "code",
    "id": "tKPSCOEBJhRC"
   },
   "outputs": [],
   "source": [
    "# delete a tweet:\n",
    "status = api.destroy_status(tweet.id_str)"
   ]
  },
  {
   "cell_type": "markdown",
   "metadata": {
    "colab_type": "text",
    "id": "hEt9NWJBJhRE"
   },
   "source": [
    "You can follow a Tweeter:"
   ]
  },
  {
   "cell_type": "code",
   "execution_count": 0,
   "metadata": {
    "colab": {},
    "colab_type": "code",
    "id": "CDWxR8wOJhRF"
   },
   "outputs": [],
   "source": [
    "# follow:\n",
    "api.create_friendship('@YouTube')"
   ]
  },
  {
   "cell_type": "markdown",
   "metadata": {
    "colab_type": "text",
    "id": "Nbp2vRONJhRH"
   },
   "source": [
    "or unfollow:"
   ]
  },
  {
   "cell_type": "code",
   "execution_count": 0,
   "metadata": {
    "colab": {},
    "colab_type": "code",
    "id": "wCsNNVT9JhRH"
   },
   "outputs": [],
   "source": [
    "# unfollow:\n",
    "api.destroy_friendship('@YouTube')"
   ]
  },
  {
   "cell_type": "code",
   "execution_count": 0,
   "metadata": {
    "colab": {},
    "colab_type": "code",
    "id": "ND4BmdkvJhRJ"
   },
   "outputs": [],
   "source": []
  },
  {
   "cell_type": "markdown",
   "metadata": {
    "colab_type": "text",
    "id": "59l7EOATJrJO"
   },
   "source": [
    "\n",
    "\n",
    "---\n",
    "\n",
    "\n",
    "\n",
    "---\n",
    "\n",
    "\n",
    "\n",
    "> > > > > > > > > © 2021 Institute of Data\n",
    "\n",
    "\n",
    "---\n",
    "\n",
    "\n",
    "\n",
    "---\n",
    "\n",
    "\n",
    "\n"
   ]
  }
 ],
 "metadata": {
  "colab": {
   "collapsed_sections": [],
   "name": "DSIA Lab 2.2.2.ipynb",
   "provenance": []
  },
  "kernelspec": {
   "display_name": "Python 3",
   "language": "python",
   "name": "python3"
  },
  "language_info": {
   "codemirror_mode": {
    "name": "ipython",
    "version": 3
   },
   "file_extension": ".py",
   "mimetype": "text/x-python",
   "name": "python",
   "nbconvert_exporter": "python",
   "pygments_lexer": "ipython3",
   "version": "3.8.8"
  }
 },
 "nbformat": 4,
 "nbformat_minor": 1
}
