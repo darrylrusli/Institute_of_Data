{
 "cells": [
  {
   "cell_type": "markdown",
   "metadata": {
    "colab_type": "text",
    "id": "XfnQYVMtJhQD"
   },
   "source": [
    "<div>\n",
    "<img src=https://www.institutedata.com/wp-content/uploads/2019/10/iod_h_tp_primary_c.svg width=\"300\">\n",
    "</div>\n"
   ]
  },
  {
   "cell_type": "markdown",
   "metadata": {
    "colab_type": "text",
    "id": "5dCt8XbjJhQG"
   },
   "source": [
    "# Lab 3.2.2 \n",
    "# *Mining Social Media with Twitter*"
   ]
  },
  {
   "cell_type": "markdown",
   "metadata": {
    "colab_type": "text",
    "id": "b5VfS9hhJhQI"
   },
   "source": [
    "## The Twitter API and Tweepy Package"
   ]
  },
  {
   "cell_type": "markdown",
   "metadata": {
    "colab_type": "text",
    "id": "lF2z-w5uJhQK"
   },
   "source": [
    "The Twitter API provides access to tweets and comments, and allows an application to post tweets to the user's timeline. \n",
    "\n",
    "Twitter requires developers to create and authenticate an app before they can use the API. As of recent policy changes, however, new developers must be approved before they can create an app. There is no indication of the waiting period for approval."
   ]
  },
  {
   "cell_type": "markdown",
   "metadata": {
    "colab_type": "text",
    "id": "M0wxJ8HNJhQM"
   },
   "source": [
    "### 1. Apply for Developer Access\n",
    "\n",
    "Go to https://blog.twitter.com/developer/en_us/topics/tools/2018/new-developer-requirements-to-protect-our-platform.html\n",
    "and read the advice.\n"
   ]
  },
  {
   "cell_type": "markdown",
   "metadata": {
    "colab_type": "text",
    "id": "tICSKwL1JhQN"
   },
   "source": [
    "Apply at https://developer.twitter.com/en/apply-for-access.html. Where asked state that you will use the app as a student to explore the tweepy Python library and use it to fetch recent tweets and to create/delete a tweet."
   ]
  },
  {
   "cell_type": "markdown",
   "metadata": {
    "colab_type": "text",
    "id": "NMeZ70IZJhQR"
   },
   "source": [
    "### 2. Create Your Twitter App\n",
    "Go to https://developer.twitter.com/en/portal/projects-and-apps and click on the \"+ Create App\" button. Give your app a name and then you will be able to generate Consumer Keys (API key & secret) and Authentication Tokens (Access token & secret). Copy-paste these authentication details for use in this lab."
   ]
  },
  {
   "cell_type": "markdown",
   "metadata": {
    "colab_type": "text",
    "id": "HpWMHz9NJhQS"
   },
   "source": [
    "### 3. Load Python Libraries"
   ]
  },
  {
   "cell_type": "code",
   "execution_count": 1,
   "metadata": {
    "colab": {},
    "colab_type": "code",
    "id": "16hb8EpNJhQU"
   },
   "outputs": [],
   "source": [
    "import tweepy\n",
    "import json\n",
    "import pprint\n",
    "import config\n",
    "import configparser"
   ]
  },
  {
   "cell_type": "code",
   "execution_count": 2,
   "metadata": {},
   "outputs": [
    {
     "name": "stdout",
     "output_type": "stream",
     "text": [
      "4.4.0\n"
     ]
    }
   ],
   "source": [
    "print(tweepy.__version__)"
   ]
  },
  {
   "cell_type": "markdown",
   "metadata": {
    "colab_type": "text",
    "id": "p7W0se6_JhQX"
   },
   "source": [
    "### 4. Authenticate from your Python script"
   ]
  },
  {
   "cell_type": "markdown",
   "metadata": {
    "colab_type": "text",
    "id": "mJfe55dVJhQY"
   },
   "source": [
    "You could assign your authentication details explicitly, as follows:"
   ]
  },
  {
   "cell_type": "code",
   "execution_count": 3,
   "metadata": {},
   "outputs": [],
   "source": [
    "client = tweepy.Client(bearer_token = config.BEARER_TOKEN,\n",
    "                       consumer_key = config.API_KEY,\n",
    "                       consumer_secret = config.API_KEY_SECRET,\n",
    "                       access_token = config.ACCESS_TOKEN,\n",
    "                       access_token_secret = config.ACCESS_TOKEN_SECRET\n",
    "                       )"
   ]
  },
  {
   "cell_type": "code",
   "execution_count": 4,
   "metadata": {},
   "outputs": [],
   "source": [
    "# config = configparser.ConfigParser()\n",
    "# config.read('config.ini')"
   ]
  },
  {
   "cell_type": "code",
   "execution_count": 5,
   "metadata": {},
   "outputs": [],
   "source": [
    "# api_key = config['twitter']['api_key']\n",
    "# api_key_secret = config['twitter']['api_key_secret']\n",
    "# access_token = config['twitter']['access_token']\n",
    "# access_token_secret = config['twitter']['access_token_secret']"
   ]
  },
  {
   "cell_type": "markdown",
   "metadata": {
    "colab_type": "text",
    "id": "7LXwmSzOJhQe"
   },
   "source": [
    "A better way would be to store these details externally, so they are not displayed in the notebook:\n",
    "\n",
    "- create a file called \"auth_twitter.json\" in your \"notebooks\" directory, and save your credentials there in JSON format:\n",
    "\n",
    "`{`<br>\n",
    "&nbsp;&nbsp;&nbsp;&nbsp;&nbsp;&nbsp;&nbsp;&nbsp;`   \"consumer_key\": \"your consumer key (string) goes in here\",` <br>\n",
    "&nbsp;&nbsp;&nbsp;&nbsp;&nbsp;&nbsp;&nbsp;&nbsp;` \"consumer_secret\": \"your consumer secret key (string) goes in here\",` <br>\n",
    "&nbsp;&nbsp;&nbsp;&nbsp;&nbsp;&nbsp;&nbsp;&nbsp;`\"access_token\": \"your access token (string) goes in here\",` <br>\n",
    "&nbsp;&nbsp;&nbsp;&nbsp;&nbsp;&nbsp;&nbsp;&nbsp;`\"access_token_secret\": \"your access token secret (string) goes in here\"` <br>\n",
    "`}`\n",
    "\n",
    "(Nb. Parsers are very fussy. Make sure each key:value pair has a comma after it except the last one!)  \n",
    "\n",
    "Use the following code to load the credentials:  "
   ]
  },
  {
   "cell_type": "code",
   "execution_count": 6,
   "metadata": {
    "colab": {},
    "colab_type": "code",
    "id": "kh2srKpzJhQh"
   },
   "outputs": [
    {
     "data": {
      "text/plain": [
       "'C:\\\\Users\\\\darry\\\\OneDrive\\\\Desktop\\\\Institute_of_Data'"
      ]
     },
     "execution_count": 6,
     "metadata": {},
     "output_type": "execute_result"
    }
   ],
   "source": [
    "pwd()  # make sure your working directory is where the file is"
   ]
  },
  {
   "cell_type": "markdown",
   "metadata": {
    "colab_type": "text",
    "id": "Ln30k0pZJhQp"
   },
   "source": [
    "### 5. Exploring the API"
   ]
  },
  {
   "cell_type": "markdown",
   "metadata": {
    "colab_type": "text",
    "id": "6fsc0U1nJhQq"
   },
   "source": [
    "Here is how to connect to Twitter using the Tweepy library:"
   ]
  },
  {
   "cell_type": "code",
   "execution_count": 7,
   "metadata": {},
   "outputs": [],
   "source": [
    "# auth = tweepy.OAuthHandler(api_key, api_key_secret)\n",
    "# auth.set_access_token(access_token, access_token_secret)\n",
    "# api = tweepy.API(auth)"
   ]
  },
  {
   "cell_type": "markdown",
   "metadata": {
    "colab_type": "text",
    "id": "GPRmYZigJhQp"
   },
   "source": [
    "Security considerations: \n",
    "- this method only keeps your credentials invisible as long as nobody accesses this notebook while it's running on your computer \n",
    "- if you wanted another user to have access to the executable notebook without divulging your credentials you should set up an OAuth 2.0 workflow to let them obtain and apply their own API tokens when using your app\n",
    "- if you just want to share your analyses, you could use a separate script (which you don't share) to fetch the data and save it locally, then use a second notebook (with no API access) to load and analyse the locally stored data"
   ]
  },
  {
   "cell_type": "markdown",
   "metadata": {
    "colab_type": "text",
    "id": "wSKzR9LdJhQu"
   },
   "source": [
    "In the next cell, put the cursor after the '.' and hit the [tab] key to see the available members and methods in the response object:"
   ]
  },
  {
   "cell_type": "markdown",
   "metadata": {
    "colab_type": "text",
    "id": "DcJ-cc6zJhQz"
   },
   "source": [
    "Consult the Tweept and Twitter API documentation. Print a few of the response members below:"
   ]
  },
  {
   "cell_type": "code",
   "execution_count": 8,
   "metadata": {},
   "outputs": [
    {
     "data": {
      "text/plain": [
       "Response(data=<User id=806643290745475073 name=New Branches username=new_branches>, includes={}, errors=[], meta={})"
      ]
     },
     "execution_count": 8,
     "metadata": {},
     "output_type": "execute_result"
    }
   ],
   "source": [
    "users = client.get_user(username = 'new_branches', user_fields = 'name')\n",
    "users"
   ]
  },
  {
   "cell_type": "code",
   "execution_count": 9,
   "metadata": {
    "colab": {},
    "colab_type": "code",
    "id": "W_IKqMAQJhQ1"
   },
   "outputs": [
    {
     "name": "stdout",
     "output_type": "stream",
     "text": [
      "[<Tweet id=1485811653761548295 text=RT @GeorgePapa19: Inflation is at a 40 year high, the stock market is crashing, the Covid pandemic is raging and the border is wide open. D…>, <Tweet id=1485811653606359043 text=@BobLavalleS La rosa de Guadalupe o el COVID bro? Recupérate mi buen Bob! Abrazo>, <Tweet id=1485811653413380099 text=RT @Lenoblemarie1: La Cour de justice de la République classe sans suite près de 20 000 plaintes contre  @JeanCASTEX et plusieurs ministres…>, <Tweet id=1485811652746350592 text=RT @AKA_RealDirty: .@SenRonJohnson host a panel offering a “second opinion“ for the Covid virus. https://t.co/8exD98o32M>, <Tweet id=1485811652616458244 text=RT @clement_brunel: @hopoietes On ne sait jamais, un sanglier positif au covid pourrait traverser le sentier, et ce, 25.4m devant nous ce q…>, <Tweet id=1485811652549296128 text=e eu q vou ficar até semana q vem na casa da milena pq todo mundo lá em casa tá com covid>, <Tweet id=1485811652347895808 text=RT @NNUBonnie: Since we launched our petition demanding @GavinNewsom reverse the new guidance that sends asymptomatic CA health care worker…>, <Tweet id=1485811652301840384 text=National Protocol for Cominarty for 5 to 11 years of age at risk children published today, https://t.co/Qy2Jarm4b1>, <Tweet id=1485811652050231298 text=RT @SenRonJohnson: Why haven't we let doctors be doctors?\n",
      "Dr. Paul Marik's experience treating Covid-19 patients is heartbreaking. https://…>, <Tweet id=1485811651492392960 text=RT @cinderelabaiana: jade, lina e arthur não ficaram no pódio de ninguém e precisam URGENTE formar a colisão covid>, <Tweet id=1485811651337244672 text=Doesn't the head of Fort Detrick need to come out and respond? If I remember correctly, this base is still closed right now.#COVID-19\n",
      "https://t.co/xotTF4UkYk>, <Tweet id=1485811651232206851 text=RT @Pajaropolitico: La @SSalud_mx estima que hay 294 mil 29 casos activos de COVID en el país. Hasta este lunes se han confirmado 303 mil 3…>, <Tweet id=1485811651140067332 text=RT @GalindoDoc: En nuestro hospital han estado llegando pacientes con CROUP, muchos COVID +, probablemente por la nueva variante 🦠, por lo…>, <Tweet id=1485811650942812161 text=RT @gamaride: Acabando de vacunarnos el refuerzo para COVID, farmacéutica Moderna, ahora debemos vacunar a nuestros jóvenes y niños, son 40…>, <Tweet id=1485811649546125312 text=RT @mvmeet: Today, NDTV ran a report saying COVID cases in Karnataka increased after Sankrathi festival\n",
      "\n",
      "In reality, the COVID cases increa…>, <Tweet id=1485811649290424331 text=3⃣📍¿Es Omicron ahora\"como la gripe\",lo que significa que podemos relajarnos,y pasar por alto la crisis en los hospitales,récord de hospitalización de niños, el continuo peligro mortal para las personas mayores y clínicamente vulnerables, y la sombra alargada de la larga Covid?>, <Tweet id=1485811648799596544 text=@ANCALERTS Priorities ni atty. Rodrigo Dudirty.\n",
      "\n",
      "For almost 2 yrs. yan ang covid response niya at pre-recorded &amp; heavily edited aired at midnight. Puro personal attacks at chismis. \n",
      "\n",
      "Nababoy at tuluyang binaboy ng mayor na ito ang Pilipinas.\n",
      "\n",
      "#WorstPresidentEver\n",
      "#Philippines\n",
      "#Marites>, <Tweet id=1485811648774520834 text=Got a negative covid test even though I swear I'm losing my smell... Hmm... What if that pregnancy test was a false negative too 😅>, <Tweet id=1485811648552378370 text=Senin, 24/1/2022 Kasi Kesra Bonang Untung Waluyono, SH bersama staff  Kecamatan Bonang Monitoring  Giat Vaksin Covid-19 Dosis 1, 2, dan 3 di Puskesmas Bonang II Kecamatan Bonang.\n",
      "See this Instagram photo by @kec_bonang https://t.co/TYwDC4Ljlj>]\n",
      "{}\n",
      "[]\n",
      "{'newest_id': '1485811653761548295', 'oldest_id': '1485811648552378370', 'result_count': 19, 'next_token': 'b26v89c19zqg8o3fpe47873reueop0jxi1twhp3x4l7ct'}\n"
     ]
    }
   ],
   "source": [
    "query = 'covid'\n",
    "tweets = client.search_recent_tweets(query = query, max_results = 20)\n",
    "tweets\n",
    "for tweet in tweets:\n",
    "    print(tweet)"
   ]
  },
  {
   "cell_type": "markdown",
   "metadata": {
    "colab_type": "text",
    "id": "dLkdLKjLJhQ3"
   },
   "source": [
    "This will fetch recent tweets from accounts you follow:"
   ]
  },
  {
   "cell_type": "code",
   "execution_count": 10,
   "metadata": {},
   "outputs": [
    {
     "name": "stdout",
     "output_type": "stream",
     "text": [
      "[<Tweet id=1485811657796321283 text=The school mask wars come to northern Virginia https://t.co/ueZGJwVT1g via @YahooNews \n",
      "Yes, you always want people with business degrees making medical decisions. That explains the increase in Covid deaths.>, <Tweet id=1485811657632747523 text=RT @RobertGehrke: Utah’s weekend Covid data:\n",
      "🌡 21,970 cases, ⬇️7,977 from prior week\n",
      "🎓 3,309 school-aged cases\n",
      "😔 33 deaths, 4,063 total \n",
      "🏥…>, <Tweet id=1485811657615949826 text=Doctor's license suspended after treating COVID with Ivermectin #SmartNews  https://t.co/H1vKMiRiTa>, <Tweet id=1485811657548963845 text=RT @veraholtzirreal: Vazou imagem do único lugar onde a COVID se propaga, nos outros eventos privados ela é barrada na porta https://t.co/e…>, <Tweet id=1485811657377030146 text=RT @Peintre: “‘Grow up’ Doctor responds to Bari Weiss’ Covid restriction comments”\n",
      "https://t.co/TMMq9NmVQg>, <Tweet id=1485811657171697665 text=RT @TheConsultant18: Dan Wootton a New Zealander based in the UK gives an honest perspective to the Daily Mail on Jacinda Ardern and her Go…>, <Tweet id=1485811656798179333 text=RT @MinSaludCol: ¡Recuerda! Las personas NO vacunadas, o con esquema de vacunación incompleto, que presenten síntomas de COVID-19 o hayan t…>, <Tweet id=1485811656655622145 text=RT @katiebparis: Are we fed up with Covid? Hell, yes. \n",
      "\n",
      "Are we gonna let Republicans manipulate us into thinking they suddenly care about u…>, <Tweet id=1485811656349437953 text=@J83182776 @KilluaZ990 @libertynj @benshapiro Again, my point is unvaccinated covid patients put our hospital infrastructure on the brink of collapse. When was the last time heart patients did that?>, <Tweet id=1485811656324268034 text=RT @LRPow79: In schools kids with lice aren’t allowed to be around kids without lice. Why do parents discriminate the lice infested childre…>]\n",
      "{}\n",
      "[]\n",
      "{'newest_id': '1485811657796321283', 'oldest_id': '1485811656324268034', 'result_count': 10, 'next_token': 'b26v89c19zqg8o3fpe47873reueprlhnc10jhi7cilfnh'}\n"
     ]
    }
   ],
   "source": [
    "query = 'covid'\n",
    "tweets = client.search_recent_tweets(query = query)\n",
    "for tweet in tweets:\n",
    "    print(tweet)"
   ]
  },
  {
   "cell_type": "markdown",
   "metadata": {
    "colab_type": "text",
    "id": "k2NpPlOIJhQ6"
   },
   "source": [
    "The request to see your own recent tweets is similar, but uses the `user_timeline` endpoint. Try this below:"
   ]
  },
  {
   "cell_type": "code",
   "execution_count": 11,
   "metadata": {
    "colab": {},
    "colab_type": "code",
    "id": "QMlhdx5NJhQ6"
   },
   "outputs": [
    {
     "name": "stdout",
     "output_type": "stream",
     "text": [
      "[<Tweet id=1485587595312922624 text=ヒカキンTVプレミア公開！🎉😎🎁\n",
      "\n",
      "YouTubeから謎の箱届いて開封したら中身過去一ヤバすぎwww【謎のダンボール】 https://t.co/zkdiKcuhMa @YouTubeより https://t.co/gg285e11dq>, <Tweet id=1485228290881179651 text=@comamugiri0123 おめでと😎🎉>, <Tweet id=1485169273429389312 text=YouTubeの全動画の中で急上昇1位😎👊🎉見て下さった皆さん、ありがとうございます😭✨\n",
      "\n",
      "家にいきなり長澤まさみさんと生田絵梨花さんが来たんだけど… https://t.co/ZQrtiwLQPg @YouTubeより https://t.co/dvidarB6BW>, <Tweet id=1484868646597890052 text=本日のヒカキンTV、長澤まさみさんと生田絵梨花さんとの超豪華コラボ😂🎉🙏\n",
      "是非ご覧下さい😎👍\n",
      "\n",
      "家にいきなり長澤まさみさんと生田絵梨花さんが来たんだけど… https://t.co/ZQrtiwLQPg @YouTubeより https://t.co/hpRiE6WeUp>, <Tweet id=1484847286987358209 text=RT @confidencemanJP: #コンフィデンスマンTV ⑫\n",
      "説明不要のトップYouTuber #HIKAKIN さんのお宅で、#長澤まさみ さん #生田絵梨花 さんの3人でオサカナ釣りをしました🎣\n",
      "ぜひぜひご覧ください📺\n",
      "\n",
      "#コンフィデンスマンJP #英雄編\n",
      "\n",
      "@h…>, <Tweet id=1484839012565094402 text=ヒカキンゲームズプレミア公開！🎉🎮😎\n",
      "\n",
      "長澤まさみ &amp; 生田絵梨花ゲーム実況デビューwww【ヒカキンゲームズ】 https://t.co/IRXaPe7Y6N @YouTubeより https://t.co/GsMtSLnkP7>, <Tweet id=1484824777928101889 text=ヒカキンTV19時プレミア公開🎉😎\n",
      "\n",
      "家にいきなり長澤まさみさんと生田絵梨花さんが来たんだけど… https://t.co/ZQrtiwuNNg @YouTubeより https://t.co/GE6r5SzTBQ>, <Tweet id=1484565827382767617 text=地震の対象地域の皆さん、不安かと思いますが、余震も気をつけて。 https://t.co/kmqlpTeKEI>, <Tweet id=1483763667401592836 text=ヒカキンTV動画公開！😂🎉\n",
      "\n",
      "【お金無限】中身がわからない福袋クレーンゲームでとりまくったらまさかの中身!? https://t.co/UE68eXVG5l @YouTubeより https://t.co/qSFmvTpbhi>, <Tweet id=1483690029444526082 text=RT @uuum_news: UUUM、日本初となる「Minecraft（マインクラフト）」 と動画クリエイターのコラボ商品化権を取得 https://t.co/EJaUiWpG7e>]\n",
      "{}\n",
      "[]\n",
      "{'oldest_id': '1483690029444526082', 'newest_id': '1485587595312922624', 'result_count': 10, 'next_token': '7140dibdnow9c7btw3z452qdcjlns49dertn8kaxpyqlu'}\n"
     ]
    }
   ],
   "source": [
    "user_id = '130447415'\n",
    "tweets = client.get_users_tweets(id = user_id)\n",
    "for tweet in tweets:\n",
    "    print(tweet)"
   ]
  },
  {
   "cell_type": "markdown",
   "metadata": {
    "colab_type": "text",
    "id": "qY7oM-lJJhQ8"
   },
   "source": [
    "Now, instead of printing the text of each tweet, print the `created_at` and `id_str` methods:"
   ]
  },
  {
   "cell_type": "code",
   "execution_count": 12,
   "metadata": {
    "colab": {},
    "colab_type": "code",
    "id": "aUOlNdG8JhQ9"
   },
   "outputs": [
    {
     "name": "stdout",
     "output_type": "stream",
     "text": [
      "[<Tweet id=1485587595312922624 text=ヒカキンTVプレミア公開！🎉😎🎁\n",
      "\n",
      "YouTubeから謎の箱届いて開封したら中身過去一ヤバすぎwww【謎のダンボール】 https://t.co/zkdiKcuhMa @YouTubeより https://t.co/gg285e11dq>, <Tweet id=1485228290881179651 text=@comamugiri0123 おめでと😎🎉>, <Tweet id=1485169273429389312 text=YouTubeの全動画の中で急上昇1位😎👊🎉見て下さった皆さん、ありがとうございます😭✨\n",
      "\n",
      "家にいきなり長澤まさみさんと生田絵梨花さんが来たんだけど… https://t.co/ZQrtiwLQPg @YouTubeより https://t.co/dvidarB6BW>, <Tweet id=1484868646597890052 text=本日のヒカキンTV、長澤まさみさんと生田絵梨花さんとの超豪華コラボ😂🎉🙏\n",
      "是非ご覧下さい😎👍\n",
      "\n",
      "家にいきなり長澤まさみさんと生田絵梨花さんが来たんだけど… https://t.co/ZQrtiwLQPg @YouTubeより https://t.co/hpRiE6WeUp>, <Tweet id=1484847286987358209 text=RT @confidencemanJP: #コンフィデンスマンTV ⑫\n",
      "説明不要のトップYouTuber #HIKAKIN さんのお宅で、#長澤まさみ さん #生田絵梨花 さんの3人でオサカナ釣りをしました🎣\n",
      "ぜひぜひご覧ください📺\n",
      "\n",
      "#コンフィデンスマンJP #英雄編\n",
      "\n",
      "@h…>, <Tweet id=1484839012565094402 text=ヒカキンゲームズプレミア公開！🎉🎮😎\n",
      "\n",
      "長澤まさみ &amp; 生田絵梨花ゲーム実況デビューwww【ヒカキンゲームズ】 https://t.co/IRXaPe7Y6N @YouTubeより https://t.co/GsMtSLnkP7>, <Tweet id=1484824777928101889 text=ヒカキンTV19時プレミア公開🎉😎\n",
      "\n",
      "家にいきなり長澤まさみさんと生田絵梨花さんが来たんだけど… https://t.co/ZQrtiwuNNg @YouTubeより https://t.co/GE6r5SzTBQ>, <Tweet id=1484565827382767617 text=地震の対象地域の皆さん、不安かと思いますが、余震も気をつけて。 https://t.co/kmqlpTeKEI>, <Tweet id=1483763667401592836 text=ヒカキンTV動画公開！😂🎉\n",
      "\n",
      "【お金無限】中身がわからない福袋クレーンゲームでとりまくったらまさかの中身!? https://t.co/UE68eXVG5l @YouTubeより https://t.co/qSFmvTpbhi>, <Tweet id=1483690029444526082 text=RT @uuum_news: UUUM、日本初となる「Minecraft（マインクラフト）」 と動画クリエイターのコラボ商品化権を取得 https://t.co/EJaUiWpG7e>]\n",
      "{}\n",
      "[]\n",
      "{'oldest_id': '1483690029444526082', 'newest_id': '1485587595312922624', 'result_count': 10, 'next_token': '7140dibdnow9c7btw3z452qdcjlns49dertn8kaxpyqlu'}\n"
     ]
    }
   ],
   "source": [
    "user_id = '130447415'\n",
    "tweets = client.get_users_tweets(id = user_id, tweet_fields =['id', 'created_at'])\n",
    "for tweet in tweets:\n",
    "    print(tweet)"
   ]
  },
  {
   "cell_type": "markdown",
   "metadata": {
    "colab_type": "text",
    "id": "3PibchrmJhQ-"
   },
   "source": [
    "You can create a tweet as follows:"
   ]
  },
  {
   "cell_type": "code",
   "execution_count": 13,
   "metadata": {
    "colab": {},
    "colab_type": "code",
    "id": "IwzTjf1gJhQ_"
   },
   "outputs": [
    {
     "name": "stdout",
     "output_type": "stream",
     "text": [
      "Response(data={'id': '1485811706379239425', 'text': 'Hello World'}, includes={}, errors=[], meta={})\n"
     ]
    }
   ],
   "source": [
    "# create a tweet:\n",
    "response = client.create_tweet(text = 'Hello World')\n",
    "print(response)"
   ]
  },
  {
   "cell_type": "markdown",
   "metadata": {
    "colab_type": "text",
    "id": "TtlXvbjoJhRB"
   },
   "source": [
    "(Nb. Don't abuse this feature! If you try to generate a zillion tweets in a loop, Twitter will ban youur account.)"
   ]
  },
  {
   "cell_type": "markdown",
   "metadata": {
    "colab_type": "text",
    "id": "awUIiruTJhRB"
   },
   "source": [
    "Tweets can be deleted by reference to their `id_str` attribute:"
   ]
  },
  {
   "cell_type": "code",
   "execution_count": 14,
   "metadata": {
    "colab": {},
    "colab_type": "code",
    "id": "tKPSCOEBJhRC"
   },
   "outputs": [],
   "source": [
    "# delete a tweet:\n",
    "status = client.delete_tweet(id = '1485809361247404037')"
   ]
  },
  {
   "cell_type": "markdown",
   "metadata": {
    "colab_type": "text",
    "id": "hEt9NWJBJhRE"
   },
   "source": [
    "You can follow a Tweeter:"
   ]
  },
  {
   "cell_type": "code",
   "execution_count": 15,
   "metadata": {
    "colab": {},
    "colab_type": "code",
    "id": "CDWxR8wOJhRF"
   },
   "outputs": [
    {
     "data": {
      "text/plain": [
       "Response(data={'following': True, 'pending_follow': False}, includes={}, errors=[], meta={})"
      ]
     },
     "execution_count": 15,
     "metadata": {},
     "output_type": "execute_result"
    }
   ],
   "source": [
    "# follow:\n",
    "client.follow_user(target_user_id = '1174426031010152448')"
   ]
  },
  {
   "cell_type": "markdown",
   "metadata": {
    "colab_type": "text",
    "id": "Nbp2vRONJhRH"
   },
   "source": [
    "or unfollow:"
   ]
  },
  {
   "cell_type": "code",
   "execution_count": 16,
   "metadata": {
    "colab": {},
    "colab_type": "code",
    "id": "wCsNNVT9JhRH"
   },
   "outputs": [],
   "source": [
    "# unfollow:\n",
    "client.unfollow(target_user_id = '1174426031010152448')"
   ]
  },
  {
   "cell_type": "markdown",
   "metadata": {
    "colab_type": "text",
    "id": "59l7EOATJrJO"
   },
   "source": [
    "\n",
    "\n",
    "---\n",
    "\n",
    "\n",
    "\n",
    "---\n",
    "\n",
    "\n",
    "\n",
    "> > > > > > > > > © 2021 Institute of Data\n",
    "\n",
    "\n",
    "---\n",
    "\n",
    "\n",
    "\n",
    "---\n",
    "\n",
    "\n",
    "\n"
   ]
  }
 ],
 "metadata": {
  "colab": {
   "collapsed_sections": [],
   "name": "DSIA Lab 2.2.2.ipynb",
   "provenance": []
  },
  "kernelspec": {
   "display_name": "Python 3",
   "language": "python",
   "name": "python3"
  },
  "language_info": {
   "codemirror_mode": {
    "name": "ipython",
    "version": 3
   },
   "file_extension": ".py",
   "mimetype": "text/x-python",
   "name": "python",
   "nbconvert_exporter": "python",
   "pygments_lexer": "ipython3",
   "version": "3.8.8"
  }
 },
 "nbformat": 4,
 "nbformat_minor": 1
}
