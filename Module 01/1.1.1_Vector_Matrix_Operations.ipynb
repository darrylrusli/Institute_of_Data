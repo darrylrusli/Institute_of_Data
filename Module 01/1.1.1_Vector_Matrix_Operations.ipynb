{
 "cells": [
  {
   "cell_type": "markdown",
   "metadata": {
    "colab_type": "text",
    "id": "emj1GNgIT3CB"
   },
   "source": [
    "<div>\n",
    "<img src=https://www.institutedata.com/wp-content/uploads/2019/10/iod_h_tp_primary_c.svg width=\"300\">\n",
    "</div>\n",
    "\n",
    "# Linear Algebra - Part 1"
   ]
  },
  {
   "cell_type": "code",
   "execution_count": 3,
   "metadata": {
    "ExecuteTime": {
     "end_time": "2019-06-27T03:58:34.200170Z",
     "start_time": "2019-06-27T03:58:34.196182Z"
    },
    "colab": {},
    "colab_type": "code",
    "id": "JkwM7G3IT3CD"
   },
   "outputs": [],
   "source": [
    "import numpy as np"
   ]
  },
  {
   "cell_type": "markdown",
   "metadata": {
    "colab_type": "text",
    "id": "FvN6xzeyT3CC"
   },
   "source": [
    "### 1. Compute the scaler product of two vectors\n",
    "\n",
    "In mathematics, the dot product or scalar product is an algebraic operation that takes two equal-length sequences of numbers (usually coordinate vectors) and returns a single number. \n",
    "\n",
    "We can calculate it this way:\n",
    "\n",
    "        a · b = ax × bx + ay × by\n",
    "        \n",
    "Hint: [Dot Product](https://www.mathsisfun.com/algebra/vectors-dot-product.html)\n",
    "\n",
    "```\n",
    "# Expected Output:\n",
    "0\n",
    "```"
   ]
  },
  {
   "cell_type": "code",
   "execution_count": 4,
   "metadata": {
    "ExecuteTime": {
     "end_time": "2019-06-27T04:56:56.317427Z",
     "start_time": "2019-06-27T04:56:56.313425Z"
    },
    "colab": {},
    "colab_type": "code",
    "id": "rsOPN02pT3CG"
   },
   "outputs": [],
   "source": [
    "a = [-12, 16]\n",
    "b = [12, 9]"
   ]
  },
  {
   "cell_type": "code",
   "execution_count": 5,
   "metadata": {},
   "outputs": [
    {
     "data": {
      "text/plain": [
       "0"
      ]
     },
     "execution_count": 5,
     "metadata": {},
     "output_type": "execute_result"
    }
   ],
   "source": [
    "#ANSWER (1 line)\n",
    "np.dot(a,b)"
   ]
  },
  {
   "cell_type": "markdown",
   "metadata": {
    "ExecuteTime": {
     "end_time": "2019-06-27T03:59:49.939731Z",
     "start_time": "2019-06-27T03:59:49.934711Z"
    },
    "colab_type": "text",
    "id": "cIamVopdT3CI"
   },
   "source": [
    "### 2. Compute the cross product of two vectors\n",
    "\n",
    "> When a and b start at the origin point (0,0,0), the Cross Product will end at:\n",
    "\n",
    "        cx = aybz − azby\n",
    "        cy = azbx − axbz\n",
    "        cz = axby − aybx\n",
    "        \n",
    "Hint: [Cross Product](https://www.mathsisfun.com/algebra/vectors-cross-product.html)\n",
    "```\n",
    "# Expected Output:\n",
    "array([[-3,  6, -3],\n",
    "       [ 3, -6,  3]])\n",
    "```"
   ]
  },
  {
   "cell_type": "code",
   "execution_count": 6,
   "metadata": {
    "ExecuteTime": {
     "end_time": "2019-06-27T04:56:59.994576Z",
     "start_time": "2019-06-27T04:56:59.987594Z"
    },
    "colab": {},
    "colab_type": "code",
    "id": "L9FjAAzNT3CJ"
   },
   "outputs": [],
   "source": [
    "x = np.array([[1,2,3], [4,5,6]])\n",
    "y = np.array([[4,5,6], [1,2,3]])"
   ]
  },
  {
   "cell_type": "code",
   "execution_count": 7,
   "metadata": {},
   "outputs": [
    {
     "data": {
      "text/plain": [
       "array([[-3,  6, -3],\n",
       "       [ 3, -6,  3]])"
      ]
     },
     "execution_count": 7,
     "metadata": {},
     "output_type": "execute_result"
    }
   ],
   "source": [
    "#ANSWER (1 line)\n",
    "np.cross(x,y)"
   ]
  },
  {
   "cell_type": "markdown",
   "metadata": {
    "colab_type": "text",
    "id": "2M2dKNL-T3CL"
   },
   "source": [
    "### 3. Compute the Hademard product (entry-wise multiplication) of two vectors.\n",
    "\n",
    "> In mathematics, the Hadamard product (also known as the Schur product[1] or the entrywise product[2]:ch. 5) is a binary operation that takes two matrices of the same dimensions and produces another matrix of the same dimension as the operands where each element i, j is the product of elements i, j of the original two matrices. It should not be confused with the more common matrix product. It is attributed to, and named after, either French mathematician Jacques Hadamard or German mathematician Issai Schur. [Wiki](https://en.wikipedia.org/wiki/Hadamard_product_(matrices))\n",
    "\n",
    "![](https://wikimedia.org/api/rest_v1/media/math/render/svg/4eb9bb54b2820fb3583901ec05bc4b474b6d90bc)\n",
    "```\n",
    "# Expected Output:\n",
    "array([[ 5, 12],\n",
    "       [21, 32]])\n",
    "```"
   ]
  },
  {
   "cell_type": "code",
   "execution_count": 8,
   "metadata": {
    "ExecuteTime": {
     "end_time": "2019-06-27T04:57:06.480263Z",
     "start_time": "2019-06-27T04:57:06.474279Z"
    },
    "colab": {},
    "colab_type": "code",
    "id": "WnDQY9MyT3CM"
   },
   "outputs": [],
   "source": [
    "a = np.array([[1,2],[3,4]])\n",
    "b = np.array([[5,6],[7,8]])"
   ]
  },
  {
   "cell_type": "code",
   "execution_count": 9,
   "metadata": {},
   "outputs": [
    {
     "data": {
      "text/plain": [
       "array([[ 5, 12],\n",
       "       [21, 32]])"
      ]
     },
     "execution_count": 9,
     "metadata": {},
     "output_type": "execute_result"
    }
   ],
   "source": [
    "#ANSWER (1 line)\n",
    "np.multiply(a,b)"
   ]
  },
  {
   "cell_type": "markdown",
   "metadata": {
    "colab_type": "text",
    "id": "b1ZR2J8HT3CO"
   },
   "source": [
    "### 4. Compute the sum of two matrices.\n",
    "\n",
    "![](https://wikimedia.org/api/rest_v1/media/math/render/svg/0fb7845af355c550d44020e52699069c044126a9)\n",
    "```\n",
    "# Expected Output:\n",
    "[17, 15, 4]\n",
    "[10, 12, 9]\n",
    "[11, 13, 18]\n",
    "```"
   ]
  },
  {
   "cell_type": "code",
   "execution_count": 115,
   "metadata": {
    "ExecuteTime": {
     "end_time": "2019-06-27T04:57:13.225605Z",
     "start_time": "2019-06-27T04:57:13.214634Z"
    },
    "colab": {},
    "colab_type": "code",
    "id": "ulBVhGDET3CP"
   },
   "outputs": [],
   "source": [
    "# Program to add two matrices using nested loop\n",
    "\n",
    "X = [[12,7,3],\n",
    "    [4 ,5,6],\n",
    "    [7 ,8,9]]\n",
    "\n",
    "Y = [[5,8,1],\n",
    "    [6,7,3],\n",
    "    [4,5,9]]\n",
    "\n",
    "result = [[0,0,0],\n",
    "         [0,0,0],\n",
    "         [0,0,0]]"
   ]
  },
  {
   "cell_type": "code",
   "execution_count": 116,
   "metadata": {},
   "outputs": [
    {
     "name": "stdout",
     "output_type": "stream",
     "text": [
      "X[ 0 ][ 0 ]\n",
      "12\n",
      "Y[ 0 ][ 0 ]\n",
      "5\n",
      "sum(+) result:  17\n",
      "End of Calculation \n",
      "\n",
      "X[ 0 ][ 1 ]\n",
      "7\n",
      "Y[ 0 ][ 1 ]\n",
      "8\n",
      "sum(+) result:  15\n",
      "End of Calculation \n",
      "\n",
      "X[ 0 ][ 2 ]\n",
      "3\n",
      "Y[ 0 ][ 2 ]\n",
      "1\n",
      "sum(+) result:  4\n",
      "End of Calculation \n",
      "\n",
      "X[ 1 ][ 0 ]\n",
      "4\n",
      "Y[ 1 ][ 0 ]\n",
      "6\n",
      "sum(+) result:  10\n",
      "End of Calculation \n",
      "\n",
      "X[ 1 ][ 1 ]\n",
      "5\n",
      "Y[ 1 ][ 1 ]\n",
      "7\n",
      "sum(+) result:  12\n",
      "End of Calculation \n",
      "\n",
      "X[ 1 ][ 2 ]\n",
      "6\n",
      "Y[ 1 ][ 2 ]\n",
      "3\n",
      "sum(+) result:  9\n",
      "End of Calculation \n",
      "\n",
      "X[ 2 ][ 0 ]\n",
      "7\n",
      "Y[ 2 ][ 0 ]\n",
      "4\n",
      "sum(+) result:  11\n",
      "End of Calculation \n",
      "\n",
      "X[ 2 ][ 1 ]\n",
      "8\n",
      "Y[ 2 ][ 1 ]\n",
      "5\n",
      "sum(+) result:  13\n",
      "End of Calculation \n",
      "\n",
      "X[ 2 ][ 2 ]\n",
      "9\n",
      "Y[ 2 ][ 2 ]\n",
      "9\n",
      "sum(+) result:  18\n",
      "End of Calculation \n",
      "\n",
      "[17, 15, 4]\n",
      "[10, 12, 9]\n",
      "[11, 13, 18]\n"
     ]
    }
   ],
   "source": [
    "#ANSWER (~3 lines)\n",
    "# Row Iteration\n",
    "for i1 in range(len(X)):\n",
    "    #Columns iteration\n",
    "    for i2 in range(len(X[0])):\n",
    "        print(\"X[\", i1 ,\"][\", i2,\"]\")\n",
    "        print( X[i1][i2])\n",
    "        print(\"Y[\", i1 ,\"][\", i2,\"]\")\n",
    "        print(Y[i1][i2])\n",
    "        result[i1][i2] = X[i1][i2] + Y[i1][i2]\n",
    "        print(\"sum(+) result: \", result[i1][i2])\n",
    "        print(\"End of Calculation \\n\")\n",
    "        \n",
    "for r in result:\n",
    "    print(r)"
   ]
  },
  {
   "cell_type": "markdown",
   "metadata": {
    "ExecuteTime": {
     "end_time": "2019-06-27T04:04:23.509007Z",
     "start_time": "2019-06-27T04:04:23.503018Z"
    },
    "colab_type": "text",
    "id": "CZFVdvEhT3CS"
   },
   "source": [
    "### 5. Compute the product of two matrices.\n",
    "\n",
    "![](https://upload.wikimedia.org/wikipedia/commons/e/eb/Matrix_multiplication_diagram_2.svg)\n",
    "```\n",
    "# Expected Output:\n",
    "[114, 160, 60, 27]\n",
    "[74, 97, 73, 14]\n",
    "[119, 157, 112, 23]\n",
    "```"
   ]
  },
  {
   "cell_type": "code",
   "execution_count": 125,
   "metadata": {
    "ExecuteTime": {
     "end_time": "2019-06-27T04:57:19.425749Z",
     "start_time": "2019-06-27T04:57:19.412783Z"
    },
    "colab": {},
    "colab_type": "code",
    "id": "2cwCXjx_T3CT"
   },
   "outputs": [],
   "source": [
    "# Program to multiply two matrices using nested loops\n",
    "\n",
    "# 3x3 matrix\n",
    "X = [[12,7,3],\n",
    "    [4 ,5,6],\n",
    "    [7 ,8,9]]\n",
    "\n",
    "# 3x4 matrix\n",
    "Y = [[5,8,1,2],\n",
    "    [6,7,3,0],\n",
    "    [4,5,9,1]]\n",
    "\n",
    "# result is 3x4\n",
    "result = [[0,0,0,0],\n",
    "         [0,0,0,0],\n",
    "         [0,0,0,0]]"
   ]
  },
  {
   "cell_type": "code",
   "execution_count": 126,
   "metadata": {},
   "outputs": [
    {
     "name": "stdout",
     "output_type": "stream",
     "text": [
      "X Row Length  3\n",
      "Y column length  4\n",
      "Y Rows length 3\n",
      "X[ 0 ] [ 0 ]\n",
      "12\n",
      "Y[ 0 ] [ 0 ]\n",
      "5\n",
      "12 * 5 = 60\n",
      "X[ 0 ] [ 1 ]\n",
      "7\n",
      "Y[ 1 ] [ 0 ]\n",
      "6\n",
      "7 * 6 = 42\n",
      "X[ 0 ] [ 2 ]\n",
      "3\n",
      "Y[ 2 ] [ 0 ]\n",
      "4\n",
      "3 * 4 = 12\n",
      "114\n",
      "End of Calculation \n",
      "\n",
      "X[ 0 ] [ 0 ]\n",
      "12\n",
      "Y[ 0 ] [ 1 ]\n",
      "8\n",
      "12 * 8 = 96\n",
      "X[ 0 ] [ 1 ]\n",
      "7\n",
      "Y[ 1 ] [ 1 ]\n",
      "7\n",
      "7 * 7 = 49\n",
      "X[ 0 ] [ 2 ]\n",
      "3\n",
      "Y[ 2 ] [ 1 ]\n",
      "5\n",
      "3 * 5 = 15\n",
      "160\n",
      "End of Calculation \n",
      "\n",
      "X[ 0 ] [ 0 ]\n",
      "12\n",
      "Y[ 0 ] [ 2 ]\n",
      "1\n",
      "12 * 1 = 12\n",
      "X[ 0 ] [ 1 ]\n",
      "7\n",
      "Y[ 1 ] [ 2 ]\n",
      "3\n",
      "7 * 3 = 21\n",
      "X[ 0 ] [ 2 ]\n",
      "3\n",
      "Y[ 2 ] [ 2 ]\n",
      "9\n",
      "3 * 9 = 27\n",
      "60\n",
      "End of Calculation \n",
      "\n",
      "X[ 0 ] [ 0 ]\n",
      "12\n",
      "Y[ 0 ] [ 3 ]\n",
      "2\n",
      "12 * 2 = 24\n",
      "X[ 0 ] [ 1 ]\n",
      "7\n",
      "Y[ 1 ] [ 3 ]\n",
      "0\n",
      "7 * 0 = 0\n",
      "X[ 0 ] [ 2 ]\n",
      "3\n",
      "Y[ 2 ] [ 3 ]\n",
      "1\n",
      "3 * 1 = 3\n",
      "27\n",
      "End of Calculation \n",
      "\n",
      "X[ 1 ] [ 0 ]\n",
      "4\n",
      "Y[ 0 ] [ 0 ]\n",
      "5\n",
      "4 * 5 = 20\n",
      "X[ 1 ] [ 1 ]\n",
      "5\n",
      "Y[ 1 ] [ 0 ]\n",
      "6\n",
      "5 * 6 = 30\n",
      "X[ 1 ] [ 2 ]\n",
      "6\n",
      "Y[ 2 ] [ 0 ]\n",
      "4\n",
      "6 * 4 = 24\n",
      "74\n",
      "End of Calculation \n",
      "\n",
      "X[ 1 ] [ 0 ]\n",
      "4\n",
      "Y[ 0 ] [ 1 ]\n",
      "8\n",
      "4 * 8 = 32\n",
      "X[ 1 ] [ 1 ]\n",
      "5\n",
      "Y[ 1 ] [ 1 ]\n",
      "7\n",
      "5 * 7 = 35\n",
      "X[ 1 ] [ 2 ]\n",
      "6\n",
      "Y[ 2 ] [ 1 ]\n",
      "5\n",
      "6 * 5 = 30\n",
      "97\n",
      "End of Calculation \n",
      "\n",
      "X[ 1 ] [ 0 ]\n",
      "4\n",
      "Y[ 0 ] [ 2 ]\n",
      "1\n",
      "4 * 1 = 4\n",
      "X[ 1 ] [ 1 ]\n",
      "5\n",
      "Y[ 1 ] [ 2 ]\n",
      "3\n",
      "5 * 3 = 15\n",
      "X[ 1 ] [ 2 ]\n",
      "6\n",
      "Y[ 2 ] [ 2 ]\n",
      "9\n",
      "6 * 9 = 54\n",
      "73\n",
      "End of Calculation \n",
      "\n",
      "X[ 1 ] [ 0 ]\n",
      "4\n",
      "Y[ 0 ] [ 3 ]\n",
      "2\n",
      "4 * 2 = 8\n",
      "X[ 1 ] [ 1 ]\n",
      "5\n",
      "Y[ 1 ] [ 3 ]\n",
      "0\n",
      "5 * 0 = 0\n",
      "X[ 1 ] [ 2 ]\n",
      "6\n",
      "Y[ 2 ] [ 3 ]\n",
      "1\n",
      "6 * 1 = 6\n",
      "14\n",
      "End of Calculation \n",
      "\n",
      "X[ 2 ] [ 0 ]\n",
      "7\n",
      "Y[ 0 ] [ 0 ]\n",
      "5\n",
      "7 * 5 = 35\n",
      "X[ 2 ] [ 1 ]\n",
      "8\n",
      "Y[ 1 ] [ 0 ]\n",
      "6\n",
      "8 * 6 = 48\n",
      "X[ 2 ] [ 2 ]\n",
      "9\n",
      "Y[ 2 ] [ 0 ]\n",
      "4\n",
      "9 * 4 = 36\n",
      "119\n",
      "End of Calculation \n",
      "\n",
      "X[ 2 ] [ 0 ]\n",
      "7\n",
      "Y[ 0 ] [ 1 ]\n",
      "8\n",
      "7 * 8 = 56\n",
      "X[ 2 ] [ 1 ]\n",
      "8\n",
      "Y[ 1 ] [ 1 ]\n",
      "7\n",
      "8 * 7 = 56\n",
      "X[ 2 ] [ 2 ]\n",
      "9\n",
      "Y[ 2 ] [ 1 ]\n",
      "5\n",
      "9 * 5 = 45\n",
      "157\n",
      "End of Calculation \n",
      "\n",
      "X[ 2 ] [ 0 ]\n",
      "7\n",
      "Y[ 0 ] [ 2 ]\n",
      "1\n",
      "7 * 1 = 7\n",
      "X[ 2 ] [ 1 ]\n",
      "8\n",
      "Y[ 1 ] [ 2 ]\n",
      "3\n",
      "8 * 3 = 24\n",
      "X[ 2 ] [ 2 ]\n",
      "9\n",
      "Y[ 2 ] [ 2 ]\n",
      "9\n",
      "9 * 9 = 81\n",
      "112\n",
      "End of Calculation \n",
      "\n",
      "X[ 2 ] [ 0 ]\n",
      "7\n",
      "Y[ 0 ] [ 3 ]\n",
      "2\n",
      "7 * 2 = 14\n",
      "X[ 2 ] [ 1 ]\n",
      "8\n",
      "Y[ 1 ] [ 3 ]\n",
      "0\n",
      "8 * 0 = 0\n",
      "X[ 2 ] [ 2 ]\n",
      "9\n",
      "Y[ 2 ] [ 3 ]\n",
      "1\n",
      "9 * 1 = 9\n",
      "23\n",
      "End of Calculation \n",
      "\n",
      "[114, 160, 60, 27]\n",
      "[74, 97, 73, 14]\n",
      "[119, 157, 112, 23]\n"
     ]
    }
   ],
   "source": [
    "#ANSWER (~3 lines)\n",
    "\n",
    "print(\"X Row Length \", len(X))\n",
    "print(\"Y column length \", len(Y[0]))\n",
    "print(\"Y Rows length\" ,len(Y))\n",
    "\n",
    "# X Row Iteration\n",
    "for i in range(len(X)):\n",
    "    # Y Columns Iteration\n",
    "    for j in range(len(Y[0])):\n",
    "        # Y Rows Iteration\n",
    "        for k in range(len(Y)):\n",
    "            print(\"X[\", i ,\"]\",\"[\",k,\"]\")\n",
    "            print( X[i][k] )\n",
    "            print(\"Y[\", k ,\"]\",\"[\",j,\"]\")\n",
    "            print( Y[k][j])\n",
    "            print(X[i][k],\"*\",Y[k][j] ,\"=\", X[i][k] * Y[k][j])\n",
    "            \n",
    "            result[i][j] += X[i][k] * Y[k][j]\n",
    "            \n",
    "        print(result[i][j])\n",
    "        print(\"End of Calculation \\n\")    \n",
    "for r in result:\n",
    "    print(r)\n",
    "            \n"
   ]
  },
  {
   "cell_type": "markdown",
   "metadata": {
    "colab_type": "text",
    "id": "zxe0vdBVT3CV"
   },
   "source": [
    "### 6. Compute the determinant of an n x n matrix.\n",
    "\n",
    "![](https://integratedmlai.com/wp-content/uploads/2018/12/Matrix_Det_2x2.png)\n",
    "\n",
    "Hint: [Find the Determinant of a Matrix with Pure Python without Numpy or Scipy](https://integratedmlai.com/find-the-determinant-of-a-matrix-with-pure-python-without-numpy-or-scipy/)\n",
    "\n",
    "Hint: Use \n",
    "> np.linalg.det\n",
    "```\n",
    "# Expected Output:\n",
    "17.999999999999996\n",
    "```"
   ]
  },
  {
   "cell_type": "code",
   "execution_count": 135,
   "metadata": {
    "ExecuteTime": {
     "end_time": "2019-06-27T04:58:00.140277Z",
     "start_time": "2019-06-27T04:58:00.135291Z"
    },
    "colab": {},
    "colab_type": "code",
    "id": "7SpAPh-5T3CW"
   },
   "outputs": [],
   "source": [
    "matrix = [[-2,2,-3],[-1,1,3],[2,0,-1]]"
   ]
  },
  {
   "cell_type": "code",
   "execution_count": 137,
   "metadata": {},
   "outputs": [
    {
     "name": "stdout",
     "output_type": "stream",
     "text": [
      "Determinant of matrix is 17.999999999999996\n"
     ]
    }
   ],
   "source": [
    "#ANSWER (1 line)\n",
    "print(\"Determinant of matrix is\",np.linalg.det(matrix))"
   ]
  },
  {
   "cell_type": "markdown",
   "metadata": {
    "colab_type": "text",
    "id": "vUC6L5r1T3Ca"
   },
   "source": [
    "### 7. Compute the inverse of an n x n matrix.\n",
    "\n",
    "For a 3×3 matrix\n",
    "\n",
    "![](http://mathworld.wolfram.com/images/equations/MatrixInverse/NumberedEquation3.gif)\n",
    "\n",
    "the matrix inverse is\n",
    "\n",
    "![](http://mathworld.wolfram.com/images/equations/MatrixInverse/NumberedEquation4.gif)\n",
    "\n",
    "Hint: Use \n",
    "> from numpy.linalg import inv\n",
    "```\n",
    "# Expected Output:\n",
    "array([[-2. ,  1. ],\n",
    "       [ 1.5, -0.5]])\n",
    "```"
   ]
  },
  {
   "cell_type": "code",
   "execution_count": 129,
   "metadata": {
    "ExecuteTime": {
     "end_time": "2019-06-27T04:58:33.615832Z",
     "start_time": "2019-06-27T04:58:33.609848Z"
    },
    "colab": {},
    "colab_type": "code",
    "id": "qGxUYlMWT3Cb"
   },
   "outputs": [],
   "source": [
    "a = np.array([[1., 2.], [3., 4.]])"
   ]
  },
  {
   "cell_type": "code",
   "execution_count": 138,
   "metadata": {},
   "outputs": [
    {
     "name": "stdout",
     "output_type": "stream",
     "text": [
      "Irverse of a array is  [[-2.   1. ]\n",
      " [ 1.5 -0.5]]\n"
     ]
    }
   ],
   "source": [
    "#ANSWER (~2 lines)\n",
    "print(\"Irverse of a array is \",np.linalg.inv(a))"
   ]
  },
  {
   "cell_type": "markdown",
   "metadata": {
    "colab_type": "text",
    "id": "f52z_umQpL1V"
   },
   "source": [
    "\n",
    "\n",
    "---\n",
    "\n",
    "\n",
    "\n",
    "---\n",
    "\n",
    "\n",
    "\n",
    "> > > > > > > > > © 2021 Institute of Data\n",
    "\n",
    "\n",
    "---\n",
    "\n",
    "\n",
    "\n",
    "---\n",
    "\n",
    "\n",
    "\n"
   ]
  }
 ],
 "metadata": {
  "colab": {
   "collapsed_sections": [],
   "name": "Lab 1.1.1 Vector & Matrix Operations .ipynb",
   "provenance": []
  },
  "kernelspec": {
   "display_name": "Python 3",
   "language": "python",
   "name": "python3"
  },
  "language_info": {
   "codemirror_mode": {
    "name": "ipython",
    "version": 3
   },
   "file_extension": ".py",
   "mimetype": "text/x-python",
   "name": "python",
   "nbconvert_exporter": "python",
   "pygments_lexer": "ipython3",
   "version": "3.8.8"
  }
 },
 "nbformat": 4,
 "nbformat_minor": 4
}
