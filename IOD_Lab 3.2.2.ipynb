{
 "cells": [
  {
   "cell_type": "markdown",
   "metadata": {
    "colab_type": "text",
    "id": "XfnQYVMtJhQD"
   },
   "source": [
    "<div>\n",
    "<img src=https://www.institutedata.com/wp-content/uploads/2019/10/iod_h_tp_primary_c.svg width=\"300\">\n",
    "</div>\n"
   ]
  },
  {
   "cell_type": "markdown",
   "metadata": {
    "colab_type": "text",
    "id": "5dCt8XbjJhQG"
   },
   "source": [
    "# Lab 3.2.2 \n",
    "# *Mining Social Media with Twitter*"
   ]
  },
  {
   "cell_type": "markdown",
   "metadata": {
    "colab_type": "text",
    "id": "b5VfS9hhJhQI"
   },
   "source": [
    "## The Twitter API and Tweepy Package"
   ]
  },
  {
   "cell_type": "markdown",
   "metadata": {
    "colab_type": "text",
    "id": "lF2z-w5uJhQK"
   },
   "source": [
    "The Twitter API provides access to tweets and comments, and allows an application to post tweets to the user's timeline. \n",
    "\n",
    "Twitter requires developers to create and authenticate an app before they can use the API. As of recent policy changes, however, new developers must be approved before they can create an app. There is no indication of the waiting period for approval."
   ]
  },
  {
   "cell_type": "markdown",
   "metadata": {
    "colab_type": "text",
    "id": "M0wxJ8HNJhQM"
   },
   "source": [
    "### 1. Apply for Developer Access\n",
    "\n",
    "Go to https://blog.twitter.com/developer/en_us/topics/tools/2018/new-developer-requirements-to-protect-our-platform.html\n",
    "and read the advice.\n"
   ]
  },
  {
   "cell_type": "markdown",
   "metadata": {
    "colab_type": "text",
    "id": "tICSKwL1JhQN"
   },
   "source": [
    "Apply at https://developer.twitter.com/en/apply-for-access.html. Where asked state that you will use the app as a student to explore the tweepy Python library and use it to fetch recent tweets and to create/delete a tweet."
   ]
  },
  {
   "cell_type": "markdown",
   "metadata": {
    "colab_type": "text",
    "id": "NMeZ70IZJhQR"
   },
   "source": [
    "### 2. Create Your Twitter App\n",
    "Go to https://developer.twitter.com/en/portal/projects-and-apps and click on the \"+ Create App\" button. Give your app a name and then you will be able to generate Consumer Keys (API key & secret) and Authentication Tokens (Access token & secret). Copy-paste these authentication details for use in this lab."
   ]
  },
  {
   "cell_type": "markdown",
   "metadata": {
    "colab_type": "text",
    "id": "HpWMHz9NJhQS"
   },
   "source": [
    "### 3. Load Python Libraries"
   ]
  },
  {
   "cell_type": "code",
   "execution_count": 1,
   "metadata": {
    "colab": {},
    "colab_type": "code",
    "id": "16hb8EpNJhQU"
   },
   "outputs": [],
   "source": [
    "import tweepy\n",
    "import json\n",
    "import pprint\n",
    "import config\n",
    "import configparser"
   ]
  },
  {
   "cell_type": "code",
   "execution_count": 2,
   "metadata": {},
   "outputs": [
    {
     "name": "stdout",
     "output_type": "stream",
     "text": [
      "4.4.0\n"
     ]
    }
   ],
   "source": [
    "print(tweepy.__version__)"
   ]
  },
  {
   "cell_type": "markdown",
   "metadata": {
    "colab_type": "text",
    "id": "p7W0se6_JhQX"
   },
   "source": [
    "### 4. Authenticate from your Python script"
   ]
  },
  {
   "cell_type": "markdown",
   "metadata": {
    "colab_type": "text",
    "id": "mJfe55dVJhQY"
   },
   "source": [
    "You could assign your authentication details explicitly, as follows:"
   ]
  },
  {
   "cell_type": "code",
   "execution_count": 3,
   "metadata": {},
   "outputs": [],
   "source": [
    "client = tweepy.Client(bearer_token = config.BEARER_TOKEN,\n",
    "                       consumer_key = config.API_KEY,\n",
    "                       consumer_secret = config.API_KEY_SECRET,\n",
    "                       access_token = config.ACCESS_TOKEN,\n",
    "                       access_token_secret = config.ACCESS_TOKEN_SECRET\n",
    "                       )"
   ]
  },
  {
   "cell_type": "code",
   "execution_count": 4,
   "metadata": {},
   "outputs": [],
   "source": [
    "# config = configparser.ConfigParser()\n",
    "# config.read('config.ini')"
   ]
  },
  {
   "cell_type": "code",
   "execution_count": 5,
   "metadata": {},
   "outputs": [],
   "source": [
    "# api_key = config['twitter']['api_key']\n",
    "# api_key_secret = config['twitter']['api_key_secret']\n",
    "# access_token = config['twitter']['access_token']\n",
    "# access_token_secret = config['twitter']['access_token_secret']"
   ]
  },
  {
   "cell_type": "markdown",
   "metadata": {
    "colab_type": "text",
    "id": "7LXwmSzOJhQe"
   },
   "source": [
    "A better way would be to store these details externally, so they are not displayed in the notebook:\n",
    "\n",
    "- create a file called \"auth_twitter.json\" in your \"notebooks\" directory, and save your credentials there in JSON format:\n",
    "\n",
    "`{`<br>\n",
    "&nbsp;&nbsp;&nbsp;&nbsp;&nbsp;&nbsp;&nbsp;&nbsp;`   \"consumer_key\": \"your consumer key (string) goes in here\",` <br>\n",
    "&nbsp;&nbsp;&nbsp;&nbsp;&nbsp;&nbsp;&nbsp;&nbsp;` \"consumer_secret\": \"your consumer secret key (string) goes in here\",` <br>\n",
    "&nbsp;&nbsp;&nbsp;&nbsp;&nbsp;&nbsp;&nbsp;&nbsp;`\"access_token\": \"your access token (string) goes in here\",` <br>\n",
    "&nbsp;&nbsp;&nbsp;&nbsp;&nbsp;&nbsp;&nbsp;&nbsp;`\"access_token_secret\": \"your access token secret (string) goes in here\"` <br>\n",
    "`}`\n",
    "\n",
    "(Nb. Parsers are very fussy. Make sure each key:value pair has a comma after it except the last one!)  \n",
    "\n",
    "Use the following code to load the credentials:  "
   ]
  },
  {
   "cell_type": "code",
   "execution_count": 6,
   "metadata": {
    "colab": {},
    "colab_type": "code",
    "id": "kh2srKpzJhQh"
   },
   "outputs": [
    {
     "data": {
      "text/plain": [
       "'C:\\\\Users\\\\darry\\\\OneDrive\\\\Desktop\\\\Institute_of_Data'"
      ]
     },
     "execution_count": 6,
     "metadata": {},
     "output_type": "execute_result"
    }
   ],
   "source": [
    "pwd()  # make sure your working directory is where the file is"
   ]
  },
  {
   "cell_type": "markdown",
   "metadata": {
    "colab_type": "text",
    "id": "Ln30k0pZJhQp"
   },
   "source": [
    "### 5. Exploring the API"
   ]
  },
  {
   "cell_type": "markdown",
   "metadata": {
    "colab_type": "text",
    "id": "6fsc0U1nJhQq"
   },
   "source": [
    "Here is how to connect to Twitter using the Tweepy library:"
   ]
  },
  {
   "cell_type": "code",
   "execution_count": 7,
   "metadata": {},
   "outputs": [],
   "source": [
    "# auth = tweepy.OAuthHandler(api_key, api_key_secret)\n",
    "# auth.set_access_token(access_token, access_token_secret)\n",
    "# api = tweepy.API(auth)"
   ]
  },
  {
   "cell_type": "markdown",
   "metadata": {
    "colab_type": "text",
    "id": "GPRmYZigJhQp"
   },
   "source": [
    "Security considerations: \n",
    "- this method only keeps your credentials invisible as long as nobody accesses this notebook while it's running on your computer \n",
    "- if you wanted another user to have access to the executable notebook without divulging your credentials you should set up an OAuth 2.0 workflow to let them obtain and apply their own API tokens when using your app\n",
    "- if you just want to share your analyses, you could use a separate script (which you don't share) to fetch the data and save it locally, then use a second notebook (with no API access) to load and analyse the locally stored data"
   ]
  },
  {
   "cell_type": "markdown",
   "metadata": {
    "colab_type": "text",
    "id": "wSKzR9LdJhQu"
   },
   "source": [
    "In the next cell, put the cursor after the '.' and hit the [tab] key to see the available members and methods in the response object:"
   ]
  },
  {
   "cell_type": "markdown",
   "metadata": {
    "colab_type": "text",
    "id": "DcJ-cc6zJhQz"
   },
   "source": [
    "Consult the Tweept and Twitter API documentation. Print a few of the response members below:"
   ]
  },
  {
   "cell_type": "code",
   "execution_count": 8,
   "metadata": {},
   "outputs": [
    {
     "data": {
      "text/plain": [
       "Response(data=<User id=806643290745475073 name=New Branches username=new_branches>, includes={}, errors=[], meta={})"
      ]
     },
     "execution_count": 8,
     "metadata": {},
     "output_type": "execute_result"
    }
   ],
   "source": [
    "users = client.get_user(username = 'new_branches', user_fields = 'name')\n",
    "users"
   ]
  },
  {
   "cell_type": "code",
   "execution_count": 9,
   "metadata": {
    "colab": {},
    "colab_type": "code",
    "id": "W_IKqMAQJhQ1"
   },
   "outputs": [
    {
     "name": "stdout",
     "output_type": "stream",
     "text": [
      "[<Tweet id=1485809292427075584 text=RT @EpiEllie: Four questions to ask about every COVID response decision:\n",
      "\n",
      "“will it reduce transmission, infections, hospitalization, chroni…>, <Tweet id=1485809292070502404 text=RT @doctormacias: Covid-19. La variante ómicron viene en dos sabores o subvariantes. El sabor BA1 que predomina, pero que está  siendo supe…>, <Tweet id=1485809291974127616 text=@MagicallyMalic2 @brainpunchr @CountryLvHandle @mrskmart2015 https://t.co/CLPiqQC4dr\n",
      "\"Proven not to work?\" There's plenty of research disputing that. Of course, your idea of a scientist is Robert Malone.>, <Tweet id=1485809291609395200 text=RT @hkfp: Chief Executive Carrie Lam has rebuffed concerns about her choice not to wear a face mask at press conferences, despite advice fr…>, <Tweet id=1485809291470721028 text=RT @Bvweir: #COVIDupdate \n",
      "#TexasCovid \n",
      "\n",
      "Per #Parkland Texas Hospital \n",
      "95% of the 685 people who have died of COVID-19 at the hospital have…>, <Tweet id=1485809291189620736 text=RT @libsoftiktok: Instagram doesn’t let me tag @ConceptualJames because he posted “false content about covid-19 or vaccines.” This is nuts…>, <Tweet id=1485809291068329986 text=RT @snqamarinaz: Latest update dari sepupunya yg ada di Korea;\n",
      "\n",
      "- masih tak sedar, stroke &amp;  tekanan darah agak tinggi. (Pembuluh darah pec…>, <Tweet id=1485809290606567424 text=RT @MichaelPSenger: Last night, over 50,000 Canadian truckers formed a caravan in protest against vaccine mandates and COVID tyranny.\n",
      "https…>, <Tweet id=1485809290481135619 text=RT @srivastavasahib: I along with my family tested positive for covid, it didn’t took long for the @UPGovt to take the proactive measure. T…>, <Tweet id=1485809290413854725 text=RT @ClaraFernanndez: Gilberto Kassab, após 3 doses da vacina, está internado no Sírio Libanês, pois testou positivo para Covid-19\n",
      "Seguindo…>, <Tweet id=1485809290334113794 text=RT @MaryMargOlohan: “The agency’s failure to adequately justify its own policy perfectly illustrates the animus that your administration ha…>, <Tweet id=1485809290296250370 text=RT @BNODesk: Every 36 seconds, 1 American dies of COVID-19, according to the seven-day average>, <Tweet id=1485809289939898371 text=RT @RT_com: Judge rejects New York Covid mask mandate \n",
      "\n",
      "https://t.co/lRxZCLVnEJ https://t.co/4zXY2vRn6M>, <Tweet id=1485809289759375361 text=@GapMediaCo Isreal is up to 4 jabs. Are you not paying attention? Also never has 1 group gone so batshit crazy over someone not getting vaxxed. People who got the Polio vax were no longer worried about others. Yet unvaxxed from Covid &amp; the world is coming to an end! https://t.co/YeT6f8p84W>, <Tweet id=1485809289289736194 text=RT @SenRonJohnson: Doctors talking about their success with early treatment for Covid. \n",
      "Here's Dr. Cole’s story regarding his brother. http…>, <Tweet id=1485809288778035202 text=RT @cinderelabaiana: jade, lina e arthur não ficaram no pódio de ninguém e precisam URGENTE formar a colisão covid>, <Tweet id=1485809288480239619 text=RT @ErthalTereza: Omar Aziz testa positivo pra covid, afirmou ter tomado todas as vacinas, mas seu registro não existe nem no site de Manau…>, <Tweet id=1485809288270524416 text=RT @DRobertaLacerda: médicos: PELA MANUTENÇÃO DA DECISÃO DO SECRETÁRIO HÉLIO ANGIOTTI NETO SOBRE O TRATAMENTO DA COVID - Assine a petição!…>, <Tweet id=1485809287955988483 text=RT @lordivan22: 🚨Reino Unido 🇬🇧: \n",
      "A situação de Boris Johnson que já era complicada, ficou pior ainda.\n",
      "\n",
      "Downing Street admitiu que os funci…>, <Tweet id=1485809287922339841 text=RT @akheriaty: Watch our Panel testimony at the Senate. My opening statement starts   at 1:50:10, but the real meat is in the Q&amp;A. https://…>]\n",
      "{}\n",
      "[]\n",
      "{'newest_id': '1485809292427075584', 'oldest_id': '1485809287922339841', 'result_count': 20, 'next_token': 'b26v89c19zqg8o3fpe47873gyj5vs7pxa7c4s5y3f0nel'}\n"
     ]
    }
   ],
   "source": [
    "query = 'covid'\n",
    "tweets = client.search_recent_tweets(query = query, max_results = 20)\n",
    "tweets\n",
    "for tweet in tweets:\n",
    "    print(tweet)"
   ]
  },
  {
   "cell_type": "markdown",
   "metadata": {
    "colab_type": "text",
    "id": "dLkdLKjLJhQ3"
   },
   "source": [
    "This will fetch recent tweets from accounts you follow:"
   ]
  },
  {
   "cell_type": "code",
   "execution_count": 10,
   "metadata": {},
   "outputs": [
    {
     "name": "stdout",
     "output_type": "stream",
     "text": [
      "[<Tweet id=1485809296319389698 text=RT @SimonDecary: Hello Canadians, this thread is for people living with Long COVID, ME/CFS, clinicians and policy makers. It will stir many…>, <Tweet id=1485809296025821188 text=RT @PierrePoilievre: COVID has become a never-ending excuse for power-hungry authorities to replace our freedom with their control. \n",
      "\n",
      "Enoug…>, <Tweet id=1485809295916777474 text=RT @theblaze: Neil Young demands Spotify choose between his music or the @JoeRogan podcast  https://t.co/vaCEpKtBTL>, <Tweet id=1485809295648165890 text=RT @MichaelPSenger: Open research question: A big gap in our knowledge about the events of March 2020 is Italy’s COVID lockdown—the first i…>, <Tweet id=1485809295522361344 text=RT @NASA: Did you know that @NASA_Technology designed to explore space is also making our lives better back on Earth?\n",
      "\n",
      "From winter coats to…>, <Tweet id=1485809295207903232 text=RT @GideonEWood: All these #DoneWithCovid folks have, for 2 years, made every choice they could to make sure we are not, in fact, done with…>, <Tweet id=1485809294771556353 text=RT @joshjonsmith: People in South Korea who *have Covid* will be quarantining for less time than if they had travelled overseas>, <Tweet id=1485809294641614849 text=RT @kayz_levite: Putin is having a laugh. The Covid narrative has crumbled now the scammers are pushing Russia &amp; Ukraine to fight, they thr…>, <Tweet id=1485809294230622209 text=RT @JackPosobiec: They lost the COVID Crisis Theater so they’re firing up a Russia Crisis Theater>, <Tweet id=1485809294192922625 text=RT @JackPosobiec: They lost the COVID Crisis Theater so they’re firing up a Russia Crisis Theater>]\n",
      "{}\n",
      "[]\n",
      "{'newest_id': '1485809296319389698', 'oldest_id': '1485809294192922625', 'result_count': 10, 'next_token': 'b26v89c19zqg8o3fpe47873gyj5wun270lcygoa4qc6f1'}\n"
     ]
    }
   ],
   "source": [
    "query = 'covid'\n",
    "tweets = client.search_recent_tweets(query = query)\n",
    "for tweet in tweets:\n",
    "    print(tweet)"
   ]
  },
  {
   "cell_type": "markdown",
   "metadata": {
    "colab_type": "text",
    "id": "k2NpPlOIJhQ6"
   },
   "source": [
    "The request to see your own recent tweets is similar, but uses the `user_timeline` endpoint. Try this below:"
   ]
  },
  {
   "cell_type": "code",
   "execution_count": 11,
   "metadata": {
    "colab": {},
    "colab_type": "code",
    "id": "QMlhdx5NJhQ6"
   },
   "outputs": [
    {
     "name": "stdout",
     "output_type": "stream",
     "text": [
      "[<Tweet id=1485587595312922624 text=ヒカキンTVプレミア公開！🎉😎🎁\n",
      "\n",
      "YouTubeから謎の箱届いて開封したら中身過去一ヤバすぎwww【謎のダンボール】 https://t.co/zkdiKcuhMa @YouTubeより https://t.co/gg285e11dq>, <Tweet id=1485228290881179651 text=@comamugiri0123 おめでと😎🎉>, <Tweet id=1485169273429389312 text=YouTubeの全動画の中で急上昇1位😎👊🎉見て下さった皆さん、ありがとうございます😭✨\n",
      "\n",
      "家にいきなり長澤まさみさんと生田絵梨花さんが来たんだけど… https://t.co/ZQrtiwLQPg @YouTubeより https://t.co/dvidarB6BW>, <Tweet id=1484868646597890052 text=本日のヒカキンTV、長澤まさみさんと生田絵梨花さんとの超豪華コラボ😂🎉🙏\n",
      "是非ご覧下さい😎👍\n",
      "\n",
      "家にいきなり長澤まさみさんと生田絵梨花さんが来たんだけど… https://t.co/ZQrtiwLQPg @YouTubeより https://t.co/hpRiE6WeUp>, <Tweet id=1484847286987358209 text=RT @confidencemanJP: #コンフィデンスマンTV ⑫\n",
      "説明不要のトップYouTuber #HIKAKIN さんのお宅で、#長澤まさみ さん #生田絵梨花 さんの3人でオサカナ釣りをしました🎣\n",
      "ぜひぜひご覧ください📺\n",
      "\n",
      "#コンフィデンスマンJP #英雄編\n",
      "\n",
      "@h…>, <Tweet id=1484839012565094402 text=ヒカキンゲームズプレミア公開！🎉🎮😎\n",
      "\n",
      "長澤まさみ &amp; 生田絵梨花ゲーム実況デビューwww【ヒカキンゲームズ】 https://t.co/IRXaPe7Y6N @YouTubeより https://t.co/GsMtSLnkP7>, <Tweet id=1484824777928101889 text=ヒカキンTV19時プレミア公開🎉😎\n",
      "\n",
      "家にいきなり長澤まさみさんと生田絵梨花さんが来たんだけど… https://t.co/ZQrtiwuNNg @YouTubeより https://t.co/GE6r5SzTBQ>, <Tweet id=1484565827382767617 text=地震の対象地域の皆さん、不安かと思いますが、余震も気をつけて。 https://t.co/kmqlpTeKEI>, <Tweet id=1483763667401592836 text=ヒカキンTV動画公開！😂🎉\n",
      "\n",
      "【お金無限】中身がわからない福袋クレーンゲームでとりまくったらまさかの中身!? https://t.co/UE68eXVG5l @YouTubeより https://t.co/qSFmvTpbhi>, <Tweet id=1483690029444526082 text=RT @uuum_news: UUUM、日本初となる「Minecraft（マインクラフト）」 と動画クリエイターのコラボ商品化権を取得 https://t.co/EJaUiWpG7e>]\n",
      "{}\n",
      "[]\n",
      "{'oldest_id': '1483690029444526082', 'newest_id': '1485587595312922624', 'result_count': 10, 'next_token': '7140dibdnow9c7btw3z452qdcjlns49dertn8kaxpyqlu'}\n"
     ]
    }
   ],
   "source": [
    "user_id = '130447415'\n",
    "tweets = client.get_users_tweets(id = user_id)\n",
    "for tweet in tweets:\n",
    "    print(tweet)"
   ]
  },
  {
   "cell_type": "markdown",
   "metadata": {
    "colab_type": "text",
    "id": "qY7oM-lJJhQ8"
   },
   "source": [
    "Now, instead of printing the text of each tweet, print the `created_at` and `id_str` methods:"
   ]
  },
  {
   "cell_type": "code",
   "execution_count": 12,
   "metadata": {
    "colab": {},
    "colab_type": "code",
    "id": "aUOlNdG8JhQ9"
   },
   "outputs": [
    {
     "name": "stdout",
     "output_type": "stream",
     "text": [
      "[<Tweet id=1485587595312922624 text=ヒカキンTVプレミア公開！🎉😎🎁\n",
      "\n",
      "YouTubeから謎の箱届いて開封したら中身過去一ヤバすぎwww【謎のダンボール】 https://t.co/zkdiKcuhMa @YouTubeより https://t.co/gg285e11dq>, <Tweet id=1485228290881179651 text=@comamugiri0123 おめでと😎🎉>, <Tweet id=1485169273429389312 text=YouTubeの全動画の中で急上昇1位😎👊🎉見て下さった皆さん、ありがとうございます😭✨\n",
      "\n",
      "家にいきなり長澤まさみさんと生田絵梨花さんが来たんだけど… https://t.co/ZQrtiwLQPg @YouTubeより https://t.co/dvidarB6BW>, <Tweet id=1484868646597890052 text=本日のヒカキンTV、長澤まさみさんと生田絵梨花さんとの超豪華コラボ😂🎉🙏\n",
      "是非ご覧下さい😎👍\n",
      "\n",
      "家にいきなり長澤まさみさんと生田絵梨花さんが来たんだけど… https://t.co/ZQrtiwLQPg @YouTubeより https://t.co/hpRiE6WeUp>, <Tweet id=1484847286987358209 text=RT @confidencemanJP: #コンフィデンスマンTV ⑫\n",
      "説明不要のトップYouTuber #HIKAKIN さんのお宅で、#長澤まさみ さん #生田絵梨花 さんの3人でオサカナ釣りをしました🎣\n",
      "ぜひぜひご覧ください📺\n",
      "\n",
      "#コンフィデンスマンJP #英雄編\n",
      "\n",
      "@h…>, <Tweet id=1484839012565094402 text=ヒカキンゲームズプレミア公開！🎉🎮😎\n",
      "\n",
      "長澤まさみ &amp; 生田絵梨花ゲーム実況デビューwww【ヒカキンゲームズ】 https://t.co/IRXaPe7Y6N @YouTubeより https://t.co/GsMtSLnkP7>, <Tweet id=1484824777928101889 text=ヒカキンTV19時プレミア公開🎉😎\n",
      "\n",
      "家にいきなり長澤まさみさんと生田絵梨花さんが来たんだけど… https://t.co/ZQrtiwuNNg @YouTubeより https://t.co/GE6r5SzTBQ>, <Tweet id=1484565827382767617 text=地震の対象地域の皆さん、不安かと思いますが、余震も気をつけて。 https://t.co/kmqlpTeKEI>, <Tweet id=1483763667401592836 text=ヒカキンTV動画公開！😂🎉\n",
      "\n",
      "【お金無限】中身がわからない福袋クレーンゲームでとりまくったらまさかの中身!? https://t.co/UE68eXVG5l @YouTubeより https://t.co/qSFmvTpbhi>, <Tweet id=1483690029444526082 text=RT @uuum_news: UUUM、日本初となる「Minecraft（マインクラフト）」 と動画クリエイターのコラボ商品化権を取得 https://t.co/EJaUiWpG7e>]\n",
      "{}\n",
      "[]\n",
      "{'oldest_id': '1483690029444526082', 'newest_id': '1485587595312922624', 'result_count': 10, 'next_token': '7140dibdnow9c7btw3z452qdcjlns49dertn8kaxpyqlu'}\n"
     ]
    }
   ],
   "source": [
    "user_id = '130447415'\n",
    "tweets = client.get_users_tweets(id = user_id, tweet_fields =['id', 'created_at'])\n",
    "for tweet in tweets:\n",
    "    print(tweet)"
   ]
  },
  {
   "cell_type": "markdown",
   "metadata": {
    "colab_type": "text",
    "id": "3PibchrmJhQ-"
   },
   "source": [
    "You can create a tweet as follows:"
   ]
  },
  {
   "cell_type": "code",
   "execution_count": 13,
   "metadata": {
    "colab": {},
    "colab_type": "code",
    "id": "IwzTjf1gJhQ_"
   },
   "outputs": [
    {
     "name": "stdout",
     "output_type": "stream",
     "text": [
      "Response(data={'id': '1485809361247404037', 'text': 'Hello World'}, includes={}, errors=[], meta={})\n"
     ]
    }
   ],
   "source": [
    "# create a tweet:\n",
    "response = client.create_tweet(text = 'Hello World')\n",
    "print(response)"
   ]
  },
  {
   "cell_type": "markdown",
   "metadata": {
    "colab_type": "text",
    "id": "TtlXvbjoJhRB"
   },
   "source": [
    "(Nb. Don't abuse this feature! If you try to generate a zillion tweets in a loop, Twitter will ban youur account.)"
   ]
  },
  {
   "cell_type": "markdown",
   "metadata": {
    "colab_type": "text",
    "id": "awUIiruTJhRB"
   },
   "source": [
    "Tweets can be deleted by reference to their `id_str` attribute:"
   ]
  },
  {
   "cell_type": "code",
   "execution_count": 18,
   "metadata": {
    "colab": {},
    "colab_type": "code",
    "id": "tKPSCOEBJhRC"
   },
   "outputs": [],
   "source": [
    "# delete a tweet:\n",
    "status = client.delete_tweet(id = '1485809361247404037')"
   ]
  },
  {
   "cell_type": "markdown",
   "metadata": {
    "colab_type": "text",
    "id": "hEt9NWJBJhRE"
   },
   "source": [
    "You can follow a Tweeter:"
   ]
  },
  {
   "cell_type": "code",
   "execution_count": 19,
   "metadata": {
    "colab": {},
    "colab_type": "code",
    "id": "CDWxR8wOJhRF"
   },
   "outputs": [
    {
     "data": {
      "text/plain": [
       "Response(data={'following': True, 'pending_follow': False}, includes={}, errors=[], meta={})"
      ]
     },
     "execution_count": 19,
     "metadata": {},
     "output_type": "execute_result"
    }
   ],
   "source": [
    "# follow:\n",
    "client.follow_user(target_user_id = '1174426031010152448')"
   ]
  },
  {
   "cell_type": "markdown",
   "metadata": {
    "colab_type": "text",
    "id": "Nbp2vRONJhRH"
   },
   "source": [
    "or unfollow:"
   ]
  },
  {
   "cell_type": "code",
   "execution_count": 0,
   "metadata": {
    "colab": {},
    "colab_type": "code",
    "id": "wCsNNVT9JhRH"
   },
   "outputs": [],
   "source": [
    "# unfollow:\n",
    "api.destroy_friendship(target_user_id = '1174426031010152448')"
   ]
  },
  {
   "cell_type": "code",
   "execution_count": 0,
   "metadata": {
    "colab": {},
    "colab_type": "code",
    "id": "ND4BmdkvJhRJ"
   },
   "outputs": [],
   "source": []
  },
  {
   "cell_type": "markdown",
   "metadata": {
    "colab_type": "text",
    "id": "59l7EOATJrJO"
   },
   "source": [
    "\n",
    "\n",
    "---\n",
    "\n",
    "\n",
    "\n",
    "---\n",
    "\n",
    "\n",
    "\n",
    "> > > > > > > > > © 2021 Institute of Data\n",
    "\n",
    "\n",
    "---\n",
    "\n",
    "\n",
    "\n",
    "---\n",
    "\n",
    "\n",
    "\n"
   ]
  }
 ],
 "metadata": {
  "colab": {
   "collapsed_sections": [],
   "name": "DSIA Lab 2.2.2.ipynb",
   "provenance": []
  },
  "kernelspec": {
   "display_name": "Python 3",
   "language": "python",
   "name": "python3"
  },
  "language_info": {
   "codemirror_mode": {
    "name": "ipython",
    "version": 3
   },
   "file_extension": ".py",
   "mimetype": "text/x-python",
   "name": "python",
   "nbconvert_exporter": "python",
   "pygments_lexer": "ipython3",
   "version": "3.8.8"
  }
 },
 "nbformat": 4,
 "nbformat_minor": 1
}
