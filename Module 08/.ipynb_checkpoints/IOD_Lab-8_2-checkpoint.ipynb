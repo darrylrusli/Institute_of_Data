{
 "cells": [
  {
   "cell_type": "markdown",
   "metadata": {
    "colab_type": "text",
    "id": "zYPZ2MKXMk4U"
   },
   "source": [
    "<div>\n",
    "<img src=https://www.institutedata.com/wp-content/uploads/2019/10/iod_h_tp_primary_c.svg width=\"300\">\n",
    "</div>"
   ]
  },
  {
   "cell_type": "markdown",
   "metadata": {
    "colab_type": "text",
    "id": "8j6-MfKHMk4Y"
   },
   "source": [
    "# Lab 8.2: Web Scraping\n",
    "INSTRUCTIONS:\n",
    "- Read the guides and hints then create the necessary analysis and code to find an answer and conclusion for the task below."
   ]
  },
  {
   "cell_type": "markdown",
   "metadata": {
    "colab_type": "text",
    "id": "HImUFlzCMk4c"
   },
   "source": [
    "# Web Scraping in Python (using BeautifulSoup)\n",
    "\n",
    "## Scraping Rules\n",
    "1. **Always** check a website’s **Terms and Conditions** before you scrape it. Be careful to read the statements about legal use of data. Usually, the retrieved data should not be used for commercial purposes.\n",
    "2. **Do not** request data from the website too aggressively with a program (also known as spamming), as this may break the website. Make sure the program behaves in a reasonable manner (i.e. acts like a human). One request for one webpage per second is good practice.\n",
    "3. The layout of a website may change from time to time, so make sure to revisit the site and rewrite the code as needed"
   ]
  },
  {
   "cell_type": "markdown",
   "metadata": {
    "colab_type": "text",
    "id": "l6UcvsYfMk4f"
   },
   "source": [
    "## Find a Page\n",
    "Visit the [Fandom](http://fandom.wikia.com) website, find a wikia of your interest and pick a page to work with."
   ]
  },
  {
   "cell_type": "markdown",
   "metadata": {
    "colab_type": "text",
    "id": "-NXv6z-6Mk4i"
   },
   "source": [
    "Open a web page with the browser and inspect it.\n",
    "\n",
    "Hover the cursor on the text and follow the shaded box surrounding the main text.\n",
    "\n",
    "From the result, check the main text inside a few levels of HTML tags."
   ]
  },
  {
   "cell_type": "code",
   "execution_count": 1,
   "metadata": {
    "colab": {},
    "colab_type": "code",
    "id": "nYkrA5JuMk4m"
   },
   "outputs": [],
   "source": [
    "## Import Libraries\n",
    "\n",
    "import regex as re\n",
    "\n",
    "from urllib.parse import unquote\n",
    "import urllib3\n",
    "from bs4 import BeautifulSoup\n",
    "\n",
    "import warnings\n",
    "warnings.filterwarnings('ignore')"
   ]
  },
  {
   "cell_type": "markdown",
   "metadata": {
    "colab_type": "text",
    "id": "hb3_djX0Mk4s"
   },
   "source": [
    "### Define the content to retrieve (webpage's URL)"
   ]
  },
  {
   "cell_type": "code",
   "execution_count": 2,
   "metadata": {},
   "outputs": [],
   "source": [
    "# quote_page = 'https://strangerthings.fandom.com/wiki/Eleven'\n",
    "\n",
    "quote_page = 'https://bigbangtheory.fandom.com/wiki/Barry_Kripke'"
   ]
  },
  {
   "cell_type": "markdown",
   "metadata": {
    "colab_type": "text",
    "id": "pKYTTGA1Mk4t"
   },
   "source": [
    "### Retrieve the page\n",
    "- Require Internet connection"
   ]
  },
  {
   "cell_type": "code",
   "execution_count": 3,
   "metadata": {},
   "outputs": [
    {
     "name": "stdout",
     "output_type": "stream",
     "text": [
      "Type of the variabel 'page': bytes\n",
      "Page Retrieved. Request Status: 200, Page Size: 463349\n"
     ]
    }
   ],
   "source": [
    "http = urllib3.PoolManager()\n",
    "r = http.request('GET', quote_page)\n",
    "if r.status == 200:\n",
    "    page = r.data\n",
    "    print('Type of the variabel \\'page\\':', page.__class__.__name__)\n",
    "    print('Page Retrieved. Request Status: %d, Page Size: %d' % (r.status, len(page)))\n",
    "else:\n",
    "    print('Some problem occurred. Request Status: %s' % r.status)"
   ]
  },
  {
   "cell_type": "markdown",
   "metadata": {
    "colab_type": "text",
    "id": "w7HYoOoDMk4v"
   },
   "source": [
    "### Convert the stream of bytes into a BeautifulSoup representation"
   ]
  },
  {
   "cell_type": "code",
   "execution_count": 4,
   "metadata": {},
   "outputs": [
    {
     "name": "stdout",
     "output_type": "stream",
     "text": [
      "Type of the variable 'soup': BeautifulSoup\n"
     ]
    }
   ],
   "source": [
    "# parse the html using beautiful soup and store in variable 'soup'\n",
    "\n",
    "soup = BeautifulSoup(page, 'html.parser')\n",
    "print('Type of the variable \\'soup\\':', soup.__class__.__name__)"
   ]
  },
  {
   "cell_type": "markdown",
   "metadata": {
    "colab_type": "text",
    "id": "Zb0yHBblMk4w"
   },
   "source": [
    "### Check the content\n",
    "- The HTML source\n",
    "- Includes all tags and scripts\n",
    "- Can be long!"
   ]
  },
  {
   "cell_type": "code",
   "execution_count": 5,
   "metadata": {},
   "outputs": [
    {
     "name": "stdout",
     "output_type": "stream",
     "text": [
      "<!DOCTYPE html>\n",
      "<html class=\"client-nojs\" dir=\"ltr\" lang=\"en\">\n",
      " <head>\n",
      "  <meta charset=\"utf-8\"/>\n",
      "  <title>\n",
      "   Barry Kripke | The Big Bang Theory Wiki | Fandom\n",
      "  </title>\n",
      "  <script>\n",
      "   document.documentElement.className = document.documentElement.className.replace( /(^|\\s)client-nojs(\\s|$)/, \"$1client-js$2\" );\n",
      "  </script>\n",
      "  <script>\n",
      "   (window.RLQ=window.RLQ||[]).push(function(){mw.config.set({\"wgCanonicalNamespace\":\"\",\"wgCanonicalSpecialPageName\":false,\"wgNamespaceNumber\":0,\"wgPageName\":\"Barry_Kripke\",\"wgTitle\":\"Barry Kripke\",\"wgCurRevisionId\":355876,\"wgRevisionId\":355876,\"wgArticleId\":2273,\"wgIsArticle\":true,\"wgIsRedirect\":false,\"wgAction\":\"view\",\"wgUserName\":null,\"wgUserGroups\":[\"*\"],\"wgCategories\":[\"Characters\",\"Caltech Faculty\",\"Scientists\",\"Physicists\",\"Experimental Physicists\",\"Theoretical Physicists\",\"Particle Physicists\",\"Recurring Characters\",\"Season 2\",\"Season 3\",\"Season 4\",\"Season 5\",\"Season 6\",\"Season 7\",\"Season 8\",\"Season 9\",\"The Big Bang Theory\",\"Kripke\",\"Single\",\"Sheldon\n"
     ]
    }
   ],
   "source": [
    "print(soup.prettify()[:1000])"
   ]
  },
  {
   "cell_type": "markdown",
   "metadata": {
    "colab_type": "text",
    "id": "Hy2z1218Mk4x"
   },
   "source": [
    "### Check the HTML's Title"
   ]
  },
  {
   "cell_type": "code",
   "execution_count": 6,
   "metadata": {},
   "outputs": [
    {
     "name": "stdout",
     "output_type": "stream",
     "text": [
      "Title tag: <title>Barry Kripke | The Big Bang Theory Wiki | Fandom</title>:\n",
      "Title text:Barry Kripke | The Big Bang Theory Wiki | Fandom:\n"
     ]
    }
   ],
   "source": [
    "print('Title tag: %s:' % soup.title)\n",
    "print('Title text:%s:' % soup.title.string)"
   ]
  },
  {
   "cell_type": "markdown",
   "metadata": {
    "colab_type": "text",
    "id": "NV3IJlHQMk4z"
   },
   "source": [
    "### Find the main content\n",
    "- Check if it is possible to use only the relevant data"
   ]
  },
  {
   "cell_type": "code",
   "execution_count": 7,
   "metadata": {},
   "outputs": [
    {
     "name": "stdout",
     "output_type": "stream",
     "text": [
      "Type of the variable 'article': Tag\n"
     ]
    }
   ],
   "source": [
    "tag = 'nav'\n",
    "nav = soup.find_all(tag)[0]\n",
    "print('Type of the variable \\'article\\':', nav.__class__.__name__)"
   ]
  },
  {
   "cell_type": "code",
   "execution_count": 8,
   "metadata": {},
   "outputs": [
    {
     "data": {
      "text/plain": [
       "'\\n\\n\\n\\n\\n Explore\\n\\n \\n\\n\\n\\n\\n Main Page\\n\\n\\n\\n\\n Discuss\\n\\n\\n\\n\\nAll Pages\\n\\n\\n\\n\\nCommunity\\n\\n\\n\\n\\nInteractive Maps\\n\\n\\n\\n\\nRecent Blog Posts\\n\\n\\n\\n\\n\\n\\n\\n\\nCharacters\\n\\n\\n\\n\\n\\n\\nBig Bang Theory\\n\\n \\n\\n\\n\\n\\nMain Characters\\n \\n\\n\\n\\n\\nLeonard Hofstadter\\n\\n\\n\\n\\nPenny Hofstadter\\n\\n\\n\\n\\nSheldon Cooper\\n\\n\\n\\n\\nAmy Farrah Fowler\\n\\n\\n\\n\\nHoward Wolowitz\\n\\n\\n\\n\\nBernadette Rostenkowski-Wolowitz\\n\\n\\n\\n\\nRajesh Koothrappali\\n\\n\\n\\n\\nStuart Bloom\\n\\n\\n\\n\\nLeslie Winkle\\n\\n\\n\\n\\nEmily Sweeney\\n\\n\\n\\n\\n\\n\\n\\nRecurring Characters\\n \\n\\n\\n\\n\\nBeverly Hofstadter\\n\\n\\n\\n\\nMary Cooper\\n\\n\\n\\n\\nDebbie Wolowitz\\n\\n\\n\\n\\nMike Rostenkowski\\n\\n\\n\\n\\nV. M. Koothrappali\\n\\n\\n\\n\\nPriya Koothrappali\\n\\n\\n\\n\\nDenise\\n\\n\\n\\n\\nBarry Kripke\\n\\n\\n\\n\\nWil Wheaton\\n\\n\\n\\n\\nZack Johnson\\n\\n\\n\\n\\n\\n\\n\\nSeasons (1-6)\\n \\n\\n\\n\\n\\nSeason 1\\n\\n\\n\\n\\nSeason 2\\n\\n\\n\\n\\nSeason 3\\n\\n\\n\\n\\nSeason 4\\n\\n\\n\\n\\nSeason 5\\n\\n\\n\\n\\nSeason 6\\n\\n\\n\\n\\n\\n\\n\\nSeasons (7-12)\\n \\n\\n\\n\\n\\nSeason 7\\n\\n\\n\\n\\nSeason 8\\n\\n\\n\\n\\nSeason 9\\n\\n\\n\\n\\nSeason 10\\n\\n\\n\\n\\nSeason 11\\n\\n\\n\\n\\nSeason 12\\n\\n\\n\\n\\n\\n\\n\\n\\n\\n\\n\\nYoung Sheldon\\n\\n \\n\\n\\n\\n\\nMain Characters\\n \\n\\n\\n\\n\\nSheldon Cooper\\n\\n\\n\\n\\nMary Cooper\\n\\n\\n\\n\\nGeorge Cooper Sr.\\n\\n\\n\\n\\nGeorge Cooper Jr.\\n\\n\\n\\n\\nMissy Cooper\\n\\n\\n\\n\\nMeemaw\\n\\n\\n\\n\\nJeff Difford\\n\\n\\n\\n\\n\\n\\n\\nRecurring Characters\\n \\n\\n\\n\\n\\nTam Nguyen\\n\\n\\n\\n\\nVeronica Duncan\\n\\n\\n\\n\\nBilly Sparks\\n\\n\\n\\n\\nBrenda Sparks\\n\\n\\n\\n\\nJohn Sturgis\\n\\n\\n\\n\\nDale Ballard\\n\\n\\n\\n\\nPaige Swanson\\n\\n\\n\\n\\n\\n\\n\\nSeasons\\n \\n\\n\\n\\n\\nSeason 1\\n\\n\\n\\n\\nSeason 2\\n\\n\\n\\n\\nSeason 3\\n\\n\\n\\n\\nSeason 4\\n\\n\\n\\n\\n\\n\\n\\n\\n\\n'"
      ]
     },
     "execution_count": 8,
     "metadata": {},
     "output_type": "execute_result"
    }
   ],
   "source": [
    "nav.text"
   ]
  },
  {
   "cell_type": "markdown",
   "metadata": {
    "colab_type": "text",
    "id": "sEioc2exMk40"
   },
   "source": [
    "### Get some of the text\n",
    "- Plain text without HTML tags"
   ]
  },
  {
   "cell_type": "code",
   "execution_count": 9,
   "metadata": {},
   "outputs": [
    {
     "name": "stdout",
     "output_type": "stream",
     "text": [
      "\n",
      " Explore\n",
      " \n",
      " Main Page\n",
      " Discuss\n",
      "All Pages\n",
      "Community\n",
      "Interactive Maps\n",
      "Recent Blog Posts\n",
      "Characters\n",
      "Big Bang Theory\n",
      " \n",
      "Main Characters\n",
      " \n",
      "Leonard Hofstadter\n",
      "Penny Hofstadter\n",
      "Sheldon Cooper\n",
      "Amy Farrah Fowler\n",
      "Howard Wolowitz\n",
      "Bernadette Rostenkowski-Wolowitz\n",
      "Rajesh Koothrappali\n",
      "Stuart Bloom\n",
      "Leslie Winkle\n",
      "Emily Sweeney\n",
      "Recurring Characters\n",
      " \n",
      "Beverly Hofstadter\n",
      "Mary Cooper\n",
      "Debbie Wolowitz\n",
      "Mike Rostenkowski\n",
      "V. M. Koothrappali\n",
      "Priya Koothrappali\n",
      "Denise\n",
      "Barry Kripke\n",
      "Wil Wheaton\n",
      "Zack Johnson\n",
      "Seasons (1-6)\n",
      " \n",
      "\n"
     ]
    }
   ],
   "source": [
    "nav_text_line = re.sub(r'\\n\\n+', '\\n', nav.text)\n",
    "print(nav_text_line[:500])"
   ]
  },
  {
   "cell_type": "markdown",
   "metadata": {
    "colab_type": "text",
    "id": "Gdf3no5jMk41"
   },
   "source": [
    "### Find the links in the text"
   ]
  },
  {
   "cell_type": "code",
   "execution_count": 10,
   "metadata": {},
   "outputs": [
    {
     "name": "stdout",
     "output_type": "stream",
     "text": [
      "<a data-tracking=\"custom-level-1\" href=\"#\">\n",
      "<svg class=\"wds-icon-tiny wds-icon\"><use xlink:href=\"#wds-icons-book-tiny\"></use></svg> <span>Explore</span>\n",
      "</a>\n",
      "<a data-tracking=\"explore-main-page\" href=\"https://bigbangtheory.fandom.com/wiki/Main_Page\">\n",
      "<svg class=\"wds-icon-tiny wds-icon navigation-item-icon\"><use xlink:href=\"#wds-icons-home-tiny\"></use></svg> <span>Main Page</span>\n",
      "</a>\n",
      "<a data-tracking=\"explore-discuss\" href=\"/f\">\n",
      "<svg class=\"wds-icon-tiny wds-icon navigation-item-icon\"><use xlink:href=\"#wds-icons-discussions-tiny\"></use></svg> <span>Discuss</span>\n",
      "</a>\n",
      "<a data-tracking=\"explore-all-pages\" href=\"https://bigbangtheory.fandom.com/wiki/Special:AllPages\">\n",
      "<span>All Pages</span>\n",
      "</a>\n",
      "<a data-tracking=\"explore-community\" href=\"https://bigbangtheory.fandom.com/wiki/Special:Community\">\n",
      "<span>Community</span>\n",
      "</a>\n",
      "<a data-tracking=\"interactive-maps\" href=\"https://bigbangtheory.fandom.com/wiki/Special:AllMaps\">\n",
      "<span>Interactive Maps</span>\n",
      "</a>\n",
      "<a data-tracking=\"explore-blogs\" href=\"/Blog:Recent_posts\">\n",
      "<span>Recent Blog Posts</span>\n",
      "</a>\n",
      "<a data-tracking=\"custom-level-1\" href=\"https://bigbangtheory.fandom.com/wiki/Category:Characters\">\n",
      "<span>Characters</span>\n",
      "</a>\n",
      "<a data-tracking=\"custom-level-1\" href=\"https://bigbangtheory.fandom.com/wiki/Big_Bang_Theory\">\n",
      "<span>Big Bang Theory</span>\n",
      "</a>\n",
      "<a class=\"wds-dropdown-level-nested__toggle\" data-tracking=\"custom-level-2\" href=\"https://bigbangtheory.fandom.com/wiki/Category:Main_Characters\">\n",
      "<span>Main Characters</span>\n",
      "<svg class=\"wds-icon wds-icon-tiny wds-dropdown-chevron\"><use xlink:href=\"#wds-icons-menu-control-tiny\"></use></svg> </a>\n",
      "<a data-tracking=\"custom-level-3\" href=\"https://bigbangtheory.fandom.com/wiki/Leonard_Hofstadter\">\n",
      "<span>Leonard Hofstadter</span>\n",
      "</a>\n",
      "<a data-tracking=\"custom-level-3\" href=\"https://bigbangtheory.fandom.com/wiki/Penny_Hofstadter\">\n",
      "<span>Penny Hofstadter</span>\n",
      "</a>\n",
      "<a data-tracking=\"custom-level-3\" href=\"https://bigbangtheory.fandom.com/wiki/Sheldon_Cooper\">\n",
      "<span>Sheldon Cooper</span>\n",
      "</a>\n",
      "<a data-tracking=\"custom-level-3\" href=\"https://bigbangtheory.fandom.com/wiki/Amy_Farrah_Fowler\">\n",
      "<span>Amy Farrah Fowler</span>\n",
      "</a>\n",
      "<a data-tracking=\"custom-level-3\" href=\"https://bigbangtheory.fandom.com/wiki/Howard_Wolowitz\">\n",
      "<span>Howard Wolowitz</span>\n",
      "</a>\n",
      "<a data-tracking=\"custom-level-3\" href=\"https://bigbangtheory.fandom.com/wiki/Bernadette_Rostenkowski-Wolowitz\">\n",
      "<span>Bernadette Rostenkowski-Wolowitz</span>\n",
      "</a>\n",
      "<a data-tracking=\"custom-level-3\" href=\"https://bigbangtheory.fandom.com/wiki/Rajesh_Koothrappali\">\n",
      "<span>Rajesh Koothrappali</span>\n",
      "</a>\n",
      "<a data-tracking=\"custom-level-3\" href=\"https://bigbangtheory.fandom.com/wiki/Stuart_Bloom\">\n",
      "<span>Stuart Bloom</span>\n",
      "</a>\n",
      "<a data-tracking=\"custom-level-3\" href=\"https://bigbangtheory.fandom.com/wiki/Leslie_Winkle\">\n",
      "<span>Leslie Winkle</span>\n",
      "</a>\n",
      "<a data-tracking=\"custom-level-3\" href=\"https://bigbangtheory.fandom.com/wiki/Emily_Sweeney\">\n",
      "<span>Emily Sweeney</span>\n",
      "</a>\n",
      "<a class=\"wds-dropdown-level-nested__toggle\" data-tracking=\"custom-level-2\" href=\"https://bigbangtheory.fandom.com/wiki/Category:Recurring_Characters\">\n",
      "<span>Recurring Characters</span>\n",
      "<svg class=\"wds-icon wds-icon-tiny wds-dropdown-chevron\"><use xlink:href=\"#wds-icons-menu-control-tiny\"></use></svg> </a>\n",
      "<a data-tracking=\"custom-level-3\" href=\"https://bigbangtheory.fandom.com/wiki/Beverly_Hofstadter\">\n",
      "<span>Beverly Hofstadter</span>\n",
      "</a>\n",
      "<a data-tracking=\"custom-level-3\" href=\"https://bigbangtheory.fandom.com/wiki/Mary_Cooper\">\n",
      "<span>Mary Cooper</span>\n",
      "</a>\n",
      "<a data-tracking=\"custom-level-3\" href=\"https://bigbangtheory.fandom.com/wiki/Debbie_Wolowitz\">\n",
      "<span>Debbie Wolowitz</span>\n",
      "</a>\n",
      "<a data-tracking=\"custom-level-3\" href=\"https://bigbangtheory.fandom.com/wiki/Mike_Rostenkowski\">\n",
      "<span>Mike Rostenkowski</span>\n",
      "</a>\n",
      "<a data-tracking=\"custom-level-3\" href=\"https://bigbangtheory.fandom.com/wiki/V._M._Koothrappali\">\n",
      "<span>V. M. Koothrappali</span>\n",
      "</a>\n",
      "<a data-tracking=\"custom-level-3\" href=\"https://bigbangtheory.fandom.com/wiki/Priya_Koothrappali\">\n",
      "<span>Priya Koothrappali</span>\n",
      "</a>\n",
      "<a data-tracking=\"custom-level-3\" href=\"https://bigbangtheory.fandom.com/wiki/Denise\">\n",
      "<span>Denise</span>\n",
      "</a>\n",
      "<a data-tracking=\"custom-level-3\" href=\"https://bigbangtheory.fandom.com/wiki/Barry_Kripke\">\n",
      "<span>Barry Kripke</span>\n",
      "</a>\n",
      "<a data-tracking=\"custom-level-3\" href=\"https://bigbangtheory.fandom.com/wiki/Wil_Wheaton\">\n",
      "<span>Wil Wheaton</span>\n",
      "</a>\n",
      "<a data-tracking=\"custom-level-3\" href=\"https://bigbangtheory.fandom.com/wiki/Zack_Johnson\">\n",
      "<span>Zack Johnson</span>\n",
      "</a>\n",
      "<a class=\"wds-dropdown-level-nested__toggle\" data-tracking=\"custom-level-2\" href=\"https://bigbangtheory.fandom.com/wiki/Seasons_(1-6)\">\n",
      "<span>Seasons (1-6)</span>\n",
      "<svg class=\"wds-icon wds-icon-tiny wds-dropdown-chevron\"><use xlink:href=\"#wds-icons-menu-control-tiny\"></use></svg> </a>\n",
      "<a data-tracking=\"custom-level-3\" href=\"https://bigbangtheory.fandom.com/wiki/Season_1\">\n",
      "<span>Season 1</span>\n",
      "</a>\n",
      "<a data-tracking=\"custom-level-3\" href=\"https://bigbangtheory.fandom.com/wiki/Season_2\">\n",
      "<span>Season 2</span>\n",
      "</a>\n",
      "<a data-tracking=\"custom-level-3\" href=\"https://bigbangtheory.fandom.com/wiki/Season_3\">\n",
      "<span>Season 3</span>\n",
      "</a>\n",
      "<a data-tracking=\"custom-level-3\" href=\"https://bigbangtheory.fandom.com/wiki/Season_4\">\n",
      "<span>Season 4</span>\n",
      "</a>\n",
      "<a data-tracking=\"custom-level-3\" href=\"https://bigbangtheory.fandom.com/wiki/Season_5\">\n",
      "<span>Season 5</span>\n",
      "</a>\n",
      "<a data-tracking=\"custom-level-3\" href=\"https://bigbangtheory.fandom.com/wiki/Season_6\">\n",
      "<span>Season 6</span>\n",
      "</a>\n",
      "<a class=\"wds-dropdown-level-nested__toggle\" data-tracking=\"custom-level-2\" href=\"https://bigbangtheory.fandom.com/wiki/Seasons_(7-12)\">\n",
      "<span>Seasons (7-12)</span>\n",
      "<svg class=\"wds-icon wds-icon-tiny wds-dropdown-chevron\"><use xlink:href=\"#wds-icons-menu-control-tiny\"></use></svg> </a>\n",
      "<a data-tracking=\"custom-level-3\" href=\"https://bigbangtheory.fandom.com/wiki/Season_7\">\n",
      "<span>Season 7</span>\n",
      "</a>\n",
      "<a data-tracking=\"custom-level-3\" href=\"https://bigbangtheory.fandom.com/wiki/Season_8\">\n",
      "<span>Season 8</span>\n",
      "</a>\n",
      "<a data-tracking=\"custom-level-3\" href=\"https://bigbangtheory.fandom.com/wiki/Season_9\">\n",
      "<span>Season 9</span>\n",
      "</a>\n",
      "<a data-tracking=\"custom-level-3\" href=\"https://bigbangtheory.fandom.com/wiki/Season_10\">\n",
      "<span>Season 10</span>\n",
      "</a>\n",
      "<a data-tracking=\"custom-level-3\" href=\"https://bigbangtheory.fandom.com/wiki/Season_11\">\n",
      "<span>Season 11</span>\n",
      "</a>\n",
      "<a data-tracking=\"custom-level-3\" href=\"https://bigbangtheory.fandom.com/wiki/Season_12\">\n",
      "<span>Season 12</span>\n",
      "</a>\n",
      "<a data-tracking=\"custom-level-1\" href=\"https://bigbangtheory.fandom.com/wiki/Young_Sheldon\">\n",
      "<span>Young Sheldon</span>\n",
      "</a>\n",
      "<a class=\"wds-dropdown-level-nested__toggle\" data-tracking=\"custom-level-2\" href=\"https://bigbangtheory.fandom.com/wiki/Category:Main_Characters\">\n",
      "<span>Main Characters</span>\n",
      "<svg class=\"wds-icon wds-icon-tiny wds-dropdown-chevron\"><use xlink:href=\"#wds-icons-menu-control-tiny\"></use></svg> </a>\n",
      "<a data-tracking=\"custom-level-3\" href=\"https://bigbangtheory.fandom.com/wiki/Sheldon_Cooper\">\n",
      "<span>Sheldon Cooper</span>\n",
      "</a>\n",
      "<a data-tracking=\"custom-level-3\" href=\"https://bigbangtheory.fandom.com/wiki/Mary_Cooper\">\n",
      "<span>Mary Cooper</span>\n",
      "</a>\n",
      "<a data-tracking=\"custom-level-3\" href=\"https://bigbangtheory.fandom.com/wiki/George_Cooper_Sr.\">\n",
      "<span>George Cooper Sr.</span>\n",
      "</a>\n",
      "<a data-tracking=\"custom-level-3\" href=\"https://bigbangtheory.fandom.com/wiki/George_Cooper_Jr.\">\n",
      "<span>George Cooper Jr.</span>\n",
      "</a>\n",
      "<a data-tracking=\"custom-level-3\" href=\"https://bigbangtheory.fandom.com/wiki/Missy_Cooper\">\n",
      "<span>Missy Cooper</span>\n",
      "</a>\n",
      "<a data-tracking=\"custom-level-3\" href=\"https://bigbangtheory.fandom.com/wiki/Meemaw\">\n",
      "<span>Meemaw</span>\n",
      "</a>\n",
      "<a data-tracking=\"custom-level-3\" href=\"https://bigbangtheory.fandom.com/wiki/Jeff_Difford\">\n",
      "<span>Jeff Difford</span>\n",
      "</a>\n",
      "<a class=\"wds-dropdown-level-nested__toggle\" data-tracking=\"custom-level-2\" href=\"https://bigbangtheory.fandom.com/wiki/Category:Recurring_Characters\">\n",
      "<span>Recurring Characters</span>\n",
      "<svg class=\"wds-icon wds-icon-tiny wds-dropdown-chevron\"><use xlink:href=\"#wds-icons-menu-control-tiny\"></use></svg> </a>\n",
      "<a data-tracking=\"custom-level-3\" href=\"https://bigbangtheory.fandom.com/wiki/Tam_Nguyen\">\n",
      "<span>Tam Nguyen</span>\n",
      "</a>\n",
      "<a data-tracking=\"custom-level-3\" href=\"https://bigbangtheory.fandom.com/wiki/Veronica_Duncan\">\n",
      "<span>Veronica Duncan</span>\n",
      "</a>\n",
      "<a data-tracking=\"custom-level-3\" href=\"https://bigbangtheory.fandom.com/wiki/Billy_Sparks\">\n",
      "<span>Billy Sparks</span>\n",
      "</a>\n",
      "<a data-tracking=\"custom-level-3\" href=\"https://bigbangtheory.fandom.com/wiki/Brenda_Sparks\">\n",
      "<span>Brenda Sparks</span>\n",
      "</a>\n",
      "<a data-tracking=\"custom-level-3\" href=\"https://bigbangtheory.fandom.com/wiki/John_Sturgis\">\n",
      "<span>John Sturgis</span>\n",
      "</a>\n",
      "<a data-tracking=\"custom-level-3\" href=\"https://bigbangtheory.fandom.com/wiki/Dale_Ballard\">\n",
      "<span>Dale Ballard</span>\n",
      "</a>\n",
      "<a data-tracking=\"custom-level-3\" href=\"https://bigbangtheory.fandom.com/wiki/Paige_Swanson\">\n",
      "<span>Paige Swanson</span>\n",
      "</a>\n",
      "<a class=\"wds-dropdown-level-nested__toggle\" data-tracking=\"custom-level-2\" href=\"https://bigbangtheory.fandom.com/wiki/Seasons\">\n",
      "<span>Seasons</span>\n",
      "<svg class=\"wds-icon wds-icon-tiny wds-dropdown-chevron\"><use xlink:href=\"#wds-icons-menu-control-tiny\"></use></svg> </a>\n",
      "<a data-tracking=\"custom-level-3\" href=\"https://bigbangtheory.fandom.com/wiki/Season_1_(Young_Sheldon)\">\n",
      "<span>Season 1</span>\n",
      "</a>\n",
      "<a data-tracking=\"custom-level-3\" href=\"https://bigbangtheory.fandom.com/wiki/Season_2_(Young_Sheldon)\">\n",
      "<span>Season 2</span>\n",
      "</a>\n",
      "<a data-tracking=\"custom-level-3\" href=\"https://bigbangtheory.fandom.com/wiki/Season_3_(Young_Sheldon)\">\n",
      "<span>Season 3</span>\n",
      "</a>\n",
      "<a data-tracking=\"custom-level-3\" href=\"https://bigbangtheory.fandom.com/wiki/Season_4_(Young_Sheldon)\">\n",
      "<span>Season 4</span>\n",
      "</a>\n"
     ]
    }
   ],
   "source": [
    "# identify the type of tag to retrieve\n",
    "for t in nav.find_all('a'):\n",
    "    print(t)"
   ]
  },
  {
   "cell_type": "code",
   "execution_count": 11,
   "metadata": {},
   "outputs": [
    {
     "name": "stdout",
     "output_type": "stream",
     "text": [
      "Size of 'tag_list': 67\n"
     ]
    },
    {
     "data": {
      "text/plain": [
       "['#',\n",
       " 'https://bigbangtheory.fandom.com/wiki/Main_Page',\n",
       " '/f',\n",
       " 'https://bigbangtheory.fandom.com/wiki/Special:AllPages',\n",
       " 'https://bigbangtheory.fandom.com/wiki/Special:Community',\n",
       " 'https://bigbangtheory.fandom.com/wiki/Special:AllMaps',\n",
       " '/Blog:Recent_posts',\n",
       " 'https://bigbangtheory.fandom.com/wiki/Category:Characters',\n",
       " 'https://bigbangtheory.fandom.com/wiki/Big_Bang_Theory',\n",
       " 'https://bigbangtheory.fandom.com/wiki/Category:Main_Characters',\n",
       " 'https://bigbangtheory.fandom.com/wiki/Leonard_Hofstadter',\n",
       " 'https://bigbangtheory.fandom.com/wiki/Penny_Hofstadter',\n",
       " 'https://bigbangtheory.fandom.com/wiki/Sheldon_Cooper',\n",
       " 'https://bigbangtheory.fandom.com/wiki/Amy_Farrah_Fowler',\n",
       " 'https://bigbangtheory.fandom.com/wiki/Howard_Wolowitz',\n",
       " 'https://bigbangtheory.fandom.com/wiki/Bernadette_Rostenkowski-Wolowitz',\n",
       " 'https://bigbangtheory.fandom.com/wiki/Rajesh_Koothrappali',\n",
       " 'https://bigbangtheory.fandom.com/wiki/Stuart_Bloom',\n",
       " 'https://bigbangtheory.fandom.com/wiki/Leslie_Winkle',\n",
       " 'https://bigbangtheory.fandom.com/wiki/Emily_Sweeney',\n",
       " 'https://bigbangtheory.fandom.com/wiki/Category:Recurring_Characters',\n",
       " 'https://bigbangtheory.fandom.com/wiki/Beverly_Hofstadter',\n",
       " 'https://bigbangtheory.fandom.com/wiki/Mary_Cooper',\n",
       " 'https://bigbangtheory.fandom.com/wiki/Debbie_Wolowitz',\n",
       " 'https://bigbangtheory.fandom.com/wiki/Mike_Rostenkowski',\n",
       " 'https://bigbangtheory.fandom.com/wiki/V._M._Koothrappali',\n",
       " 'https://bigbangtheory.fandom.com/wiki/Priya_Koothrappali',\n",
       " 'https://bigbangtheory.fandom.com/wiki/Denise',\n",
       " 'https://bigbangtheory.fandom.com/wiki/Barry_Kripke',\n",
       " 'https://bigbangtheory.fandom.com/wiki/Wil_Wheaton',\n",
       " 'https://bigbangtheory.fandom.com/wiki/Zack_Johnson',\n",
       " 'https://bigbangtheory.fandom.com/wiki/Seasons_(1-6)',\n",
       " 'https://bigbangtheory.fandom.com/wiki/Season_1',\n",
       " 'https://bigbangtheory.fandom.com/wiki/Season_2',\n",
       " 'https://bigbangtheory.fandom.com/wiki/Season_3',\n",
       " 'https://bigbangtheory.fandom.com/wiki/Season_4',\n",
       " 'https://bigbangtheory.fandom.com/wiki/Season_5',\n",
       " 'https://bigbangtheory.fandom.com/wiki/Season_6',\n",
       " 'https://bigbangtheory.fandom.com/wiki/Seasons_(7-12)',\n",
       " 'https://bigbangtheory.fandom.com/wiki/Season_7',\n",
       " 'https://bigbangtheory.fandom.com/wiki/Season_8',\n",
       " 'https://bigbangtheory.fandom.com/wiki/Season_9',\n",
       " 'https://bigbangtheory.fandom.com/wiki/Season_10',\n",
       " 'https://bigbangtheory.fandom.com/wiki/Season_11',\n",
       " 'https://bigbangtheory.fandom.com/wiki/Season_12',\n",
       " 'https://bigbangtheory.fandom.com/wiki/Young_Sheldon',\n",
       " 'https://bigbangtheory.fandom.com/wiki/Category:Main_Characters',\n",
       " 'https://bigbangtheory.fandom.com/wiki/Sheldon_Cooper',\n",
       " 'https://bigbangtheory.fandom.com/wiki/Mary_Cooper',\n",
       " 'https://bigbangtheory.fandom.com/wiki/George_Cooper_Sr.',\n",
       " 'https://bigbangtheory.fandom.com/wiki/George_Cooper_Jr.',\n",
       " 'https://bigbangtheory.fandom.com/wiki/Missy_Cooper',\n",
       " 'https://bigbangtheory.fandom.com/wiki/Meemaw',\n",
       " 'https://bigbangtheory.fandom.com/wiki/Jeff_Difford',\n",
       " 'https://bigbangtheory.fandom.com/wiki/Category:Recurring_Characters',\n",
       " 'https://bigbangtheory.fandom.com/wiki/Tam_Nguyen',\n",
       " 'https://bigbangtheory.fandom.com/wiki/Veronica_Duncan',\n",
       " 'https://bigbangtheory.fandom.com/wiki/Billy_Sparks',\n",
       " 'https://bigbangtheory.fandom.com/wiki/Brenda_Sparks',\n",
       " 'https://bigbangtheory.fandom.com/wiki/John_Sturgis',\n",
       " 'https://bigbangtheory.fandom.com/wiki/Dale_Ballard',\n",
       " 'https://bigbangtheory.fandom.com/wiki/Paige_Swanson',\n",
       " 'https://bigbangtheory.fandom.com/wiki/Seasons',\n",
       " 'https://bigbangtheory.fandom.com/wiki/Season_1_(Young_Sheldon)',\n",
       " 'https://bigbangtheory.fandom.com/wiki/Season_2_(Young_Sheldon)',\n",
       " 'https://bigbangtheory.fandom.com/wiki/Season_3_(Young_Sheldon)',\n",
       " 'https://bigbangtheory.fandom.com/wiki/Season_4_(Young_Sheldon)']"
      ]
     },
     "execution_count": 11,
     "metadata": {},
     "output_type": "execute_result"
    }
   ],
   "source": [
    "# identify the type type of tag to retrieve\n",
    "\n",
    "link_tag = 'a'\n",
    "\n",
    "#create a list with links from the '<a>' tag\n",
    "tag_list=[]\n",
    "\n",
    "for t  in nav.find_all(link_tag):\n",
    "    tag_list.append(t.get('href'))\n",
    "\n",
    "# List comprehensions version\n",
    "# tag_list = [t.get('href') for t in nav.find_all(link_tag)]\n",
    "\n",
    "print('Size of \\'tag_list\\':', len(tag_list))\n",
    "tag_list"
   ]
  },
  {
   "cell_type": "code",
   "execution_count": 12,
   "metadata": {},
   "outputs": [
    {
     "name": "stdout",
     "output_type": "stream",
     "text": [
      "Size of 'wiki_tag_list': 64\n"
     ]
    },
    {
     "data": {
      "text/plain": [
       "['Main_Page',\n",
       " 'Special:AllPages',\n",
       " 'Special:Community',\n",
       " 'Special:AllMaps',\n",
       " 'Category:Characters',\n",
       " 'Big_Bang_Theory',\n",
       " 'Category:Main_Characters',\n",
       " 'Leonard_Hofstadter',\n",
       " 'Penny_Hofstadter',\n",
       " 'Sheldon_Cooper',\n",
       " 'Amy_Farrah_Fowler',\n",
       " 'Howard_Wolowitz',\n",
       " 'Bernadette_Rostenkowski-Wolowitz',\n",
       " 'Rajesh_Koothrappali',\n",
       " 'Stuart_Bloom',\n",
       " 'Leslie_Winkle',\n",
       " 'Emily_Sweeney',\n",
       " 'Category:Recurring_Characters',\n",
       " 'Beverly_Hofstadter',\n",
       " 'Mary_Cooper',\n",
       " 'Debbie_Wolowitz',\n",
       " 'Mike_Rostenkowski',\n",
       " 'V._M._Koothrappali',\n",
       " 'Priya_Koothrappali',\n",
       " 'Denise',\n",
       " 'Barry_Kripke',\n",
       " 'Wil_Wheaton',\n",
       " 'Zack_Johnson',\n",
       " 'Seasons_(1-6)',\n",
       " 'Season_1',\n",
       " 'Season_2',\n",
       " 'Season_3',\n",
       " 'Season_4',\n",
       " 'Season_5',\n",
       " 'Season_6',\n",
       " 'Seasons_(7-12)',\n",
       " 'Season_7',\n",
       " 'Season_8',\n",
       " 'Season_9',\n",
       " 'Season_10',\n",
       " 'Season_11',\n",
       " 'Season_12',\n",
       " 'Young_Sheldon',\n",
       " 'Category:Main_Characters',\n",
       " 'Sheldon_Cooper',\n",
       " 'Mary_Cooper',\n",
       " 'George_Cooper_Sr.',\n",
       " 'George_Cooper_Jr.',\n",
       " 'Missy_Cooper',\n",
       " 'Meemaw',\n",
       " 'Jeff_Difford',\n",
       " 'Category:Recurring_Characters',\n",
       " 'Tam_Nguyen',\n",
       " 'Veronica_Duncan',\n",
       " 'Billy_Sparks',\n",
       " 'Brenda_Sparks',\n",
       " 'John_Sturgis',\n",
       " 'Dale_Ballard',\n",
       " 'Paige_Swanson',\n",
       " 'Seasons',\n",
       " 'Season_1_(Young_Sheldon)',\n",
       " 'Season_2_(Young_Sheldon)',\n",
       " 'Season_3_(Young_Sheldon)',\n",
       " 'Season_4_(Young_Sheldon)']"
      ]
     },
     "execution_count": 12,
     "metadata": {},
     "output_type": "execute_result"
    }
   ],
   "source": [
    "# keep only the links to the wiki itself\n",
    "\n",
    "wiki_tag_list = []\n",
    "\n",
    "for link in tag_list:\n",
    "    if link is not None and link[32:38] == '/wiki/':\n",
    "        wiki_link = link[38:]\n",
    "        wiki_tag_list.append(wiki_link)\n",
    "        \n",
    "# List comprehension:\n",
    "# wiki_tag_list = [link[:6] for link in tag_list if link is not None and link[:6] == '/wiki/']\n",
    "\n",
    "print('Size of \\'wiki_tag_list\\':', len(wiki_tag_list))\n",
    "\n",
    "wiki_tag_list"
   ]
  },
  {
   "cell_type": "markdown",
   "metadata": {
    "colab_type": "text",
    "id": "2RNySAm5Mk42"
   },
   "source": [
    "### Create a filter for unwanted types of articles"
   ]
  },
  {
   "cell_type": "code",
   "execution_count": 13,
   "metadata": {},
   "outputs": [
    {
     "name": "stdout",
     "output_type": "stream",
     "text": [
      "Size of 'filtered_tag_list': 40\n"
     ]
    },
    {
     "data": {
      "text/plain": [
       "['Main_Page',\n",
       " 'Big_Bang_Theory',\n",
       " 'Leonard_Hofstadter',\n",
       " 'Penny_Hofstadter',\n",
       " 'Sheldon_Cooper',\n",
       " 'Amy_Farrah_Fowler',\n",
       " 'Howard_Wolowitz',\n",
       " 'Bernadette_Rostenkowski-Wolowitz',\n",
       " 'Rajesh_Koothrappali',\n",
       " 'Stuart_Bloom',\n",
       " 'Leslie_Winkle',\n",
       " 'Emily_Sweeney',\n",
       " 'Beverly_Hofstadter',\n",
       " 'Mary_Cooper',\n",
       " 'Debbie_Wolowitz',\n",
       " 'Mike_Rostenkowski',\n",
       " 'V._M._Koothrappali',\n",
       " 'Priya_Koothrappali',\n",
       " 'Denise',\n",
       " 'Barry_Kripke',\n",
       " 'Wil_Wheaton',\n",
       " 'Zack_Johnson',\n",
       " 'Seasons_(1-6)',\n",
       " 'Seasons_(7-12)',\n",
       " 'Young_Sheldon',\n",
       " 'Sheldon_Cooper',\n",
       " 'Mary_Cooper',\n",
       " 'George_Cooper_Sr.',\n",
       " 'George_Cooper_Jr.',\n",
       " 'Missy_Cooper',\n",
       " 'Meemaw',\n",
       " 'Jeff_Difford',\n",
       " 'Tam_Nguyen',\n",
       " 'Veronica_Duncan',\n",
       " 'Billy_Sparks',\n",
       " 'Brenda_Sparks',\n",
       " 'John_Sturgis',\n",
       " 'Dale_Ballard',\n",
       " 'Paige_Swanson',\n",
       " 'Seasons']"
      ]
     },
     "execution_count": 13,
     "metadata": {},
     "output_type": "execute_result"
    }
   ],
   "source": [
    "# create a filter for undesired links\n",
    "filter = '(%s)' % '|'.join([\n",
    "    'Season_',\n",
    "    'Category:',\n",
    "    'File:',\n",
    "    'Help:',\n",
    "    'Portal:',\n",
    "    'action=',\n",
    "    'Special:',\n",
    "    'Talk:'\n",
    "])\n",
    "# remove the links that are found in the filter\n",
    "filtered_tag_list = []\n",
    "for t in wiki_tag_list:\n",
    "    if not re.search(filter,t):\n",
    "        \n",
    "        filtered_tag_list.append(t)\n",
    "        \n",
    "# filtered_tag_list = [t for t in wiki_tag_list if not re.search(filter, t)]\n",
    "\n",
    "print('Size of \\'filtered_tag_list\\':', len(filtered_tag_list))\n",
    "filtered_tag_list"
   ]
  },
  {
   "cell_type": "code",
   "execution_count": 14,
   "metadata": {},
   "outputs": [
    {
     "name": "stdout",
     "output_type": "stream",
     "text": [
      "Size of 'unique_tag_list': 38\n"
     ]
    },
    {
     "data": {
      "text/plain": [
       "['Seasons_(1-6)',\n",
       " 'George_Cooper_Sr.',\n",
       " 'Debbie_Wolowitz',\n",
       " 'Sheldon_Cooper',\n",
       " 'Leonard_Hofstadter',\n",
       " 'V._M._Koothrappali',\n",
       " 'Barry_Kripke',\n",
       " 'Wil_Wheaton',\n",
       " 'George_Cooper_Jr.',\n",
       " 'Rajesh_Koothrappali',\n",
       " 'Zack_Johnson',\n",
       " 'Paige_Swanson',\n",
       " 'Priya_Koothrappali',\n",
       " 'Seasons',\n",
       " 'Tam_Nguyen',\n",
       " 'John_Sturgis',\n",
       " 'Emily_Sweeney',\n",
       " 'Penny_Hofstadter',\n",
       " 'Beverly_Hofstadter',\n",
       " 'Young_Sheldon',\n",
       " 'Brenda_Sparks',\n",
       " 'Billy_Sparks',\n",
       " 'Leslie_Winkle',\n",
       " 'Veronica_Duncan',\n",
       " 'Stuart_Bloom',\n",
       " 'Mike_Rostenkowski',\n",
       " 'Meemaw',\n",
       " 'Amy_Farrah_Fowler',\n",
       " 'Mary_Cooper',\n",
       " 'Main_Page',\n",
       " 'Howard_Wolowitz',\n",
       " 'Seasons_(7-12)',\n",
       " 'Missy_Cooper',\n",
       " 'Dale_Ballard',\n",
       " 'Jeff_Difford',\n",
       " 'Denise',\n",
       " 'Bernadette_Rostenkowski-Wolowitz',\n",
       " 'Big_Bang_Theory']"
      ]
     },
     "execution_count": 14,
     "metadata": {},
     "output_type": "execute_result"
    }
   ],
   "source": [
    "# Remove duplicates\n",
    "unique_tag_list = list(set(filtered_tag_list))\n",
    "\n",
    "print('Size of \\'unique_tag_list\\':', len(unique_tag_list))\n",
    "unique_tag_list"
   ]
  },
  {
   "cell_type": "code",
   "execution_count": 15,
   "metadata": {},
   "outputs": [
    {
     "name": "stdout",
     "output_type": "stream",
     "text": [
      "Size of 'unquoted_tag_list': 38\n"
     ]
    },
    {
     "data": {
      "text/plain": [
       "['Seasons_(1-6)',\n",
       " 'George_Cooper_Sr.',\n",
       " 'Debbie_Wolowitz',\n",
       " 'Sheldon_Cooper',\n",
       " 'Leonard_Hofstadter',\n",
       " 'V._M._Koothrappali',\n",
       " 'Barry_Kripke',\n",
       " 'Wil_Wheaton',\n",
       " 'George_Cooper_Jr.',\n",
       " 'Rajesh_Koothrappali',\n",
       " 'Zack_Johnson',\n",
       " 'Paige_Swanson',\n",
       " 'Priya_Koothrappali',\n",
       " 'Seasons',\n",
       " 'Tam_Nguyen',\n",
       " 'John_Sturgis',\n",
       " 'Emily_Sweeney',\n",
       " 'Penny_Hofstadter',\n",
       " 'Beverly_Hofstadter',\n",
       " 'Young_Sheldon',\n",
       " 'Brenda_Sparks',\n",
       " 'Billy_Sparks',\n",
       " 'Leslie_Winkle',\n",
       " 'Veronica_Duncan',\n",
       " 'Stuart_Bloom',\n",
       " 'Mike_Rostenkowski',\n",
       " 'Meemaw',\n",
       " 'Amy_Farrah_Fowler',\n",
       " 'Mary_Cooper',\n",
       " 'Main_Page',\n",
       " 'Howard_Wolowitz',\n",
       " 'Seasons_(7-12)',\n",
       " 'Missy_Cooper',\n",
       " 'Dale_Ballard',\n",
       " 'Jeff_Difford',\n",
       " 'Denise',\n",
       " 'Bernadette_Rostenkowski-Wolowitz',\n",
       " 'Big_Bang_Theory']"
      ]
     },
     "execution_count": 15,
     "metadata": {},
     "output_type": "execute_result"
    }
   ],
   "source": [
    "# Convert escaped sequences\n",
    "unquoted_tag_list = [unquote(t) for t in unique_tag_list]\n",
    "print('Size of \\'unquoted_tag_list\\':', len(unquoted_tag_list))\n",
    "unquoted_tag_list"
   ]
  },
  {
   "cell_type": "code",
   "execution_count": 16,
   "metadata": {},
   "outputs": [
    {
     "name": "stdout",
     "output_type": "stream",
     "text": [
      "Size of 'tag_list': 38\n"
     ]
    },
    {
     "data": {
      "text/plain": [
       "['Seasons (1-6)',\n",
       " 'George Cooper Sr.',\n",
       " 'Debbie Wolowitz',\n",
       " 'Sheldon Cooper',\n",
       " 'Leonard Hofstadter',\n",
       " 'V. M. Koothrappali',\n",
       " 'Barry Kripke',\n",
       " 'Wil Wheaton',\n",
       " 'George Cooper Jr.',\n",
       " 'Rajesh Koothrappali',\n",
       " 'Zack Johnson',\n",
       " 'Paige Swanson',\n",
       " 'Priya Koothrappali',\n",
       " 'Seasons',\n",
       " 'Tam Nguyen',\n",
       " 'John Sturgis',\n",
       " 'Emily Sweeney',\n",
       " 'Penny Hofstadter',\n",
       " 'Beverly Hofstadter',\n",
       " 'Young Sheldon',\n",
       " 'Brenda Sparks',\n",
       " 'Billy Sparks',\n",
       " 'Leslie Winkle',\n",
       " 'Veronica Duncan',\n",
       " 'Stuart Bloom',\n",
       " 'Mike Rostenkowski',\n",
       " 'Meemaw',\n",
       " 'Amy Farrah Fowler',\n",
       " 'Mary Cooper',\n",
       " 'Main Page',\n",
       " 'Howard Wolowitz',\n",
       " 'Seasons (7-12)',\n",
       " 'Missy Cooper',\n",
       " 'Dale Ballard',\n",
       " 'Jeff Difford',\n",
       " 'Denise',\n",
       " 'Bernadette Rostenkowski-Wolowitz',\n",
       " 'Big Bang Theory']"
      ]
     },
     "execution_count": 16,
     "metadata": {},
     "output_type": "execute_result"
    }
   ],
   "source": [
    "# convert underscore to space\n",
    "spaced_tag_list = []\n",
    "for tag in unquoted_tag_list:\n",
    "    processed_tag = re.sub('_', ' ', tag)\n",
    "    spaced_tag_list.append(processed_tag)\n",
    "    \n",
    "# spaced_tag_list = [re.sub('_', ' ', t) for t in unquoted_tag_list]\n",
    "print('Size of \\'tag_list\\':', len(spaced_tag_list))\n",
    "spaced_tag_list"
   ]
  },
  {
   "cell_type": "code",
   "execution_count": 17,
   "metadata": {},
   "outputs": [
    {
     "name": "stdout",
     "output_type": "stream",
     "text": [
      "Size of 'spaced_tag_list': 38\n"
     ]
    },
    {
     "data": {
      "text/plain": [
       "['Amy Farrah Fowler',\n",
       " 'Barry Kripke',\n",
       " 'Bernadette Rostenkowski-Wolowitz',\n",
       " 'Beverly Hofstadter',\n",
       " 'Big Bang Theory',\n",
       " 'Billy Sparks',\n",
       " 'Brenda Sparks',\n",
       " 'Dale Ballard',\n",
       " 'Debbie Wolowitz',\n",
       " 'Denise',\n",
       " 'Emily Sweeney',\n",
       " 'George Cooper Jr.',\n",
       " 'George Cooper Sr.',\n",
       " 'Howard Wolowitz',\n",
       " 'Jeff Difford',\n",
       " 'John Sturgis',\n",
       " 'Leonard Hofstadter',\n",
       " 'Leslie Winkle',\n",
       " 'Main Page',\n",
       " 'Mary Cooper',\n",
       " 'Meemaw',\n",
       " 'Mike Rostenkowski',\n",
       " 'Missy Cooper',\n",
       " 'Paige Swanson',\n",
       " 'Penny Hofstadter',\n",
       " 'Priya Koothrappali',\n",
       " 'Rajesh Koothrappali',\n",
       " 'Seasons',\n",
       " 'Seasons (1-6)',\n",
       " 'Seasons (7-12)',\n",
       " 'Sheldon Cooper',\n",
       " 'Stuart Bloom',\n",
       " 'Tam Nguyen',\n",
       " 'V. M. Koothrappali',\n",
       " 'Veronica Duncan',\n",
       " 'Wil Wheaton',\n",
       " 'Young Sheldon',\n",
       " 'Zack Johnson']"
      ]
     },
     "execution_count": 17,
     "metadata": {},
     "output_type": "execute_result"
    }
   ],
   "source": [
    "# order the list\n",
    "spaced_tag_list.sort()\n",
    "print('Size of \\'spaced_tag_list\\':', len(spaced_tag_list))\n",
    "spaced_tag_list"
   ]
  },
  {
   "cell_type": "code",
   "execution_count": 18,
   "metadata": {},
   "outputs": [
    {
     "name": "stdout",
     "output_type": "stream",
     "text": [
      "Size of 'no_episode_tag_list': 38\n"
     ]
    },
    {
     "data": {
      "text/plain": [
       "['Amy Farrah Fowler',\n",
       " 'Barry Kripke',\n",
       " 'Bernadette Rostenkowski-Wolowitz',\n",
       " 'Beverly Hofstadter',\n",
       " 'Big Bang Theory',\n",
       " 'Billy Sparks',\n",
       " 'Brenda Sparks',\n",
       " 'Dale Ballard',\n",
       " 'Debbie Wolowitz',\n",
       " 'Denise',\n",
       " 'Emily Sweeney',\n",
       " 'George Cooper Jr.',\n",
       " 'George Cooper Sr.',\n",
       " 'Howard Wolowitz',\n",
       " 'Jeff Difford',\n",
       " 'John Sturgis',\n",
       " 'Leonard Hofstadter',\n",
       " 'Leslie Winkle',\n",
       " 'Main Page',\n",
       " 'Mary Cooper',\n",
       " 'Meemaw',\n",
       " 'Mike Rostenkowski',\n",
       " 'Missy Cooper',\n",
       " 'Paige Swanson',\n",
       " 'Penny Hofstadter',\n",
       " 'Priya Koothrappali',\n",
       " 'Rajesh Koothrappali',\n",
       " 'Seasons',\n",
       " 'Seasons (1-6)',\n",
       " 'Seasons (7-12)',\n",
       " 'Sheldon Cooper',\n",
       " 'Stuart Bloom',\n",
       " 'Tam Nguyen',\n",
       " 'V. M. Koothrappali',\n",
       " 'Veronica Duncan',\n",
       " 'Wil Wheaton',\n",
       " 'Young Sheldon',\n",
       " 'Zack Johnson']"
      ]
     },
     "execution_count": 18,
     "metadata": {},
     "output_type": "execute_result"
    }
   ],
   "source": [
    "# remove the links that start with 'The'\n",
    "no_episode_tag_list = []\n",
    "filtered_string_tag = 'The'\n",
    "for tag in spaced_tag_list:\n",
    "    if not tag.startswith(filtered_string_tag):\n",
    "        no_episode_tag_list.append(tag)\n",
    "        \n",
    "# no_episode_tag_list = [t for t in tag_list if not tag.startswith(filtered_string_tag)]\n",
    "\n",
    "print('Size of \\'no_episode_tag_list\\':', len(no_episode_tag_list))\n",
    "no_episode_tag_list        "
   ]
  },
  {
   "cell_type": "markdown",
   "metadata": {
    "colab_type": "text",
    "id": "RERADKgNFq9T"
   },
   "source": [
    "\n",
    "\n",
    "---\n",
    "\n",
    "\n",
    "\n",
    "---\n",
    "\n",
    "\n",
    "\n",
    "> > > > > > > > > © 2021 Institute of Data\n",
    "\n",
    "\n",
    "---\n",
    "\n",
    "\n",
    "\n",
    "---\n",
    "\n",
    "\n",
    "\n"
   ]
  },
  {
   "cell_type": "code",
   "execution_count": null,
   "metadata": {},
   "outputs": [],
   "source": []
  }
 ],
 "metadata": {
  "colab": {
   "collapsed_sections": [],
   "name": "DSIA Lab-9_2.ipynb",
   "provenance": []
  },
  "kernelspec": {
   "display_name": "Python 3 (ipykernel)",
   "language": "python",
   "name": "python3"
  },
  "language_info": {
   "codemirror_mode": {
    "name": "ipython",
    "version": 3
   },
   "file_extension": ".py",
   "mimetype": "text/x-python",
   "name": "python",
   "nbconvert_exporter": "python",
   "pygments_lexer": "ipython3",
   "version": "3.8.12"
  }
 },
 "nbformat": 4,
 "nbformat_minor": 1
}
