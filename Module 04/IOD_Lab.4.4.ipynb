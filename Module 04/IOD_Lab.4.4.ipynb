{
 "cells": [
  {
   "cell_type": "markdown",
   "metadata": {
    "colab_type": "text",
    "id": "PjSSoIn54lF3"
   },
   "source": [
    "<div>\n",
    "<img src=https://www.institutedata.com/wp-content/uploads/2019/10/iod_h_tp_primary_c.svg width=\"300\">\n",
    "</div>"
   ]
  },
  {
   "cell_type": "markdown",
   "metadata": {
    "colab_type": "text",
    "id": "cMUkUNVk4lF4"
   },
   "source": [
    "# Lab 4.4: Regularisation"
   ]
  },
  {
   "cell_type": "code",
   "execution_count": 1,
   "metadata": {
    "colab": {},
    "colab_type": "code",
    "id": "nb0PEVFo4lF5"
   },
   "outputs": [],
   "source": [
    "## Import Libraries\n",
    "\n",
    "import numpy as np\n",
    "import pandas as pd\n",
    "\n",
    "%matplotlib inline\n",
    "import matplotlib.pyplot as plt\n",
    "import seaborn as sns\n",
    "\n",
    "from sklearn import datasets\n",
    "from sklearn.linear_model import LinearRegression\n",
    "from sklearn.linear_model import Ridge, RidgeCV\n",
    "from sklearn.linear_model import Lasso, LassoCV\n",
    "from sklearn.model_selection import train_test_split\n",
    "from sklearn.metrics import mean_squared_error\n",
    "from sklearn.model_selection import cross_val_score\n",
    "\n",
    "## Avoid some version change warnings\n",
    "import warnings\n",
    "warnings.filterwarnings('ignore', message='numpy.dtype size changed')"
   ]
  },
  {
   "cell_type": "markdown",
   "metadata": {
    "colab_type": "text",
    "id": "bsUjeA7l4lF8"
   },
   "source": [
    "### 1. Regularisation\n",
    "\n",
    "The goal of \"regularizing\" regression models is to structurally prevent overfitting by imposing a penalty on the coefficients of the model.\n",
    "\n",
    "Regularization methods like the Ridge and Lasso add this additional \"penalty\" on the size of coefficients to the loss function. When the loss function is minimized, this additional component is added to the residual sum of squares.\n",
    "\n",
    "In other words, the minimization becomes a balance between the error between predictions and true values and the size of the coefficients. \n",
    "\n",
    "The two most common types of regularization are the **Lasso**, **Ridge**. "
   ]
  },
  {
   "cell_type": "markdown",
   "metadata": {
    "colab_type": "text",
    "id": "B3Y25eb14lF8"
   },
   "source": [
    "#### 1.1 Load Diabetics Data Using datasets of sklearn\n",
    "\n",
    "Hint: Check Lab 4.3"
   ]
  },
  {
   "cell_type": "code",
   "execution_count": 2,
   "metadata": {
    "colab": {},
    "colab_type": "code",
    "id": "l_a3Jm5P4lF9"
   },
   "outputs": [],
   "source": [
    "## Load the Diabetes dataset\n",
    "\n",
    "# Load the diabetes dataset from sklearn\n",
    "diabetes = datasets.load_diabetes()"
   ]
  },
  {
   "cell_type": "code",
   "execution_count": 3,
   "metadata": {
    "colab": {},
    "colab_type": "code",
    "id": "9opzGv7n4lGA"
   },
   "outputs": [
    {
     "name": "stdout",
     "output_type": "stream",
     "text": [
      ".. _diabetes_dataset:\n",
      "\n",
      "Diabetes dataset\n",
      "----------------\n",
      "\n",
      "Ten baseline variables, age, sex, body mass index, average blood\n",
      "pressure, and six blood serum measurements were obtained for each of n =\n",
      "442 diabetes patients, as well as the response of interest, a\n",
      "quantitative measure of disease progression one year after baseline.\n",
      "\n",
      "**Data Set Characteristics:**\n",
      "\n",
      "  :Number of Instances: 442\n",
      "\n",
      "  :Number of Attributes: First 10 columns are numeric predictive values\n",
      "\n",
      "  :Target: Column 11 is a quantitative measure of disease progression one year after baseline\n",
      "\n",
      "  :Attribute Information:\n",
      "      - age     age in years\n",
      "      - sex\n",
      "      - bmi     body mass index\n",
      "      - bp      average blood pressure\n",
      "      - s1      tc, T-Cells (a type of white blood cells)\n",
      "      - s2      ldl, low-density lipoproteins\n",
      "      - s3      hdl, high-density lipoproteins\n",
      "      - s4      tch, thyroid stimulating hormone\n",
      "      - s5      ltg, lamotrigine\n",
      "      - s6      glu, blood sugar level\n",
      "\n",
      "Note: Each of these 10 feature variables have been mean centered and scaled by the standard deviation times `n_samples` (i.e. the sum of squares of each column totals 1).\n",
      "\n",
      "Source URL:\n",
      "https://www4.stat.ncsu.edu/~boos/var.select/diabetes.html\n",
      "\n",
      "For more information see:\n",
      "Bradley Efron, Trevor Hastie, Iain Johnstone and Robert Tibshirani (2004) \"Least Angle Regression,\" Annals of Statistics (with discussion), 407-499.\n",
      "(https://web.stanford.edu/~hastie/Papers/LARS/LeastAngle_2002.pdf)\n"
     ]
    }
   ],
   "source": [
    "# Description\n",
    "print(diabetes.DESCR)"
   ]
  },
  {
   "cell_type": "code",
   "execution_count": 4,
   "metadata": {
    "colab": {},
    "colab_type": "code",
    "id": "h7HBX2iM4lGF"
   },
   "outputs": [],
   "source": [
    "# Predictors\n",
    "X = pd.DataFrame(diabetes.data, columns = diabetes.feature_names)"
   ]
  },
  {
   "cell_type": "code",
   "execution_count": 5,
   "metadata": {
    "colab": {},
    "colab_type": "code",
    "id": "fP2bodWd8WgK"
   },
   "outputs": [],
   "source": [
    "# Target\n",
    "y = diabetes.target"
   ]
  },
  {
   "cell_type": "markdown",
   "metadata": {
    "colab_type": "text",
    "id": "7x-dMa634lGH"
   },
   "source": [
    "#### 1.2 Create a Base Model Using Linear Regression"
   ]
  },
  {
   "cell_type": "code",
   "execution_count": 6,
   "metadata": {
    "colab": {},
    "colab_type": "code",
    "id": "6JdPzqMt4lGI"
   },
   "outputs": [],
   "source": [
    "# Create Model\n",
    "model = LinearRegression()"
   ]
  },
  {
   "cell_type": "code",
   "execution_count": 7,
   "metadata": {
    "colab": {},
    "colab_type": "code",
    "id": "dLh17wzd4lGK"
   },
   "outputs": [
    {
     "data": {
      "text/plain": [
       "LinearRegression()"
      ]
     },
     "execution_count": 7,
     "metadata": {},
     "output_type": "execute_result"
    }
   ],
   "source": [
    "# Fit\n",
    "fit = model.fit(X, y)\n",
    "fit"
   ]
  },
  {
   "cell_type": "code",
   "execution_count": 8,
   "metadata": {
    "colab": {},
    "colab_type": "code",
    "id": "60Su4c1c4lGO"
   },
   "outputs": [
    {
     "data": {
      "text/plain": [
       "0.5177494254132934"
      ]
     },
     "execution_count": 8,
     "metadata": {},
     "output_type": "execute_result"
    }
   ],
   "source": [
    "# Score\n",
    "r2 = fit.score(X, y)\n",
    "r2"
   ]
  },
  {
   "cell_type": "code",
   "execution_count": 9,
   "metadata": {
    "colab": {},
    "colab_type": "code",
    "id": "Jo18NZ9H4lGR"
   },
   "outputs": [],
   "source": [
    "# Check Coeffiricent"
   ]
  },
  {
   "cell_type": "code",
   "execution_count": 10,
   "metadata": {
    "colab": {},
    "colab_type": "code",
    "id": "UaaRVN9H4lGX"
   },
   "outputs": [],
   "source": [
    "def view_coeff(X, model):\n",
    "    model_coefs = pd.DataFrame({'variable': X.columns,\n",
    "                                'coef': model.coef_,\n",
    "                                'abs_coef': np.abs(model.coef_)})\n",
    "    model_coefs.sort_values('abs_coef', inplace=True, ascending=False)\n",
    "    sns.barplot(x=\"variable\", y=\"coef\", data=model_coefs)"
   ]
  },
  {
   "cell_type": "code",
   "execution_count": 11,
   "metadata": {
    "colab": {},
    "colab_type": "code",
    "id": "f9ZS-3dn4lGb"
   },
   "outputs": [
    {
     "data": {
      "image/png": "[encoded data removed]",
      "text/plain": [
       "<Figure size 432x288 with 1 Axes>"
      ]
     },
     "metadata": {
      "needs_background": "light"
     },
     "output_type": "display_data"
    }
   ],
   "source": [
    "# Plot Coefficients\n",
    "view_coeff(X, model)"
   ]
  },
  {
   "cell_type": "markdown",
   "metadata": {
    "colab_type": "text",
    "id": "ItnYcWcp4lGf"
   },
   "source": [
    "#### 1.3 Ridge\n",
    "\n",
    "##### 1.3.1 Calculate Ridge Regression model"
   ]
  },
  {
   "cell_type": "code",
   "execution_count": 12,
   "metadata": {
    "colab": {},
    "colab_type": "code",
    "id": "brac_heZ4lGf"
   },
   "outputs": [],
   "source": [
    "## Calculate Ridge Regression model\n",
    "\n",
    "# create a model object to hold the modelling parameters\n",
    "clf = Ridge()\n",
    "\n",
    "# keep track of the intermediate results for coefficients and errors\n",
    "coefs = []\n",
    "errors = []\n",
    "\n",
    "# create a range of alphas to calculate\n",
    "ridge_alphas = np.logspace(-6, 6, 200)\n",
    "\n",
    "# Train the model with different regularisation strengths\n",
    "for a in ridge_alphas:\n",
    "    clf.set_params(alpha = a)\n",
    "    clf.fit(X, y)\n",
    "    coefs.append(clf.coef_)\n",
    "    errors.append(mean_squared_error(clf.coef_, model.coef_))"
   ]
  },
  {
   "cell_type": "code",
   "execution_count": 13,
   "metadata": {},
   "outputs": [
    {
     "name": "stdout",
     "output_type": "stream",
     "text": [
      "Coefs:  [array([ -10.01169403, -239.81831232,  519.84041858,  324.38982371,\n",
      "       -792.09499308,  476.67508266,  101.00517715,  177.0534452 ,\n",
      "        751.24551353,   67.62591774]), array([ -10.011619  , -239.81819659,  519.84051267,  324.38973376,\n",
      "       -792.08171312,  476.66454502,  100.99931029,  177.05184703,\n",
      "        751.24047852,   67.62599688]), array([ -10.0115328 , -239.81806362,  519.84062076,  324.38963041,\n",
      "       -792.06645566,  476.65243825,  100.99256982,  177.05001088,\n",
      "        751.23469376,   67.62608781]), array([ -10.01143376, -239.81791085,  519.84074495,  324.38951167,\n",
      "       -792.04892635,  476.63852875,  100.98482568,  177.04790133,\n",
      "        751.22804764,   67.62619227]), array([ -10.01131997, -239.81773533,  519.84088762,  324.38937524,\n",
      "       -792.02878701,  476.62254821,  100.97592848,  177.04547769,\n",
      "        751.22041193,   67.6263123 ]), array([ -10.01118924, -239.81753367,  519.84105152,  324.38921851,\n",
      "       -792.00564922,  476.60418839,  100.96570663,  177.04269321,\n",
      "        751.21163937,   67.62645019]), array([ -10.01103904, -239.81730199,  519.84123982,  324.38903843,\n",
      "       -791.97906676,  476.58309523,  100.95396299,  177.0394942 ,\n",
      "        751.20156077,   67.62660862]), array([ -10.01086648, -239.8170358 ,  519.84145615,  324.38883154,\n",
      "       -791.94852709,  476.55886204,  100.94047115,  177.03581898,\n",
      "        751.18998181,   67.62679063]), array([ -10.01066824, -239.81672999,  519.84170465,  324.38859385,\n",
      "       -791.91344153,  476.53102169,  100.92497103,  177.03159671,\n",
      "        751.17667927,   67.62699975]), array([ -10.01044048, -239.81637864,  519.84199013,  324.38832077,\n",
      "       -791.87313393,  476.49903764,  100.90716393,  177.02674605,\n",
      "        751.1613968 ,   67.62724   ]), array([ -10.01017882, -239.81597499,  519.84231807,  324.38800704,\n",
      "       -791.82682771,  476.46229372,  100.8867068 ,  177.02117353,\n",
      "        751.14383994,   67.62751602]), array([ -10.00987822, -239.81551125,  519.84269477,  324.38764661,\n",
      "       -791.77363108,  476.42008225,  100.86320565,  177.01477186,\n",
      "        751.12367055,   67.62783312]), array([ -10.00953289, -239.81497848,  519.84312748,  324.38723254,\n",
      "       -791.7125199 ,  476.3715906 ,  100.83620807,  177.00741783,\n",
      "        751.10050033,   67.62819743]), array([ -10.00913618, -239.81436642,  519.8436245 ,  324.38675684,\n",
      "       -791.64231823,  476.31588567,  100.80519457,  176.99896993,\n",
      "        751.07388338,   67.62861595]), array([ -10.00868045, -239.81366327,  519.84419537,  324.38621036,\n",
      "       -791.56167588,  476.25189608,  100.7695687 ,  176.98926572,\n",
      "        751.04330775,   67.62909675]), array([ -10.00815693, -239.8128555 ,  519.84485102,  324.38558258,\n",
      "       -791.46904282,  476.17839188,  100.72864572,  176.97811874,\n",
      "        751.0081857 ,   67.62964909]), array([ -10.00755556, -239.81192755,  519.84560401,  324.38486142,\n",
      "       -791.36263972,  476.09396118,  100.68163962,  176.96531493,\n",
      "        750.96784253,   67.63028359]), array([ -10.00686479, -239.81086158,  519.84646873,  324.384033  ,\n",
      "       -791.24042441,  475.99698353,  100.62764827,  176.95060862,\n",
      "        750.92150386,   67.63101247]), array([ -10.00607136, -239.80963707,  519.8474617 ,  324.38308141,\n",
      "       -791.10005332,  475.88559932,  100.56563646,  176.93371792,\n",
      "        750.86828103,   67.63184974]), array([ -10.00516003, -239.80823051,  519.84860182,  324.38198836,\n",
      "       -790.93883758,  475.75767494,  100.49441641,  176.91431942,\n",
      "        750.80715437,   67.63281149]), array([ -10.00411335, -239.80661487,  519.8499108 ,  324.38073289,\n",
      "       -790.75369271,  475.61076286,  100.41262564,  176.89204216,\n",
      "        750.7369542 ,   67.63391617]), array([ -10.00291127, -239.80475916,  519.85141345,  324.37929092,\n",
      "       -790.54108128,  475.44205617,  100.31870162,  176.86646076,\n",
      "        750.65633901,   67.63518499]), array([ -10.00153082, -239.8026278 ,  519.85313823,  324.37763482,\n",
      "       -790.29694751,  475.24833662,  100.21085292,  176.83708756,\n",
      "        750.56377069,   67.63664226]), array([  -9.99994564, -239.80017996,  519.85511767,  324.37573293,\n",
      "       -790.01664278,  475.02591557,  100.08702627,  176.80336366,\n",
      "        750.45748618,   67.63831586]), array([  -9.99812553, -239.79736885,  519.85738899,  324.37354889,\n",
      "       -789.69484088,  474.77056673,   99.94486923,  176.76464885,\n",
      "        750.33546539,   67.64023781]), array([  -9.99603585, -239.79414075,  519.85999473,  324.37104107,\n",
      "       -789.32544181,  474.47744978,   99.78168766,  176.72020998,\n",
      "        750.1953946 ,   67.64244479]), array([  -9.99363696, -239.79043411,  519.86298345,  324.3681617 ,\n",
      "       -788.90146266,  474.14102388,   99.59439764,  176.66920801,\n",
      "        750.03462504,   67.64497886]), array([  -9.99088344, -239.7861784 ,  519.86641058,  324.36485608,\n",
      "       -788.41491427,  473.75494973,   99.379471  ,  176.61068318,\n",
      "        749.85012605,   67.64788821]), array([  -9.98772332, -239.78129277,  519.87033926,  324.36106158,\n",
      "       -787.85666199,  473.31197909,   99.13287393,  176.54353843,\n",
      "        749.63843209,   67.65122806]), array([  -9.98409717, -239.77568466,  519.87484136,  324.35670645,\n",
      "       -787.216269  ,  472.80383055,   98.8499979 ,  176.46652071,\n",
      "        749.3955833 ,   67.65506162]), array([  -9.97993705, -239.76924813,  519.87999857,  324.35170866,\n",
      "       -786.48182075,  472.22105013,   98.52558227,  176.37820008,\n",
      "        749.11705858,   67.65946125]), array([  -9.97516537, -239.76186196,  519.88590359,  324.34597439,\n",
      "       -785.63972881,  471.55285569,   98.15362785,  176.27694636,\n",
      "        748.79770103,   67.66450969]), array([  -9.96969359, -239.75338758,  519.89266136,  324.33939643,\n",
      "       -784.67451295,  470.78696406,   97.72730092,  176.16090336,\n",
      "        748.43163491,   67.67030153]), array([  -9.96342078, -239.74366665,  519.90039047,  324.33185242,\n",
      "       -783.56856031,  469.90939995,   97.23882726,  176.02796035,\n",
      "        748.01217386,   67.6769448 ]), array([  -9.95623203, -239.73251845,  519.90922451,  324.32320277,\n",
      "       -782.30186121,  468.90428634,   96.67937589,  175.87572094,\n",
      "        747.53172009,   67.68456277]), array([  -9.94799668, -239.71973687,  519.91931354,  324.31328847,\n",
      "       -780.85172165,  467.75361641,   96.03893277,  175.70146935,\n",
      "        746.98165456,   67.69329599]), array([  -9.93856638, -239.70508709,  519.9308255 ,  324.30192854,\n",
      "       -779.19245379,  466.43700803,   95.30616489,  175.50213429,\n",
      "        746.35221848,   67.70330449]), array([  -9.92777304, -239.68830194,  519.94394747,  324.28891734,\n",
      "       -777.29504695,  464.93144273,   94.46827608,  175.27425082,\n",
      "        745.63238723,   67.71477027]), array([  -9.91542651, -239.66907784,  519.9588868 ,  324.27402158,\n",
      "       -775.12682375,  463.21099301,   93.51085652,  175.01392084,\n",
      "        744.80973811,   67.7279    ]), array([  -9.90131226, -239.64707041,  519.97587186,  324.25697703,\n",
      "       -772.65108841,  461.24654339,   92.41772925,  174.71677325,\n",
      "        743.87031461,   67.74292799]), array([  -9.88518889, -239.62188966,  519.99515228,  324.23748512,\n",
      "       -769.82677759,  459.00551357,   91.1707984 ,  174.37792508,\n",
      "        742.79849097,   67.76011935]), array([  -9.86678557, -239.59309486,  520.01699839,  324.21520917,\n",
      "       -766.60812833,  456.4515952 ,   89.74990556,  173.99194557,\n",
      "        741.57684233,   67.77977341]), array([  -9.84579955, -239.56018911,  520.04169964,  324.18977065,\n",
      "       -762.94438259,  453.54451778,   88.13270331,  173.55282579,\n",
      "        740.18602761,   67.80222729]), array([  -9.82189375, -239.52261357,  520.0695615 ,  324.16074517,\n",
      "       -758.77955424,  450.23986419,   86.29455731,  173.05395727,\n",
      "        738.60469468,   67.82785965]), array([  -9.79469464, -239.47974164,  520.10090037,  324.12765861,\n",
      "       -754.05229129,  446.48896204,   84.20849202,  172.48812372,\n",
      "        736.80941992,   67.85709446]), array([  -9.76379048, -239.43087295,  520.13603598,  324.0899833 ,\n",
      "       -748.69587441,  442.23888322,   81.84519812,  171.84751146,\n",
      "        734.7746972 ,   67.8904048 ]), array([  -9.72873015, -239.37522751,  520.17528042,  324.0471345 ,\n",
      "       -742.63840127,  437.43259124,   79.17312421,  171.12374476,\n",
      "        732.47299473,   67.92831644]), array([  -9.68902291, -239.31194014,  520.21892311,  323.99846731,\n",
      "       -735.80321468,  432.00928231,   76.15867867,  170.30795372,\n",
      "        729.87490103,   67.97141125]), array([  -9.64413915, -239.24005523,  520.26721058,  323.94327428,\n",
      "       -728.1096401 ,  425.90497235,   72.76657111,  169.39088309,\n",
      "        726.94938441,   68.0203301 ]), array([  -9.59351255, -239.15852232,  520.32032018,  323.88078387,\n",
      "       -719.47410298,  419.05338596,   68.96032509,  168.36305121,\n",
      "        723.66419188,   68.07577519]), array([  -9.53654391, -239.06619235,  520.37832654,  323.81015986,\n",
      "       -709.81169693,  411.38720374,   64.70299385,  167.21496797,\n",
      "        719.98641372,   68.13851167]), array([  -9.47260686, -238.96181493,  520.4411598 ,  323.73050216,\n",
      "       -699.03826706,  402.83971952,   59.95810804,  165.93742018,\n",
      "        715.88323748,   68.20936834]), array([  -9.40105561, -238.84403661,  520.50855466,  323.64084863,\n",
      "       -687.07305692,  393.34694588,   54.69087696,  164.52183043,\n",
      "        711.32290914,   68.28923751]), array([  -9.32123476, -238.71139982,  520.57998966,  323.54017821,\n",
      "       -673.84193828,  382.85018379,   48.86965213,  162.96069163,\n",
      "        706.27590835,   68.37907399]), array([  -9.23249103, -238.56234225,  520.65461663,  323.42741478,\n",
      "       -659.28119941,  371.2990374 ,   42.46764204,  161.2480739 ,\n",
      "        700.71632834,   68.4798935 ]), array([  -9.13418633, -238.39519577,  520.73118058,  323.30143111,\n",
      "       -643.34180716,  358.65480754,   35.4648402 ,  159.38019263,\n",
      "        694.62342881,   68.59277107]), array([  -9.02571151, -238.20818372,  520.8079316 ,  323.16105208,\n",
      "       -625.99398429,  344.89413852,   27.85009517,  157.35601658,\n",
      "        687.98330225,   68.71884001]), array([  -8.90649935, -237.99941486,  520.8825307 ,  323.0050555 ,\n",
      "       -607.23185856,  330.01272625,   19.62321349,  155.17788422,\n",
      "        680.79056298,   68.85929274]), array([  -8.77603542, -237.76687186,  520.9519529 ,  322.83216874,\n",
      "       -587.07785601,  314.02882874,   10.79694817,  152.85208503,\n",
      "        673.04993651,   69.01538473]), array([  -8.63386465, -237.50839169,  521.01239124,  322.64105901,\n",
      "       -565.58643906,  296.98626336,    1.39869355,  150.38935328,\n",
      "        664.77760045,   69.18844334]), array([  -8.47959167, -237.22163516,  521.05916605,  322.43031469,\n",
      "       -542.84674879,  278.95654307,   -8.5283117 ,  147.8052157 ,\n",
      "        656.0021127 ,   69.37988321]), array([  -8.31287259, -236.90404259,  521.08664356,  322.19841524,\n",
      "       -518.9837171 ,  260.03980875,  -18.92446895,  145.12013502,\n",
      "        646.76476537,   69.59123006]), array([  -8.1333966 , -236.55277327,  521.08816706,  321.94368746,\n",
      "       -494.15728204,  240.36426899,  -29.71415697,  142.35939935,\n",
      "        637.119228  ,   69.82415429]), array([  -7.94085613, -236.16462666,  521.0560021 ,  321.66424638,\n",
      "       -468.5594746 ,  220.08396601,  -40.80702784,  139.55272386,\n",
      "        627.13039429,   70.08051516]), array([  -7.73490533, -235.73594459,  520.98129524,  321.35791996,\n",
      "       -442.40933887,  199.37484032,  -52.10028053,  136.73355573,\n",
      "        616.87241893,   70.36241561]), array([  -7.51510762, -235.26249465,  520.85404276,  321.02215774,\n",
      "       -415.9458797 ,  178.42925092,  -63.48182759,  133.93810239,\n",
      "        606.42601775,   70.67226668]), array([  -7.28087441, -234.7393365 ,  520.66306343,  320.65392482,\n",
      "       -389.41946596,  157.44929365,  -74.83416573,  131.20413305,\n",
      "        595.87519189,   71.01285926]), array([  -7.03139763, -234.16067374,  520.39596717,  320.24958328,\n",
      "       -363.08231465,  136.63941624,  -86.03867254,  128.56962905,\n",
      "        585.30361031,   71.38743989]), array([  -6.76557973, -233.51969491,  520.0391103 ,  319.80476403,\n",
      "       -337.17880304,  116.19892457,  -96.97999626,  126.07137505,\n",
      "        574.79093057,   71.79978647]), array([  -6.48196489, -232.80840761,  519.57752835,  319.31423228,\n",
      "       -311.93637856,   96.31499128, -107.55019435,  123.74358806,\n",
      "        564.4093463 ,   72.25427879]), array([  -6.17867469, -232.01746967,  518.99483901,  318.77174981,\n",
      "       -287.55775527,   77.15671169, -117.65231108,  121.61667356,\n",
      "        554.22061931,   72.75595855]), array([  -5.85335127, -231.1360211 ,  518.2731106 ,  318.16993699,\n",
      "       -264.21491698,   58.87061558, -127.20315715,  119.71618028,\n",
      "        544.27379202,   73.31057287]), array([  -5.50310991, -230.15152025,  517.3926954 ,  317.50013681,\n",
      "       -242.04522433,   41.57786312, -136.13515138,  118.06200173,\n",
      "        534.60369186,   73.92459505]), array([  -5.12450237, -229.04958747,  516.3320314 ,  316.75228339,\n",
      "       -221.14968575,   25.37316112, -144.39718748,  116.66784727,\n",
      "        525.23025173,   74.60521592]), array([  -4.71349154, -227.81386003,  515.06742049,  315.91477692,\n",
      "       -201.59323931,   10.32526263, -151.95458086,  115.54098376,\n",
      "        516.15859088,   75.36029796]), array([  -4.26543814, -226.4258631 ,  513.57279527,  314.97436778,\n",
      "       -183.40673091,   -3.52121927, -158.7882205 ,  114.68223255,\n",
      "        507.37974162,   76.19828356]), array([  -3.7751    , -224.86490345,  511.81949038,  313.9160534 ,\n",
      "       -166.59017894,  -16.14303183, -164.89309267,  114.08619641,\n",
      "        498.87187278,   77.12804755]), array([  -3.2366456 , -223.10799567,  509.77603763,  312.72299276,\n",
      "       -151.11688457,  -27.53491214, -170.27635803,  113.74168641,\n",
      "        490.60185196,   78.15868252]), array([  -2.64368467, -221.1298339 ,  507.40800701,  311.37644529,\n",
      "       -136.93797091,  -37.70598214, -174.95515724,  113.63231639,\n",
      "        482.52700086,   79.29920483]), array([  -1.98932013, -218.90282702,  504.67791852,  309.85574295,\n",
      "       -123.98699586,  -46.67621566, -178.95429953,  113.73723159,\n",
      "        474.59692451,   80.55816873]), array([  -1.26622748, -216.39721987,  501.54525196,  308.13830635,\n",
      "       -112.18436538,  -54.47321543, -182.3039618 ,  114.03193475,\n",
      "        466.75533041,   81.94317741]), array([-4.66769819e-01, -2.13581328e+02,  4.97966584e+02,  3.06199718e+02,\n",
      "       -1.01441361e+02, -6.11294652e+01, -1.85037499e+02,  1.14489169e+02,\n",
      "        4.58941789e+02,  8.34602825e+01]), array([ 4.16841934e-01, -2.10421921e+02,  4.93895885e+02,  3.04013869e+02,\n",
      "       -9.16636776e+01, -6.66801530e+01, -1.87189441e+02,  1.15079812e+02,\n",
      "        4.51093418e+02,  8.51132696e+01]), array([   1.39233271, -206.88478279,  489.28500472,  301.55318949,\n",
      "        -82.75443223,  -71.16160228, -188.79373425,  115.77373131,\n",
      "        443.14649913,   86.9028361 ]), array([   2.46707959, -202.93549902,  484.0843825 ,  298.78899205,\n",
      "        -74.61666506,  -74.61030485, -189.88227175,  116.54054679,\n",
      "        435.03804647,   88.82567989]), array([   3.64775058, -198.54049254,  478.24400888,  295.69192666,\n",
      "        -67.15538244,  -77.06251483, -190.48373085,  117.35026293,\n",
      "        426.70734856,   90.87353421]), array([   4.93985847, -193.66834149,  471.71465982,  292.23257317,\n",
      "        -60.27922062,  -78.5543454 , -190.62274839,  118.17372252,\n",
      "        418.09750325,   93.03220252]), array([   6.3472278 , -188.29138726,  464.44941582,  288.38217001,\n",
      "        -53.90181684,  -79.12229691, -190.31943076,  118.98286692,\n",
      "        409.1569431 ,   95.28066823]), array([   7.87138125, -182.3876184 ,  456.40545803,  284.11347861,\n",
      "        -47.94297402,  -78.80413835, -189.58919721,  119.75079511,\n",
      "        399.84093172,   97.5903733 ]), array([   9.51086305, -175.94278209,  447.54610992,  279.4017684 ,\n",
      "        -42.32969521,  -77.64005836, -188.44294003,  120.4516354 ,\n",
      "        390.11298774,   99.92477415]), array([  11.26053155, -168.95263183,  437.84306186,  274.22589394,\n",
      "        -36.99714616,  -75.67399505, -186.88747474,  121.06026135,\n",
      "        379.9461728 ,  102.2392882 ]), array([  13.11086969, -161.42517211,  427.27868033,  268.56942021,\n",
      "        -31.88957876,  -72.95504433, -184.92624331,  121.55189879,\n",
      "        369.32416579,  104.48173466]), array([  15.04737856, -153.38271344,  415.84826623,  262.42173863,\n",
      "        -26.96121774,  -69.53883432, -182.56022441,  121.90168344,\n",
      "        358.24204099,  106.59334684]), array([  17.05013347, -144.86351285,  403.56209441,  255.77910522,\n",
      "        -22.17707894,  -65.48874108, -179.78899792,  122.08423813,\n",
      "        346.70667481,  108.51038755]), array([  19.09358928, -135.92275691,  390.44704473,  248.64552752,\n",
      "        -17.51365392,  -60.87681005, -176.61190559,  122.07334401,\n",
      "        334.73672469,  110.16633872]), array([  21.14671916, -126.63265543,  376.54763296,  241.033429  ,\n",
      "        -12.95936689,  -55.78424364, -173.02924845,  121.84178206,\n",
      "        322.36215413,  111.49456753]), array([  23.17355475, -117.08146244,  361.92627209,  232.96402955,\n",
      "         -8.51469086,  -50.30132266, -169.04346202,  121.36141656,\n",
      "        309.62331488,  112.43130461]), array([  25.13416445, -107.37132816,  346.66264573,  224.46739884,\n",
      "         -4.19180642,  -44.52665099, -164.66021444,  120.60358114,\n",
      "        296.56963876,  112.91871845]), array([ 2.69860632e+01, -9.76150042e+01,  3.30852152e+02,  2.15582162e+02,\n",
      "       -1.37020751e-02, -3.85656538e+01, -1.59889378e+02,  1.19539807e+02,\n",
      "        2.83258029e+02,  1.12907844e+02]), array([  28.6859951 ,  -87.93155968,  314.60346631,  206.35486737,\n",
      "          3.98734751,  -32.52831805, -154.74583271,  118.1429016 ,\n",
      "        269.75107101,  112.36113   ]), array([  30.19197913,  -78.44139696,  298.03538062,  196.83904165,\n",
      "          7.77193231,  -26.52623816, -149.25006484,  116.38834971,\n",
      "        256.11519773,  111.2544073 ]), array([  31.46546549,  -69.26095671,  281.27313323,  187.09400256,\n",
      "         11.296222  ,  -20.66911037, -143.42853662,  114.25595681,\n",
      "        242.41894281,  109.57814412]), array([  32.47342559,  -60.49755685,  264.44452761,  177.18348795,\n",
      "         14.51510404,  -15.0608977 , -137.31380294,  111.73161784,\n",
      "        228.73139287,  107.33792845]), array([  33.19019508,  -52.24480234,  247.67612395,  167.17418812,\n",
      "         17.38553328,   -9.79594903, -130.94436359,  108.80904978,\n",
      "        215.12091239,  104.5541917 ]), array([  33.59890963,  -44.57893833,  231.08976919,  157.13425372,\n",
      "         19.86983092,   -4.95538975, -124.36424433,  105.49130648,\n",
      "        201.65416496,  101.26124644]), array([  33.6924115 ,  -37.55640711,  214.79966087,  147.13184095,\n",
      "         21.93865017,   -0.60409889, -117.62230899,  101.79189129,\n",
      "        188.39540347,   97.50574951]), array([  33.47355685,  -31.21273186,  198.91005465,  137.23373748,\n",
      "         23.57334177,    3.21145464, -110.77131552,   97.73530568,\n",
      "        175.40595852,   93.3447194 ]), array([  32.9549106 ,  -25.56270991,  183.51363735,  127.50409228,\n",
      "         24.76750552,    6.46432213, -103.86674139,   93.35691927,\n",
      "        162.74382879,   88.84323783]), array([ 32.15787067, -20.60177571, 168.69051498, 118.00325854,\n",
      "        25.5275979 ,   9.14704144, -96.96541881,  88.70211333,\n",
      "       150.46327482,  84.0719585 ]), array([ 31.11131115, -16.30830281, 154.50771966, 108.78675153,\n",
      "        25.87256794,  11.27048562, -90.12403708,  83.82472822,\n",
      "       138.61433877,  79.10453736]), array([ 29.84987042, -12.64656198, 141.01912326,  99.90432571,\n",
      "        25.83259843,  12.86173034, -83.39758559,  78.78492339,\n",
      "       127.24225232,  74.01509288]), array([ 28.41203177,  -9.57003691, 128.26565489,  91.39918427,\n",
      "        25.44712164,  13.96116744, -76.83782388,  73.64662495,\n",
      "       116.38674285,  68.87580111]), array([ 26.83815108,  -7.0248164 , 116.27574473,  83.30734496,\n",
      "        24.76234312,  14.61914873, -70.49187152,  68.47477932,\n",
      "       106.08129255,  63.75472663]), array([ 25.16857681,  -4.95282253, 105.06594598,  75.65719359,\n",
      "        23.82853723,  14.89246405, -64.40100679,  63.33264611,\n",
      "        96.35243656,  58.71398118]), array([ 23.44198508,  -3.29469049,  94.64171068,  68.46925711,\n",
      "        22.69737153,  14.8409382 , -58.59974939,  58.2793467 ,\n",
      "        87.21919699,  53.80828473]), array([ 21.69402003,  -1.99217774,  84.99830884,  61.75621926,\n",
      "        21.41947956,  14.52438209, -53.11527804,  53.36784249,\n",
      "        78.69274041,  49.08397751]), array([ 19.95629103,  -0.99004157,  76.12188119,  55.5231858 ,\n",
      "        20.04244243,  14.00006378, -47.96720389,  48.64345607,\n",
      "        70.77631909,  44.57849874]), array([ 18.25574025,  -0.23737818,  67.99060879,  49.76818607,\n",
      "        18.60927102,  13.32078829, -43.16768892,  44.14298133,\n",
      "        63.46552008,  40.32031289]), array([ 16.61436017,   0.31154077,  60.57597056,  44.48287769,\n",
      "        17.15741458,  12.53360295, -38.72186991,  39.89436569,\n",
      "        56.7488082 ,  36.32923316]), array([ 15.04921481,   0.6968684 ,  53.84404869,  39.65340539,\n",
      "        15.7182657 ,  11.67908604, -34.62852737,  35.9168971 ,\n",
      "        50.60831701,  32.6170677 ]), array([ 13.57270281,   0.95313703,  47.75683515,  35.26135624,\n",
      "        14.31709265,  10.79113551, -30.88092727,  32.22179523,\n",
      "        45.02082058,  29.18850086]), array([ 12.19299425,   1.10947952,  42.27349109,  31.28475151,\n",
      "        12.9733078 ,   9.89715233, -27.46776057,  28.81309132,\n",
      "        39.95880905,  26.04211899]), array([ 10.91457497,   1.19003396,  37.35151631,  27.69902087,\n",
      "        11.70097452,   9.01850782, -24.37411167,  25.68868175,\n",
      "        35.39159291,  23.17149687]), array([  9.73884039,   1.21445878,  32.94779441,  24.47791389,\n",
      "        10.5094604 ,   8.17119083, -21.5823979 ,  22.84145278,\n",
      "        31.28637066,  20.56627367]), array([  8.66469166,   1.1984984 ,  29.01949118,  21.59431633,\n",
      "         9.40415805,   7.36654637, -19.07323663,  20.26039342,\n",
      "        27.6092092 ,  18.21316402]), array([  7.68909975,   1.15455424,  25.5247953 ,  19.02095109,\n",
      "         8.38721152,   6.61203568, -16.82621108,  17.93163531,\n",
      "        24.32590302,  16.09686704]), array([  6.80761469,   1.09222923,  22.42350117,  16.7309554 ,\n",
      "         7.45820402,   5.91196741, -14.82051978,  15.83938019,\n",
      "        21.40269388,  14.20085201]), array([  6.01480749,   1.01882591,  19.67744213,  14.69833499,\n",
      "         6.61477892,   5.26816684, -13.03550541,  13.96669374,\n",
      "        18.806846  ,  12.50801265]), array([  5.30464034,   0.93978718,  17.25078854,  12.89830308,\n",
      "         5.85317878,   4.68056505, -11.45106748,  12.29615986,\n",
      "        16.50708217,  11.00119243]), array([  4.67076647,   0.85907625,  15.11022836,  11.3075165 ,\n",
      "         5.16869779,   4.14770071, -10.04796883,  10.81039971,\n",
      "        14.47389287,   9.66359   ]), array([ 4.1067651 ,  0.77949686, 13.22505   ,  9.9042236 ,  4.55604978,\n",
      "        3.66713538, -8.80804921,  9.49246724, 12.67973491,  8.4790582 ]), array([ 3.60631886,  0.70295789, 11.56714631,  8.66833914,  4.00965879,\n",
      "        3.2357882 , -7.71436053,  8.32613626, 11.09913745,  7.43231213]), array([ 3.16334226,  0.63068855, 10.110958  ,  7.58146129,  3.52388129,\n",
      "        2.85019876, -6.75123845,  7.29609629,  9.70873359,  6.50906207]), array([ 2.77206964,  0.56341045,  8.83337225,  6.62684402,  3.09317038,\n",
      "        2.50672824, -5.90432386,  6.38807365,  8.48723411,  5.6960861 ]), array([ 2.42711053,  0.5014735 ,  7.71359039,  5.7893369 ,  2.71219213,\n",
      "        2.2017089 , -5.16054631,  5.58889362,  7.41535843,  4.98125599]), array([ 2.12347971,  0.44496156,  6.73297582,  5.05530233,  2.37590331,\n",
      "        1.93155149, -4.5080799 ,  4.8864971 ,  6.47573541,  4.35352797]), array([ 1.85660784,  0.39377368,  5.87489132,  4.41251823,  2.07959903,\n",
      "        1.69281921, -3.93628012,  4.26992398,  5.65278461,  3.80290823]), array([ 1.62233803,  0.34768555,  5.12453279,  3.85007281,  1.81893724,\n",
      "        1.48227554, -3.43560848,  3.72927243,  4.93258619,  3.320401  ]), array([ 1.4169123 ,  0.30639548,  4.46876454,  3.35825633,  1.58994607,\n",
      "        1.29691206, -2.99755055,  3.2556424 ,  4.30274616,  2.89794573]), array([ 1.23695131,  0.26955805,  3.89596014,  2.92845347,  1.3890189 ,\n",
      "        1.13396153, -2.61453131,  2.84106918,  3.75226164,  2.52834799]), array([ 1.07942992,  0.23680849,  3.39585118,  2.55303911,  1.2129007 ,\n",
      "        0.99090015, -2.27983092,  2.47845176,  3.27138983,  2.20520802]), array([ 0.94165051,  0.20777974,  2.95938572,  2.22527917,  1.05866895,\n",
      "        0.86544219, -1.98750309,  2.1614796 ,  2.85152292,  1.9228494 ]), array([ 0.82121539,  0.18211411,  2.57859731,  1.93923776,  0.92371104,\n",
      "        0.7555296 , -1.73229742,  1.88456019,  2.48507069,  1.67624995]), array([ 0.71599953,  0.15947095,  2.24648481,  1.68969114,  0.80570011,\n",
      "        0.65931837, -1.50958667,  1.64274923,  2.16535149,  1.46097593]), array([ 0.62412412,  0.13953119,  1.95690315,  1.4720489 ,  0.70257027,\n",
      "        0.57516304, -1.31529946,  1.43168457,  1.88649215,  1.27312038]), array([ 0.54393152,  0.12199989,  1.70446445,  1.28228217,  0.61249234,\n",
      "        0.50160043, -1.14585858,  1.24752454,  1.64333676,  1.1092462 ]), array([ 0.47396186,  0.10660712,  1.48444929,  1.11685877,  0.53385049,\n",
      "        0.43733332, -0.99812489,  1.08689109,  1.43136413,  0.96633381]), array([ 0.41293146,  0.09310786,  1.29272709,  0.97268492,  0.46522016,\n",
      "        0.38121454, -0.86934659,  0.94681786,  1.24661347,  0.84173375]), array([ 0.3597131 ,  0.08128116,  1.12568533,  0.84705302,  0.40534759,\n",
      "        0.33223178, -0.75711369,  0.82470302,  1.0856179 ,  0.73312373]), array([ 0.31331811,  0.07092882,  0.9801665 ,  0.73759514,  0.35313101,\n",
      "        0.28949343, -0.65931725,  0.71826679,  0.94534504,  0.6384701 ]), array([ 0.27288018,  0.0618739 ,  0.85341231,  0.64224173,  0.30760341,\n",
      "        0.25221544, -0.5741131 ,  0.62551334,  0.82314428,  0.55599341]), array([ 0.23764094,  0.05395895,  0.74301437,  0.55918496,  0.26791701,\n",
      "        0.21970927, -0.49988954,  0.54469672,  0.71670002,  0.48413773]), array([ 0.20693697,  0.04704438,  0.64687066,  0.48684641,  0.23332928,\n",
      "        0.191371  , -0.43523882,  0.47429063,  0.62399025,  0.42154337]), array([ 0.18018834,  0.0410067 ,  0.56314723,  0.42384846,  0.2031904 ,\n",
      "        0.16667146, -0.37893188,  0.41296152,  0.54325015,  0.36702274]), array([ 0.15688834,  0.03573695,  0.49024452,  0.36898925,  0.17693212,\n",
      "        0.14514739, -0.32989611,  0.35954486,  0.47293986,  0.3195391 ]), array([ 0.13659451,  0.03113914,  0.42676775,  0.32122053,  0.15405777,\n",
      "        0.12639354, -0.28719577,  0.31302413,  0.41171631,  0.27818767]), array([ 0.11892062,  0.02712889,  0.37150105,  0.27962827,  0.13413356,\n",
      "        0.11005567, -0.25001476,  0.27251237,  0.35840834,  0.24217919]), array([ 0.10352967,  0.02363208,  0.32338468,  0.2434157 ,  0.11678072,\n",
      "        0.09582426, -0.2176415 ,  0.23723589,  0.31199496,  0.21082531]), array([ 0.09012772,  0.02058371,  0.28149517,  0.2118884 ,  0.10166872,\n",
      "        0.08342903, -0.18945572,  0.20652002,  0.27158631,  0.1835259 ]), array([ 0.07845843,  0.01792682,  0.24502793,  0.18444122,  0.08850918,\n",
      "        0.07263406, -0.16491684,  0.1797766 ,  0.2364069 ,  0.15975782]), array([ 0.06829834,  0.01561156,  0.21328203,  0.16054693,  0.07705059,\n",
      "        0.06323352, -0.14355379,  0.15649295,  0.20578109,  0.13906515]), array([ 0.05945266,  0.01359433,  0.18564691,  0.13974624,  0.06707368,\n",
      "        0.05504784, -0.12495617,  0.1362223 ,  0.17912027,  0.12105062]), array([ 0.05175167,  0.011837  ,  0.16159081,  0.12163908,  0.05838727,\n",
      "        0.04792046, -0.10876645,  0.11857537,  0.1559117 ,  0.10536811]), array([ 0.04504746,  0.01030626,  0.14065062,  0.10587701,  0.05082478,\n",
      "        0.04171488, -0.09467323,  0.10321305,  0.13570882,  0.09171613]), array([ 0.0392112 ,  0.00897305,  0.12242306,  0.09215657,  0.04424102,\n",
      "        0.03631214, -0.08240529,  0.08983992,  0.11812272,  0.07983206]), array([ 0.03413066,  0.00781197,  0.10655695,  0.08021351,  0.03850953,\n",
      "        0.03160855, -0.07172642,  0.07819867,  0.10281473,  0.06948718]), array([ 0.02970807,  0.00680088,  0.09274655,  0.06981775,  0.03352012,\n",
      "        0.02751378, -0.06243094,  0.06806523,  0.08948994,  0.06048229]), array([ 0.02585832,  0.00592047,  0.08072563,  0.06076893,  0.02917681,\n",
      "        0.02394913, -0.05433976,  0.05924445,  0.07789157,  0.05264396]), array([ 0.02250725,  0.00515389,  0.07026243,  0.05289262,  0.02539602,\n",
      "        0.02084606, -0.04729695,  0.05156642,  0.06779604,  0.04582116]), array([ 0.01959032,  0.00448646,  0.06115517,  0.04603696,  0.02210496,\n",
      "        0.01814486, -0.04116672,  0.04488318,  0.05900873,  0.03988238]), array([ 0.01705132,  0.00390538,  0.05322819,  0.04006974,  0.01924024,\n",
      "        0.01579353, -0.03583088,  0.0390659 ,  0.05136017,  0.03471315]), array([ 0.01484131,  0.0033995 ,  0.04632858,  0.03487586,  0.01674666,\n",
      "        0.01374679, -0.03118654,  0.03400244,  0.04470284,  0.03021378]), array([ 0.01291767,  0.0029591 ,  0.0403232 ,  0.03035512,  0.01457618,\n",
      "        0.01196521, -0.02714409,  0.02959514,  0.03890832,  0.0262975 ]), array([ 0.01124332,  0.00257572,  0.0350962 ,  0.02642031,  0.01268694,\n",
      "        0.01041446, -0.02362557,  0.02575902,  0.03386481,  0.02288877]), array([ 0.00978596,  0.00224198,  0.03054671,  0.02299551,  0.01104252,\n",
      "        0.00906464, -0.02056307,  0.02242007,  0.029475  ,  0.01992183]), array([ 0.00851748,  0.00195146,  0.02658691,  0.02001461,  0.0096112 ,\n",
      "        0.00788974, -0.01789752,  0.01951386,  0.02565418,  0.01733943]), array([ 0.0074134 ,  0.00169858,  0.02314039,  0.0174201 ,  0.00836538,\n",
      "        0.00686709, -0.01557747,  0.01698434,  0.02232862,  0.01509175]), array([ 0.00645242,  0.00147845,  0.02014063,  0.01516189,  0.00728103,\n",
      "        0.00597698, -0.01355815,  0.01478268,  0.01943411,  0.01313541]), array([ 0.005616  ,  0.00128684,  0.01752971,  0.0131964 ,  0.00633722,\n",
      "        0.00520222, -0.01180057,  0.01286639,  0.01691481,  0.01143265]), array([ 0.00488799,  0.00112006,  0.01525725,  0.0114857 ,  0.00551574,\n",
      "        0.00452788, -0.01027082,  0.0111985 ,  0.01472207,  0.0099506 ]), array([ 0.00425435,  0.00097489,  0.01327936,  0.00999675,  0.00480073,\n",
      "        0.00394095, -0.00893937,  0.0097468 ,  0.01281357,  0.00866067]), array([ 0.00370285,  0.00084853,  0.01155787,  0.00870081,  0.00417841,\n",
      "        0.00343009, -0.00778051,  0.00848328,  0.01115248,  0.00753795]), array([ 0.00322283,  0.00073854,  0.01005954,  0.00757287,  0.00363675,\n",
      "        0.00298544, -0.00677188,  0.00738356,  0.00970671,  0.00656076]), array([ 0.00280504,  0.00064281,  0.00875545,  0.00659114,  0.00316531,\n",
      "        0.00259843, -0.00589399,  0.00642638,  0.00844836,  0.00571025]), array([ 0.00244141,  0.00055949,  0.00762041,  0.00573668,  0.00275497,\n",
      "        0.00226159, -0.00512991,  0.00559329,  0.00735314,  0.00496999]), array([ 0.00212491,  0.00048697,  0.00663251,  0.00499299,  0.00239783,\n",
      "        0.00196841, -0.00446488,  0.00486819,  0.00639989,  0.0043257 ]), array([ 0.00184945,  0.00042384,  0.00577268,  0.00434571,  0.00208699,\n",
      "        0.00171324, -0.00388606,  0.00423709,  0.00557022,  0.00376492]), array([ 0.00160969,  0.0003689 ,  0.00502432,  0.00378233,  0.00181644,\n",
      "        0.00149114, -0.00338228,  0.00368781,  0.0048481 ,  0.00327685]), array([ 0.00140101,  0.00032108,  0.00437297,  0.003292  ,  0.00158096,\n",
      "        0.00129783, -0.00294381,  0.00320972,  0.0042196 ,  0.00285204]), array([ 0.00121939,  0.00027946,  0.00380606,  0.00286522,  0.00137601,\n",
      "        0.00112959, -0.00256217,  0.00279362,  0.00367258,  0.0024823 ]), array([ 0.00106131,  0.00024323,  0.00331264,  0.00249378,  0.00119762,\n",
      "        0.00098315, -0.00223002,  0.00243146,  0.00319646,  0.0021605 ]), array([ 0.00092372,  0.0002117 ,  0.00288319,  0.00217049,  0.00104237,\n",
      "        0.0008557 , -0.00194092,  0.00211625,  0.00278208,  0.00188042]), array([ 0.00080397,  0.00018426,  0.00250942,  0.0018891 ,  0.00090723,\n",
      "        0.00074476, -0.0016893 ,  0.0018419 ,  0.00242141,  0.00163664]), array([ 0.00069974,  0.00016037,  0.0021841 ,  0.0016442 ,  0.00078962,\n",
      "        0.00064821, -0.0014703 ,  0.00160311,  0.0021075 ,  0.00142447]), array([ 0.00060903,  0.00013958,  0.00190095,  0.00143105,  0.00068726,\n",
      "        0.00056418, -0.00127969,  0.00139529,  0.00183428,  0.0012398 ]), array([ 0.00053008,  0.00012148,  0.00165451,  0.00124553,  0.00059816,\n",
      "        0.00049104, -0.00111379,  0.0012144 ,  0.00159648,  0.00107907]), array([ 0.00046136,  0.00010574,  0.00144002,  0.00108406,  0.00052061,\n",
      "        0.00042738, -0.0009694 ,  0.00105697,  0.00138952,  0.00093918]), array([ 4.01545921e-04,  9.20283921e-05,  1.25333390e-03,  9.43518249e-04,\n",
      "        4.53122549e-04,  3.71976907e-04, -8.43724346e-04,  9.19941929e-04,\n",
      "        1.20937895e-03,  8.17424579e-04]), array([ 3.49489457e-04,  8.00979821e-05,  1.09085113e-03,  8.21200169e-04,\n",
      "        3.94379765e-04,  3.23753913e-04, -7.34343636e-04,  8.00680458e-04,\n",
      "        1.05259460e-03,  7.11453434e-04]), array([ 3.04181567e-04,  6.97141849e-05,  9.49432634e-04,  7.14739403e-04,\n",
      "        3.43252345e-04,  2.81782490e-04, -6.39143028e-04,  6.96880003e-04,\n",
      "        9.16135769e-04,  6.19220362e-04])] \n",
      "\n",
      "Errors:  [0.0015769154596769897, 0.00208159538147403, 0.0027477800771517963, 0.0036271460199661376, 0.004787900742609074, 0.006320069069381885, 0.008342468779045478, 0.011011915014682315, 0.014535364840729134, 0.019185939821439353, 0.02532406320064164, 0.033425341510828044, 0.04411733841895326, 0.05822807054548408, 0.07684995194638113, 0.10142409406265604, 0.13385141875029616, 0.17663907934460496, 0.23309335851715507, 0.30757371925641136, 0.4058272790152294, 0.5354289907419439, 0.7063606715572015, 0.9317722741905561, 1.2289821507728416, 1.6207904189941704, 2.1372020484232843, 2.817685388545176, 3.7141293632067756, 4.894710698330675, 6.448944060699101, 8.494266154434536, 11.184603511424113, 14.721497342067456, 19.36851222824261, 25.469843616736505, 33.474266587398844, 43.96583843870293, 57.70308067342977, 75.66871725339266, 99.13242243473076, 129.7294069474467, 169.55800043509245, 221.29959865983818, 288.36432781889505, 375.0653818755637, 486.8240058301867, 630.405267446168, 814.1817762464032, 1048.418050641912, 1345.5620259444427, 1720.5221079780672, 2190.8983734812855, 2777.125647356773, 3502.4755822077277, 4392.856703210389, 5476.348688449205, 6782.413546728656, 8340.745379893237, 10179.754466176051, 12324.730308021512, 14795.78797539372, 17605.76384765807, 20758.277993625397, 24246.206513580895, 28050.79595976054, 32141.597814964694, 36477.3082328976, 41007.48162873523, 45674.96859842736, 50418.83305768795, 55177.44934658588, 59891.47599917072, 64506.445605613895, 68974.78647905772, 73257.18329202972, 77323.27228168624, 81151.7382460947, 84729.92797855579, 88053.1168792219, 91123.56573888693, 93949.48907109944, 96544.03134954808, 98924.3187376706, 101110.62556106786, 103125.6695115269, 104994.02875207124, 106741.65822951277, 108395.47167511497, 109982.94996217338, 111531.73575234631, 113069.17886599926, 114621.8066783972, 116214.70886423385, 117870.84508372338, 119610.3058040988, 121449.57732069623, 123400.87821493449, 125471.64177321638, 127664.2139620642, 129975.81816585132, 132398.80781790402, 134921.19126511458, 137527.3770150045, 140199.0597859999, 142916.15470800555, 145657.6912327685, 148402.59803163446, 151130.3397160991, 153821.39780360344, 156457.61436468965, 159022.4319906355, 161501.06649919017, 163880.6411677993, 166150.29777132958, 168301.28557931705, 170327.01906153583, 172223.0906530675, 173987.2265832008, 175619.17979948863, 177120.5619453763, 178494.6238134216, 179745.99905019376, 180880.4284188189, 181904.48173642598, 182825.29233400273, 183650.3153861699, 184387.11754029733, 185043.20156461833, 185625.86662467424, 186142.10246071854, 186598.51418582792, 187001.27356272822, 187356.09230464496, 187668.21302924323, 187942.41383589996, 188183.02296136838, 188393.94051198856, 188578.66481305409, 188740.32142081746, 188881.69328981376, 189005.25096955328, 189113.1820199591, 189207.4190887318, 189289.66629313974, 189361.42370153754, 189424.0098241527, 189478.5821057184, 189526.15547085466, 189567.61901223415, 189603.7509360905, 189635.23189324257, 189662.65682945924, 189686.54548898825, 189707.35170117827, 189725.47157369007, 189741.25070780568, 189754.99054254728, 189766.9539252229, 189777.36999699366, 189786.4384733537, 189794.33339117878, 189801.20638633435, 189807.18955877185, 189812.397975606, 189816.93185683645, 189820.8784831316, 189824.3138603987, 189827.30417167713, 189829.90704317245, 189832.17264795437, 189834.14466793055, 189835.86113213975, 189837.3551471496, 189838.6555333573, 189839.78737924824, 189840.77252414066, 189841.62997860432, 189842.3762905712, 189843.02586413122, 189843.59123711137, 189844.08332275396, 189844.51162012777, 189844.88439731073, 189845.2088508607, 189845.49124464096, 189845.73703066944, 189845.9509543163, 189846.13714587703, 189846.29920028182, 189846.4402464794, 189846.5630078304, 189846.66985467589, 189846.76285009345, 189846.843789724, 189846.914236437, 189846.97555050312, 189847.02891585598, 189847.07536295065, 189847.1157886585] \n",
      "\n"
     ]
    }
   ],
   "source": [
    "print('Coefs: ',coefs, '\\n')\n",
    "print('Errors: ',errors, '\\n')"
   ]
  },
  {
   "cell_type": "code",
   "execution_count": 14,
   "metadata": {},
   "outputs": [
    {
     "data": {
      "text/plain": [
       "200"
      ]
     },
     "execution_count": 14,
     "metadata": {},
     "output_type": "execute_result"
    }
   ],
   "source": [
    "len(ridge_alphas)"
   ]
  },
  {
   "cell_type": "markdown",
   "metadata": {
    "colab_type": "text",
    "id": "htKH-ZTt4lGh"
   },
   "source": [
    "##### 1.3.2 Visual Representation of Coefficient of Ridge Model"
   ]
  },
  {
   "cell_type": "code",
   "execution_count": 15,
   "metadata": {
    "colab": {},
    "colab_type": "code",
    "id": "5inpuKFY4lGi"
   },
   "outputs": [
    {
     "data": {
      "image/png": "[encoded data removed]",
      "text/plain": [
       "<Figure size 1440x432 with 2 Axes>"
      ]
     },
     "metadata": {
      "needs_background": "light"
     },
     "output_type": "display_data"
    }
   ],
   "source": [
    "# Display results\n",
    "plt.figure(figsize = (20, 6))\n",
    "\n",
    "plt.subplot(121)\n",
    "ax = plt.gca()\n",
    "ax.plot(ridge_alphas, coefs)\n",
    "ax.set_xscale('log')\n",
    "plt.xlabel('alpha')\n",
    "plt.ylabel('weights')\n",
    "plt.title('Ridge coefficients as a function of the regularisation')\n",
    "plt.axis('tight')\n",
    "\n",
    "plt.subplot(122)\n",
    "ax = plt.gca()\n",
    "ax.plot(ridge_alphas, errors)\n",
    "ax.set_xscale('log')\n",
    "plt.xlabel('alpha')\n",
    "plt.ylabel('error')\n",
    "plt.title('Coefficient error as a function of the regularisation')\n",
    "plt.axis('tight')\n",
    "\n",
    "plt.show()"
   ]
  },
  {
   "cell_type": "markdown",
   "metadata": {
    "colab_type": "text",
    "id": "wEgAME-t4lGm"
   },
   "source": [
    "##### 1.3.3. [BONUS]  Find an optimal value for Ridge regression alpha using `RidgeCV`.\n",
    "\n",
    "[Go to the documentation and read how RidgeCV works.](https://scikit-learn.org/stable/modules/generated/sklearn.linear_model.RidgeCV.html#sklearn.linear_model.RidgeCV).\n",
    "\n",
    "Note here that you will be optimizing both the alpha parameter and the l1_ratio:\n",
    "- `alpha`: strength of regularization"
   ]
  },
  {
   "cell_type": "code",
   "execution_count": 16,
   "metadata": {
    "colab": {},
    "colab_type": "code",
    "id": "hULVy1tI4lGn"
   },
   "outputs": [
    {
     "name": "stdout",
     "output_type": "stream",
     "text": [
      "Alpha: 0.06669919663030115\n",
      "Score: 0.5138362231730855\n"
     ]
    }
   ],
   "source": [
    "optimal_ridge = RidgeCV(alphas=ridge_alphas, cv=10)\n",
    "optimal_ridge.fit(X, y)\n",
    "print('Alpha:', optimal_ridge.alpha_)\n",
    "print('Score:', optimal_ridge.score(X, y))"
   ]
  },
  {
   "cell_type": "code",
   "execution_count": 17,
   "metadata": {
    "colab": {},
    "colab_type": "code",
    "id": "bEO5VaL64lGr"
   },
   "outputs": [
    {
     "data": {
      "image/png": "[encoded data removed]",
      "text/plain": [
       "<Figure size 432x288 with 1 Axes>"
      ]
     },
     "metadata": {
      "needs_background": "light"
     },
     "output_type": "display_data"
    }
   ],
   "source": [
    "view_coeff(X, optimal_ridge)"
   ]
  },
  {
   "cell_type": "markdown",
   "metadata": {
    "colab_type": "text",
    "id": "i3n99c2I4lGw"
   },
   "source": [
    "#### 1.4 Lasso\n",
    "\n",
    "##### 1.4.1 Calculate Lasso Regression model"
   ]
  },
  {
   "cell_type": "code",
   "execution_count": 18,
   "metadata": {
    "colab": {},
    "colab_type": "code",
    "id": "8HxcVW3c4lGx"
   },
   "outputs": [],
   "source": [
    "## Calculate Lasso Regression model\n",
    "\n",
    "# create a model object to hold the modelling parameters\n",
    "clf = Lasso()\n",
    "# keep track of the intermediate results for coefficients and errors\n",
    "coefs = []\n",
    "errors = []\n",
    "\n",
    "# create a range of alphas to calculate\n",
    "lasso_alphas = np.logspace(-6, 6, 200)\n",
    "\n",
    "# Train the model with different regularisation strengths\n",
    "for a in lasso_alphas:\n",
    "    clf.set_params(alpha = a)\n",
    "    clf.fit(X, y)\n",
    "    coefs.append(clf.coef_)\n",
    "    errors.append(mean_squared_error(clf.coef_, model.coef_))\n"
   ]
  },
  {
   "cell_type": "code",
   "execution_count": 19,
   "metadata": {},
   "outputs": [
    {
     "name": "stdout",
     "output_type": "stream",
     "text": [
      "Coefs:  [array([ -10.01118401, -239.81816993,  519.84020854,  324.38946666,\n",
      "       -792.11221129,  476.6904831 ,  101.01025192,  177.05155862,\n",
      "        751.25337559,   67.62523656]), array([ -10.01103301, -239.81803298,  519.84027135,  324.38932351,\n",
      "       -792.10149491,  476.6822385 ,  101.00514047,  177.04967931,\n",
      "        751.24951124,   67.62521424]), array([ -10.01085951, -239.81787564,  519.84034352,  324.38915905,\n",
      "       -792.08918241,  476.67276594,  100.99926771,  177.04752008,\n",
      "        751.24507133,   67.6251886 ]), array([ -10.01066017, -239.81769485,  519.84042643,  324.38897009,\n",
      "       -792.07503609,  476.66188253,  100.99252025,  177.04503925,\n",
      "        751.23997014,   67.62515914]), array([ -10.0104311 , -239.81748707,  519.84052185,  324.3887529 ,\n",
      "       -792.05876682,  476.64936563,  100.98476068,  177.04218686,\n",
      "        751.23410327,   67.62512531]), array([ -10.01016794, -239.81724841,  519.84063133,  324.38850345,\n",
      "       -792.04009038,  476.63499697,  100.97585253,  177.03891168,\n",
      "        751.22736849,   67.62508642]), array([ -10.0098656 , -239.8169742 ,  519.84075711,  324.38821684,\n",
      "       -792.01863227,  476.61848825,  100.96561759,  177.03514868,\n",
      "        751.21963063,   67.62504174]), array([ -10.00951822, -239.81665916,  519.84090162,  324.38788754,\n",
      "       -791.99397817,  476.5995207 ,  100.95385824,  177.03082521,\n",
      "        751.21074029,   67.6249904 ]), array([ -10.00911909, -239.81629718,  519.84106766,  324.38750919,\n",
      "       -791.96565207,  476.57772813,  100.94034745,  177.02585779,\n",
      "        751.20052583,   67.62493141]), array([ -10.00866052, -239.8158813 ,  519.84125843,  324.38707449,\n",
      "       -791.93310708,  476.55268976,  100.92482434,  177.02015051,\n",
      "        751.18879002,   67.62486364]), array([ -10.00813364, -239.81540346,  519.8414776 ,  324.38657504,\n",
      "       -791.89571484,  476.52392219,  100.90698921,  177.01359317,\n",
      "        751.17530628,   67.62478577]), array([ -10.00752829, -239.81485446,  519.84172942,  324.38600119,\n",
      "       -791.8527534 ,  476.49086998,  100.88649771,  177.00605916,\n",
      "        751.15981427,   67.6246963 ]), array([ -10.00683277, -239.81422368,  519.84201875,  324.38534188,\n",
      "       -791.8033933 ,  476.452895  ,  100.86295419,  176.99740301,\n",
      "        751.1420149 ,   67.62459351]), array([ -10.00603365, -239.81349896,  519.84235116,  324.38458436,\n",
      "       -791.74668154,  476.40926405,  100.8359041 ,  176.98745759,\n",
      "        751.1215645 ,   67.62447541]), array([ -10.00511551, -239.81266628,  519.84273308,  324.38371402,\n",
      "       -791.68152318,  476.35913476,  100.80482517,  176.97603088,\n",
      "        751.09806825,   67.62433971]), array([ -10.00406061, -239.81170958,  519.84317188,  324.38271404,\n",
      "       -791.60666022,  476.3015393 ,  100.76911737,  176.96290226,\n",
      "        751.07107251,   67.6241838 ]), array([ -10.00284858, -239.81061039,  519.84367603,  324.38156512,\n",
      "       -791.52064731,  476.23536568,  100.72809128,  176.94781823,\n",
      "        751.04005607,   67.62400466]), array([ -10.00145603, -239.80934747,  519.84425526,  324.38024506,\n",
      "       -791.42182382,  476.15933632,  100.68095482,  176.93048758,\n",
      "        751.00442012,   67.62379885]), array([  -9.99985572, -239.80789591,  519.84492183,  324.37872784,\n",
      "       -791.30817031,  476.07189602,  100.62674812,  176.91056133,\n",
      "        750.96343551,   67.6235625 ]), array([  -9.99801738, -239.80622869,  519.84568659,  324.37698519,\n",
      "       -791.17770136,  475.9715202 ,  100.56451793,  176.88768163,\n",
      "        750.91638803,   67.62329081]), array([  -9.99590523, -239.80431314,  519.84656525,  324.37498298,\n",
      "       -791.02780095,  475.85619489,  100.49301939,  176.86139423,\n",
      "        750.86233353,   67.62297866]), array([  -9.99347848, -239.80211228,  519.84757476,  324.37268255,\n",
      "       -790.85557518,  475.72369367,  100.41087216,  176.83119162,\n",
      "        750.80022847,   67.62262001]), array([  -9.99069027, -239.79958362,  519.84873462,  324.37003949,\n",
      "       -790.6576992 ,  475.57145861,  100.31649036,  176.79649068,\n",
      "        750.7288739 ,   67.62220793]), array([  -9.98748677, -239.79667832,  519.85006719,  324.36700275,\n",
      "       -790.43035306,  475.39655086,  100.20805194,  176.75662148,\n",
      "        750.64689235,   67.62173447]), array([  -9.98380611, -239.7933403 ,  519.85159822,  324.36351372,\n",
      "       -790.16914801,  475.19559397,  100.08346352,  176.7108143 ,\n",
      "        750.55270123,   67.62119048]), array([  -9.97957723, -239.78950511,  519.85335723,  324.35950502,\n",
      "       -789.86904179,  474.96470872,   99.94032003,  176.65818481,\n",
      "        750.44448232,   67.62056546]), array([  -9.97471848, -239.78509869,  519.85537819,  324.35489925,\n",
      "       -789.5242414 ,  474.69943833,   99.77585828,  176.597717  ,\n",
      "        750.32014665,   67.61984734]), array([  -9.96913604, -239.78003598,  519.85770009,  324.34960749,\n",
      "       -789.12809133,  474.39466245,   99.58690366,  176.52824357,\n",
      "        750.17729427,   67.61902224]), array([  -9.96272213, -239.77421923,  519.86036773,  324.34352757,\n",
      "       -788.67294521,  474.04449843,   99.36980893,  176.4484234 ,\n",
      "        750.0131679 ,   67.61807422]), array([  -9.95535134, -239.76753364,  519.86343749,  324.33653955,\n",
      "       -788.14950619,  473.64178671,   99.12015507,  176.35664983,\n",
      "        749.82441079,   67.61698556]), array([  -9.94688428, -239.7598548 ,  519.86695941,  324.32851332,\n",
      "       -787.54863149,  473.17950668,   98.83355227,  176.2512748 ,\n",
      "        749.60773413,   67.61573415]), array([  -9.93715611, -239.75103231,  519.87100571,  324.31929168,\n",
      "       -786.85827837,  472.64838717,   98.50426972,  176.13020695,\n",
      "        749.35879155,   67.61429631]), array([  -9.925979  , -239.74089583,  519.87565444,  324.30869661,\n",
      "       -786.06512509,  472.03817931,   98.125953  ,  175.9911096 ,\n",
      "        749.0727793 ,   67.61264427]), array([  -9.91313716, -239.7292497 ,  519.88099525,  324.29652358,\n",
      "       -785.15386747,  471.33710908,   97.691302  ,  175.83129828,\n",
      "        748.74417876,   67.61074612]), array([  -9.89838266, -239.71586909,  519.88713113,  324.2825376 ,\n",
      "       -784.10692415,  470.53165057,   97.19193029,  175.64768895,\n",
      "        748.3666502 ,   67.60856518]), array([  -9.88142714, -239.70049008,  519.89419147,  324.2664629 ,\n",
      "       -782.90293881,  469.60535754,   96.61768584,  175.43658949,\n",
      "        747.93248284,   67.60606063]), array([  -9.86194985, -239.68282642,  519.90229151,  324.24800009,\n",
      "       -781.52086621,  468.54206946,   95.95846441,  175.19420703,\n",
      "        747.43410628,   67.60318161]), array([  -9.83957171, -239.66253224,  519.91159708,  324.22678775,\n",
      "       -779.93303514,  467.32048395,   95.20109713,  174.91573467,\n",
      "        746.86153391,   67.59987365]), array([  -9.81386074, -239.63921587,  519.92228744,  324.20241647,\n",
      "       -778.10882951,  465.91704739,   94.33097931,  174.59580087,\n",
      "        746.20372593,   67.59607281]), array([  -9.78431445, -239.61241747,  519.93458795,  324.17440577,\n",
      "       -776.01104588,  464.30310998,   93.33042533,  174.22797323,\n",
      "        745.44725003,   67.59170793]), array([  -9.75037429, -239.58163877,  519.94869826,  324.14223453,\n",
      "       -773.60313283,  462.45060604,   92.18188207,  173.80565801,\n",
      "        744.57895904,   67.58669026]), array([  -9.71137952, -239.54627685,  519.96490775,  324.10527269,\n",
      "       -770.83682625,  460.32237934,   90.86238165,  173.32047293,\n",
      "        743.58143399,   67.5809249 ]), array([  -9.66656834, -239.50563476,  519.98355724,  324.06279199,\n",
      "       -767.65580246,  457.87505727,   89.34514621,  172.76267519,\n",
      "        742.43433998,   67.5743038 ]), array([  -9.61509393, -239.45895732,  520.00494845,  324.01400262,\n",
      "       -764.00473882,  455.06616258,   87.60360422,  172.12227876,\n",
      "        741.11777914,   67.56669222]), array([  -9.55594192, -239.4053105 ,  520.0295589 ,  323.95792879,\n",
      "       -759.80639776,  451.83617948,   85.60111758,  171.38605111,\n",
      "        739.60384271,   67.55795078]), array([  -9.48798118, -239.34367617,  520.05782871,  323.89350604,\n",
      "       -754.98337717,  448.12561007,   83.30065677,  170.54024749,\n",
      "        737.86465031,   67.54790654]), array([  -9.409899  , -239.27286355,  520.09030497,  323.81948974,\n",
      "       -749.4424188 ,  443.86270481,   80.65774372,  169.56851923,\n",
      "        735.86657177,   67.53636569]), array([  -9.32019057, -239.19151002,  520.12760541,  323.73445553,\n",
      "       -743.07750778,  438.96591545,   77.62178198,  168.45222843,\n",
      "        733.57138625,   67.52310425]), array([  -9.21712565, -239.0980479 ,  520.17044384,  323.63676476,\n",
      "       -735.7664115 ,  433.34121282,   74.13444813,  167.16990614,\n",
      "        730.93502245,   67.50786539]), array([  -9.09871733, -238.99067771,  520.21963706,  323.52453645,\n",
      "       -727.36904092,  426.88083638,   70.12888785,  165.69693067,\n",
      "        727.90697383,   67.49035361]), array([  -8.96265874, -238.86729337,  520.27619957,  323.39556974,\n",
      "       -717.71649427,  419.45474999,   65.52473903,  164.00399068,\n",
      "        724.426278  ,   67.47023839]), array([  -8.80634881, -238.72555445,  520.3411405 ,  323.24741765,\n",
      "       -706.63106274,  410.92635661,   60.23697387,  162.05951226,\n",
      "        720.42892708,   67.44712148]), array([  -8.62674901, -238.56269156,  520.41577774,  323.07718599,\n",
      "       -693.89201166,  401.12574437,   54.16050375,  159.82508879,\n",
      "        715.83526859,   67.42056402]), array([  -8.42039822, -238.37557104,  520.5015304 ,  322.88159914,\n",
      "       -679.25566164,  389.86547423,   47.17902463,  157.25787087,\n",
      "        710.55745222,   67.39005059]), array([  -8.18333751, -238.16062081,  520.59997301,  322.65692276,\n",
      "       -662.44788237,  376.93476673,   39.16152015,  154.30937853,\n",
      "        704.49669969,   67.35498235]), array([  -7.91095459, -237.91363463,  520.713116  ,  322.39876116,\n",
      "       -643.132676  ,  362.07496909,   29.94806192,  150.92120471,\n",
      "        697.53175569,   67.31469506]), array([  -7.59799044, -237.62984434,  520.84314189,  322.10213039,\n",
      "       -620.93730178,  344.99932342,   19.36084336,  147.02795397,\n",
      "        689.52821423,   67.2684105 ]), array([  -7.23845076, -237.30384865,  520.9924062 ,  321.76138357,\n",
      "       -595.44938847,  325.39080557,    7.20267161,  142.55653424,\n",
      "        680.33751405,   67.21521656]), array([  -6.89594576, -236.83552941,  521.24693649,  321.43977588,\n",
      "       -577.61313053,  310.9258521 ,    0.        ,  140.87020222,\n",
      "        673.64371166,   67.09744791]), array([  -6.58941326, -236.19104522,  521.62450373,  321.15338087,\n",
      "       -571.33798476,  304.42097205,    0.        ,  143.04322174,\n",
      "        670.78865653,   66.89534157]), array([  -6.23709485, -235.45173222,  522.05659426,  320.82430376,\n",
      "       -564.15478223,  296.97525443,   -0.        ,  145.52856052,\n",
      "        667.52091916,   66.66342009]), array([  -5.83250394, -234.60041531,  522.55581097,  320.4462478 ,\n",
      "       -555.85870033,  288.37523673,   -0.        ,  148.4023971 ,\n",
      "        663.74616711,   66.39648811]), array([  -5.24084777, -233.79146585,  522.97933885,  319.88676564,\n",
      "       -525.82671079,  264.05906963,  -12.12984934,  145.5098973 ,\n",
      "        652.48902018,   66.19157905]), array([  -4.5304131 , -232.89406682,  523.44614708,  319.21637468,\n",
      "       -486.23934046,  232.44718473,  -28.94849998,  140.82102679,\n",
      "        637.80615682,   65.97791382]), array([  -3.71407059, -231.86285829,  523.9827649 ,  318.44598314,\n",
      "       -440.72634327,  196.10392382,  -48.28528196,  135.43000752,\n",
      "        620.92554492,   65.73245579]), array([  -2.77623551, -230.67821462,  524.59898832,  317.56101028,\n",
      "       -388.46800618,  154.37382608,  -70.48716811,  129.24034714,\n",
      "        601.54304864,   65.45039824]), array([  -1.69970972, -229.31872296,  525.30383222,  316.54587329,\n",
      "       -328.7565677 ,  106.68713334,  -95.84825926,  122.17128866,\n",
      "        579.39561471,   65.12595387]), array([-4.63626169e-01, -2.27758004e+02,  5.26111158e+02,  3.15380839e+02,\n",
      "       -2.60412811e+02,  5.21025012e+01, -1.24869977e+02,  1.14082960e+02,\n",
      "        5.54045910e+02,  6.47528872e+01]), array([  -0.        , -225.96481102,  526.82623924,  314.26931674,\n",
      "       -194.23978807,    0.        , -153.29382151,  105.29023966,\n",
      "        529.77747012,   64.4266626 ]), array([  -0.        , -224.3423207 ,  526.55971992,  313.28292145,\n",
      "       -189.00388222,    0.        , -157.40772468,   99.17915356,\n",
      "        528.90675942,   63.87071313]), array([  -0.        , -222.47613842,  526.25777667,  312.15090405,\n",
      "       -183.02853757,    0.        , -162.08270395,   92.21114088,\n",
      "        527.91228447,   63.23168605]), array([  -0.        , -220.33367998,  525.90727576,  310.84917977,\n",
      "       -176.1292492 ,    0.        , -167.49735727,   84.16053661,\n",
      "        526.76471164,   62.4977002 ]), array([  -0.        , -217.87176014,  525.50528687,  309.3537816 ,\n",
      "       -168.20911431,    0.        , -173.70982742,   74.91976266,\n",
      "        525.44720467,   61.65434126]), array([  -0.        , -215.04093817,  525.04806866,  307.63705846,\n",
      "       -159.15325183,   -0.        , -180.79144687,   64.36054487,\n",
      "        523.93990002,   60.68507137]), array([  -0.        , -211.79164194,  524.5160208 ,  305.66257804,\n",
      "       -148.68484668,   -0.        , -189.00923059,   52.14460289,\n",
      "        522.19875048,   59.5718501 ]), array([  -0.        , -208.05680048,  523.90802274,  303.39500199,\n",
      "       -136.68838389,   -0.        , -198.41116548,   38.15023956,\n",
      "        520.20283081,   58.29260628]), array([  -0.        , -203.76443962,  523.2120248 ,  300.7904489 ,\n",
      "       -122.92928434,   -0.        , -209.18254283,   22.10336514,\n",
      "        517.91317071,   56.82265695]), array([  -0.        , -198.83552601,  522.40643594,  297.79614023,\n",
      "       -107.06471407,   -0.        , -221.62993592,    3.59242323,\n",
      "        515.27425062,   55.13412949]), array([  -0.        , -193.64008158,  521.77077009,  295.01193143,\n",
      "        -98.95601034,   -0.        , -222.58836336,    0.        ,\n",
      "        511.75318658,   52.72314836]), array([  -0.        , -187.81623043,  521.07473708,  291.98069556,\n",
      "        -91.89585052,   -0.        , -220.69663874,    0.        ,\n",
      "        507.5182006 ,   49.82458213]), array([  -0.        , -181.12575053,  520.27326043,  288.49725291,\n",
      "        -83.78395549,   -0.        , -218.52369134,    0.        ,\n",
      "        502.65270697,   46.49508006]), array([  -0.        , -173.4380389 ,  519.35351138,  284.49516499,\n",
      "        -74.46435052,   -0.        , -216.02628599,    0.        ,\n",
      "        497.06262442,   42.66932939]), array([  -0.        , -164.60561848,  518.29627101,  279.89708583,\n",
      "        -63.75612263,   -0.        , -213.15745406,    0.        ,\n",
      "        490.63981683,   38.27368459]), array([  -0.        , -154.44982524,  517.09527839,  274.6184761 ,\n",
      "        -51.45829174,   -0.        , -209.85307232,    0.        ,\n",
      "        483.26168151,   33.21803185]), array([   0.        , -142.78886679,  515.7022046 ,  268.54962426,\n",
      "        -37.3232974 ,   -0.        , -206.06461597,    0.        ,\n",
      "        474.78323015,   27.41423431]), array([   0.        , -129.39258335,  514.0995063 ,  261.57720386,\n",
      "        -21.08108962,   -0.        , -201.71411895,    0.        ,\n",
      "        465.04163658,   20.74588217]), array([   0.        , -114.01012168,  512.25216691,  253.57438533,\n",
      "         -2.39908862,   -0.        , -196.73615353,    0.        ,\n",
      "        453.83994414,   13.07722623]), array([   0.        ,  -95.20614306,  511.77972711,  244.22803717,\n",
      "         -0.        ,   -0.        , -184.13867889,    0.        ,\n",
      "        451.58803164,    6.60735882]), array([   0.        ,  -73.53519373,  511.2775328 ,  233.36361791,\n",
      "         -0.        ,   -0.        , -168.67906723,    0.        ,\n",
      "        450.46978128,    0.        ]), array([   0.        ,  -49.36573335,  509.43828161,  219.5215538 ,\n",
      "         -0.        ,   -0.        , -150.73088322,    0.        ,\n",
      "        446.93207185,    0.        ]), array([   0.        ,  -21.60444332,  507.33399321,  203.63153276,\n",
      "         -0.        ,   -0.        , -130.12448724,    0.        ,\n",
      "        442.85317518,    0.        ]), array([   0.        ,   -0.        ,  503.52520714,  187.85839996,\n",
      "         -0.        ,   -0.        , -110.6208114 ,    0.        ,\n",
      "        437.69011717,    0.        ]), array([  0.        ,  -0.        , 495.81933076, 175.65931108,\n",
      "        -0.        ,  -0.        , -98.19383785,   0.        ,\n",
      "       430.65567302,   0.        ]), array([  0.        ,  -0.        , 486.95818069, 161.65910204,\n",
      "        -0.        ,  -0.        , -83.93542223,   0.        ,\n",
      "       422.5627028 ,   0.        ]), array([  0.        ,  -0.        , 476.77715345, 145.57354786,\n",
      "        -0.        ,  -0.        , -67.55320134,   0.        ,\n",
      "       413.26427658,   0.        ]), array([  0.        ,  -0.        , 465.07965203, 127.0920343 ,\n",
      "        -0.        ,  -0.        , -48.73083226,   0.        ,\n",
      "       402.58084046,   0.        ]), array([  0.        ,  -0.        , 451.63979607, 105.85768081,\n",
      "         0.        ,   0.        , -27.10485249,   0.        ,\n",
      "       390.30609586,   0.        ]), array([  0.        ,  -0.        , 436.19808064,  81.46015556,\n",
      "         0.        ,   0.        ,  -2.25733048,   0.        ,\n",
      "       376.20325402,   0.        ]), array([  0.        ,  -0.        , 411.9594897 ,  54.42367039,\n",
      "         0.        ,   0.        ,  -0.        ,   0.        ,\n",
      "       352.0277605 ,   0.        ]), array([  0.        ,  -0.        , 383.4888458 ,  23.46842679,\n",
      "         0.        ,   0.        ,  -0.        ,   0.        ,\n",
      "       323.45230689,   0.        ]), array([  0.        ,  -0.        , 347.45802053,   0.        ,\n",
      "         0.        ,   0.        ,  -0.        ,   0.        ,\n",
      "       287.34135897,   0.        ]), array([  0.        ,   0.        , 298.66791317,   0.        ,\n",
      "         0.        ,   0.        ,  -0.        ,   0.        ,\n",
      "       238.54008375,   0.        ]), array([  0.        ,   0.        , 242.60074372,   0.        ,\n",
      "         0.        ,   0.        ,  -0.        ,   0.        ,\n",
      "       182.47414947,   0.        ]), array([  0.        ,   0.        , 178.18150664,   0.        ,\n",
      "         0.        ,   0.        ,  -0.        ,   0.        ,\n",
      "       118.0574981 ,   0.        ]), array([  0.        ,   0.        , 104.16695976,   0.        ,\n",
      "         0.        ,   0.        ,  -0.        ,   0.        ,\n",
      "        44.04592209,   0.        ]), array([ 0.        ,  0.        ,  0.84085093,  0.        ,  0.        ,\n",
      "        0.        , -0.        ,  0.        ,  0.        ,  0.        ]), array([ 0.,  0.,  0.,  0.,  0.,  0., -0.,  0.,  0.,  0.]), array([ 0.,  0.,  0.,  0.,  0.,  0., -0.,  0.,  0.,  0.]), array([ 0.,  0.,  0.,  0.,  0.,  0., -0.,  0.,  0.,  0.]), array([ 0.,  0.,  0.,  0.,  0.,  0., -0.,  0.,  0.,  0.]), array([ 0.,  0.,  0.,  0.,  0.,  0., -0.,  0.,  0.,  0.]), array([ 0.,  0.,  0.,  0.,  0.,  0., -0.,  0.,  0.,  0.]), array([ 0.,  0.,  0.,  0.,  0.,  0., -0.,  0.,  0.,  0.]), array([ 0.,  0.,  0.,  0.,  0.,  0., -0.,  0.,  0.,  0.]), array([ 0.,  0.,  0.,  0.,  0.,  0., -0.,  0.,  0.,  0.]), array([ 0.,  0.,  0.,  0.,  0.,  0., -0.,  0.,  0.,  0.]), array([ 0.,  0.,  0.,  0.,  0.,  0., -0.,  0.,  0.,  0.]), array([ 0.,  0.,  0.,  0.,  0.,  0., -0.,  0.,  0.,  0.]), array([ 0.,  0.,  0.,  0.,  0.,  0., -0.,  0.,  0.,  0.]), array([ 0.,  0.,  0.,  0.,  0.,  0., -0.,  0.,  0.,  0.]), array([ 0.,  0.,  0.,  0.,  0.,  0., -0.,  0.,  0.,  0.]), array([ 0.,  0.,  0.,  0.,  0.,  0., -0.,  0.,  0.,  0.]), array([ 0.,  0.,  0.,  0.,  0.,  0., -0.,  0.,  0.,  0.]), array([ 0.,  0.,  0.,  0.,  0.,  0., -0.,  0.,  0.,  0.]), array([ 0.,  0.,  0.,  0.,  0.,  0., -0.,  0.,  0.,  0.]), array([ 0.,  0.,  0.,  0.,  0.,  0., -0.,  0.,  0.,  0.]), array([ 0.,  0.,  0.,  0.,  0.,  0., -0.,  0.,  0.,  0.]), array([ 0.,  0.,  0.,  0.,  0.,  0., -0.,  0.,  0.,  0.]), array([ 0.,  0.,  0.,  0.,  0.,  0., -0.,  0.,  0.,  0.]), array([ 0.,  0.,  0.,  0.,  0.,  0., -0.,  0.,  0.,  0.]), array([ 0.,  0.,  0.,  0.,  0.,  0., -0.,  0.,  0.,  0.]), array([ 0.,  0.,  0.,  0.,  0.,  0., -0.,  0.,  0.,  0.]), array([ 0.,  0.,  0.,  0.,  0.,  0., -0.,  0.,  0.,  0.]), array([ 0.,  0.,  0.,  0.,  0.,  0., -0.,  0.,  0.,  0.]), array([ 0.,  0.,  0.,  0.,  0.,  0., -0.,  0.,  0.,  0.]), array([ 0.,  0.,  0.,  0.,  0.,  0., -0.,  0.,  0.,  0.]), array([ 0.,  0.,  0.,  0.,  0.,  0., -0.,  0.,  0.,  0.]), array([ 0.,  0.,  0.,  0.,  0.,  0., -0.,  0.,  0.,  0.]), array([ 0.,  0.,  0.,  0.,  0.,  0., -0.,  0.,  0.,  0.]), array([ 0.,  0.,  0.,  0.,  0.,  0., -0.,  0.,  0.,  0.]), array([ 0.,  0.,  0.,  0.,  0.,  0., -0.,  0.,  0.,  0.]), array([ 0.,  0.,  0.,  0.,  0.,  0., -0.,  0.,  0.,  0.]), array([ 0.,  0.,  0.,  0.,  0.,  0., -0.,  0.,  0.,  0.]), array([ 0.,  0.,  0.,  0.,  0.,  0., -0.,  0.,  0.,  0.]), array([ 0.,  0.,  0.,  0.,  0.,  0., -0.,  0.,  0.,  0.]), array([ 0.,  0.,  0.,  0.,  0.,  0., -0.,  0.,  0.,  0.]), array([ 0.,  0.,  0.,  0.,  0.,  0., -0.,  0.,  0.,  0.]), array([ 0.,  0.,  0.,  0.,  0.,  0., -0.,  0.,  0.,  0.]), array([ 0.,  0.,  0.,  0.,  0.,  0., -0.,  0.,  0.,  0.]), array([ 0.,  0.,  0.,  0.,  0.,  0., -0.,  0.,  0.,  0.]), array([ 0.,  0.,  0.,  0.,  0.,  0., -0.,  0.,  0.,  0.]), array([ 0.,  0.,  0.,  0.,  0.,  0., -0.,  0.,  0.,  0.]), array([ 0.,  0.,  0.,  0.,  0.,  0., -0.,  0.,  0.,  0.]), array([ 0.,  0.,  0.,  0.,  0.,  0., -0.,  0.,  0.,  0.]), array([ 0.,  0.,  0.,  0.,  0.,  0., -0.,  0.,  0.,  0.]), array([ 0.,  0.,  0.,  0.,  0.,  0., -0.,  0.,  0.,  0.]), array([ 0.,  0.,  0.,  0.,  0.,  0., -0.,  0.,  0.,  0.]), array([ 0.,  0.,  0.,  0.,  0.,  0., -0.,  0.,  0.,  0.]), array([ 0.,  0.,  0.,  0.,  0.,  0., -0.,  0.,  0.,  0.]), array([ 0.,  0.,  0.,  0.,  0.,  0., -0.,  0.,  0.,  0.]), array([ 0.,  0.,  0.,  0.,  0.,  0., -0.,  0.,  0.,  0.]), array([ 0.,  0.,  0.,  0.,  0.,  0., -0.,  0.,  0.,  0.]), array([ 0.,  0.,  0.,  0.,  0.,  0., -0.,  0.,  0.,  0.]), array([ 0.,  0.,  0.,  0.,  0.,  0., -0.,  0.,  0.,  0.]), array([ 0.,  0.,  0.,  0.,  0.,  0., -0.,  0.,  0.,  0.]), array([ 0.,  0.,  0.,  0.,  0.,  0., -0.,  0.,  0.,  0.]), array([ 0.,  0.,  0.,  0.,  0.,  0., -0.,  0.,  0.,  0.]), array([ 0.,  0.,  0.,  0.,  0.,  0., -0.,  0.,  0.,  0.]), array([ 0.,  0.,  0.,  0.,  0.,  0., -0.,  0.,  0.,  0.]), array([ 0.,  0.,  0.,  0.,  0.,  0., -0.,  0.,  0.,  0.]), array([ 0.,  0.,  0.,  0.,  0.,  0., -0.,  0.,  0.,  0.]), array([ 0.,  0.,  0.,  0.,  0.,  0., -0.,  0.,  0.,  0.]), array([ 0.,  0.,  0.,  0.,  0.,  0., -0.,  0.,  0.,  0.]), array([ 0.,  0.,  0.,  0.,  0.,  0., -0.,  0.,  0.,  0.]), array([ 0.,  0.,  0.,  0.,  0.,  0., -0.,  0.,  0.,  0.]), array([ 0.,  0.,  0.,  0.,  0.,  0., -0.,  0.,  0.,  0.]), array([ 0.,  0.,  0.,  0.,  0.,  0., -0.,  0.,  0.,  0.]), array([ 0.,  0.,  0.,  0.,  0.,  0., -0.,  0.,  0.,  0.]), array([ 0.,  0.,  0.,  0.,  0.,  0., -0.,  0.,  0.,  0.]), array([ 0.,  0.,  0.,  0.,  0.,  0., -0.,  0.,  0.,  0.]), array([ 0.,  0.,  0.,  0.,  0.,  0., -0.,  0.,  0.,  0.]), array([ 0.,  0.,  0.,  0.,  0.,  0., -0.,  0.,  0.,  0.]), array([ 0.,  0.,  0.,  0.,  0.,  0., -0.,  0.,  0.,  0.]), array([ 0.,  0.,  0.,  0.,  0.,  0., -0.,  0.,  0.,  0.]), array([ 0.,  0.,  0.,  0.,  0.,  0., -0.,  0.,  0.,  0.]), array([ 0.,  0.,  0.,  0.,  0.,  0., -0.,  0.,  0.,  0.]), array([ 0.,  0.,  0.,  0.,  0.,  0., -0.,  0.,  0.,  0.]), array([ 0.,  0.,  0.,  0.,  0.,  0., -0.,  0.,  0.,  0.]), array([ 0.,  0.,  0.,  0.,  0.,  0., -0.,  0.,  0.,  0.]), array([ 0.,  0.,  0.,  0.,  0.,  0., -0.,  0.,  0.,  0.]), array([ 0.,  0.,  0.,  0.,  0.,  0., -0.,  0.,  0.,  0.]), array([ 0.,  0.,  0.,  0.,  0.,  0., -0.,  0.,  0.,  0.]), array([ 0.,  0.,  0.,  0.,  0.,  0., -0.,  0.,  0.,  0.]), array([ 0.,  0.,  0.,  0.,  0.,  0., -0.,  0.,  0.,  0.]), array([ 0.,  0.,  0.,  0.,  0.,  0., -0.,  0.,  0.,  0.]), array([ 0.,  0.,  0.,  0.,  0.,  0., -0.,  0.,  0.,  0.]), array([ 0.,  0.,  0.,  0.,  0.,  0., -0.,  0.,  0.,  0.]), array([ 0.,  0.,  0.,  0.,  0.,  0., -0.,  0.,  0.,  0.]), array([ 0.,  0.,  0.,  0.,  0.,  0., -0.,  0.,  0.,  0.]), array([ 0.,  0.,  0.,  0.,  0.,  0., -0.,  0.,  0.,  0.])] \n",
      "\n",
      "Errors:  [0.0010254120014341812, 0.001353611866858043, 0.0017868573896416353, 0.002358770082683967, 0.0031145221376061077, 0.004111373739848139, 0.005427282854777863, 0.007164368434857961, 0.00945743393600459, 0.012484428345824604, 0.016480255342220397, 0.02175500214321469, 0.028718002590209023, 0.03790960165342226, 0.05004308617881448, 0.06606003546414377, 0.08720338647798191, 0.11511388296276304, 0.15199591653851394, 0.20064374727792095, 0.26486162258673696, 0.34963273663437566, 0.4615351052593679, 0.6092519468769038, 0.8042453840626763, 1.0616457211645236, 1.4014252690629705, 1.8499477495025172, 2.442013426115099, 3.2243732904641953, 4.256290952200716, 5.6184414789419135, 7.416495927078856, 9.789934028397811, 12.922858472010537, 17.062509408417036, 22.52244473000786, 29.72931149009313, 39.24192297111166, 51.81077133939681, 68.38682118172969, 90.26523265849231, 119.1708227133806, 157.2886849574896, 207.6475803475994, 274.11786047663867, 361.8575212064255, 477.65459326376083, 630.4708938697393, 832.1211552050287, 1098.4226729248967, 1449.792301331424, 1913.6924295899687, 2526.0488459491385, 3333.940974081647, 4400.559470846215, 5808.722781043414, 7666.51648071432, 9111.386964442489, 9635.414562639908, 10258.671273059239, 11009.591076548335, 13983.689190551831, 18449.24854486307, 24346.644962629045, 32125.15915892858, 42330.9598686876, 55737.31663739652, 70418.03176309973, 71394.86713243247, 72529.73245162131, 73868.93102654626, 75443.08400259804, 77290.17585560253, 79491.5218160767, 82098.20187122887, 85198.73713295447, 88923.47025399968, 90463.62772988538, 91615.22504486669, 92968.83854240675, 94564.14616259848, 96450.24603082318, 98686.07309260199, 101348.67412028382, 104530.34971749596, 108351.84464563147, 108856.57383732378, 109011.42454415499, 109426.3779275552, 110179.00572939892, 111042.82776714521, 111357.40892859365, 111821.55920855058, 112488.99407616498, 113432.93249351934, 114751.24390243755, 116574.508585403, 120251.27173051215, 125077.22839414864, 130877.37557410604, 137563.83728944245, 146422.0659967851, 158152.0107204096, 173678.28294924396, 189760.0363420248, 189847.387192705, 189847.387192705, 189847.387192705, 189847.387192705, 189847.387192705, 189847.387192705, 189847.387192705, 189847.387192705, 189847.387192705, 189847.387192705, 189847.387192705, 189847.387192705, 189847.387192705, 189847.387192705, 189847.387192705, 189847.387192705, 189847.387192705, 189847.387192705, 189847.387192705, 189847.387192705, 189847.387192705, 189847.387192705, 189847.387192705, 189847.387192705, 189847.387192705, 189847.387192705, 189847.387192705, 189847.387192705, 189847.387192705, 189847.387192705, 189847.387192705, 189847.387192705, 189847.387192705, 189847.387192705, 189847.387192705, 189847.387192705, 189847.387192705, 189847.387192705, 189847.387192705, 189847.387192705, 189847.387192705, 189847.387192705, 189847.387192705, 189847.387192705, 189847.387192705, 189847.387192705, 189847.387192705, 189847.387192705, 189847.387192705, 189847.387192705, 189847.387192705, 189847.387192705, 189847.387192705, 189847.387192705, 189847.387192705, 189847.387192705, 189847.387192705, 189847.387192705, 189847.387192705, 189847.387192705, 189847.387192705, 189847.387192705, 189847.387192705, 189847.387192705, 189847.387192705, 189847.387192705, 189847.387192705, 189847.387192705, 189847.387192705, 189847.387192705, 189847.387192705, 189847.387192705, 189847.387192705, 189847.387192705, 189847.387192705, 189847.387192705, 189847.387192705, 189847.387192705, 189847.387192705, 189847.387192705, 189847.387192705, 189847.387192705, 189847.387192705, 189847.387192705, 189847.387192705, 189847.387192705, 189847.387192705, 189847.387192705, 189847.387192705, 189847.387192705, 189847.387192705, 189847.387192705, 189847.387192705, 189847.387192705] \n",
      "\n"
     ]
    }
   ],
   "source": [
    "print('Coefs: ',coefs, '\\n')\n",
    "print('Errors: ',errors, '\\n')"
   ]
  },
  {
   "cell_type": "code",
   "execution_count": 20,
   "metadata": {},
   "outputs": [
    {
     "data": {
      "text/plain": [
       "200"
      ]
     },
     "execution_count": 20,
     "metadata": {},
     "output_type": "execute_result"
    }
   ],
   "source": [
    "len(lasso_alphas)"
   ]
  },
  {
   "cell_type": "markdown",
   "metadata": {
    "colab_type": "text",
    "id": "1Kd-sZk44lG2"
   },
   "source": [
    "##### 1.4.2 Visual Representation of Coefficient of Lasso Model\n",
    "\n",
    "Hint: Same as Ridge"
   ]
  },
  {
   "cell_type": "code",
   "execution_count": 21,
   "metadata": {
    "colab": {},
    "colab_type": "code",
    "id": "2bwy_O3T4lG3"
   },
   "outputs": [
    {
     "data": {
      "image/png": "[encoded data removed]",
      "text/plain": [
       "<Figure size 1440x432 with 2 Axes>"
      ]
     },
     "metadata": {
      "needs_background": "light"
     },
     "output_type": "display_data"
    }
   ],
   "source": [
    "# Display results\n",
    "plt.figure(figsize = (20, 6))\n",
    "\n",
    "plt.subplot(221)\n",
    "ax1 = plt.gca()\n",
    "ax1.plot(lasso_alphas, coefs)\n",
    "ax1.set_xscale('log')\n",
    "plt.xlabel('alpha')\n",
    "plt.ylabel('weights')\n",
    "plt.title('Lasso coefficients as a function of the regularisation')\n",
    "plt.axis('tight')\n",
    "\n",
    "plt.subplot(222)\n",
    "ax1 = plt.gca()\n",
    "ax1.plot(lasso_alphas, errors)\n",
    "ax1.set_xscale('log')\n",
    "plt.xlabel('alpha')\n",
    "plt.ylabel('error')\n",
    "plt.title('Coefficient error as a function of the regularisation')\n",
    "plt.axis('tight')\n",
    "\n",
    "plt.show()"
   ]
  },
  {
   "cell_type": "markdown",
   "metadata": {
    "colab_type": "text",
    "id": "6If_9fi34lG5"
   },
   "source": [
    "##### 1.4.3. [BONUS]  Find an optimal value for Lasso regression alpha using `LassoCV`.\n",
    "\n",
    "[Go to the documentation and read how LassoCV works.](https://scikit-learn.org/stable/modules/generated/sklearn.linear_model.LassoCV.html#sklearn.linear_model.LassoCV).\n",
    "\n",
    "Note here that you will be optimizing both the alpha parameter and the l1_ratio:\n",
    "- `alpha`: strength of regularization"
   ]
  },
  {
   "cell_type": "code",
   "execution_count": 0,
   "metadata": {
    "colab": {},
    "colab_type": "code",
    "id": "hh4jQbVu4lG6"
   },
   "outputs": [],
   "source": [
    "# Find Optimal Lasso Using LassoCV"
   ]
  },
  {
   "cell_type": "code",
   "execution_count": 0,
   "metadata": {
    "colab": {},
    "colab_type": "code",
    "id": "qhuvpHTS4lG9"
   },
   "outputs": [],
   "source": [
    "# Plot Coefficient"
   ]
  },
  {
   "cell_type": "markdown",
   "metadata": {
    "colab_type": "text",
    "id": "oVeIekHA4lHA"
   },
   "source": [
    "### 2. [Bonus] Compare the residuals for the Ridge and Lasso visually.\n",
    "\n",
    "Find and create sctterplot for both Ridge and Lasso residuals."
   ]
  },
  {
   "cell_type": "code",
   "execution_count": 0,
   "metadata": {
    "colab": {},
    "colab_type": "code",
    "id": "-P0fZRb54lHA"
   },
   "outputs": [],
   "source": [
    "# Build the ridge and lasso using optimal alpha\n",
    "\n",
    "# Need to fit the Lasso and Ridge outside of cross_val_score like we did with the ridge"
   ]
  },
  {
   "cell_type": "code",
   "execution_count": 0,
   "metadata": {
    "colab": {},
    "colab_type": "code",
    "id": "LcROHvHV4lHD"
   },
   "outputs": [],
   "source": [
    "# model residuals:"
   ]
  },
  {
   "cell_type": "code",
   "execution_count": 0,
   "metadata": {
    "colab": {},
    "colab_type": "code",
    "id": "vqhxfvmn4lHF"
   },
   "outputs": [],
   "source": [
    "# Jointplot"
   ]
  },
  {
   "cell_type": "markdown",
   "metadata": {
    "colab_type": "text",
    "id": "tZmscGZVlnXZ"
   },
   "source": [
    "\n",
    "\n",
    "---\n",
    "\n",
    "\n",
    "\n",
    "---\n",
    "\n",
    "\n",
    "\n",
    "> > > > > > > > > © 2021 Institute of Data\n",
    "\n",
    "\n",
    "---\n",
    "\n",
    "\n",
    "\n",
    "---\n",
    "\n",
    "\n",
    "\n"
   ]
  }
 ],
 "metadata": {
  "colab": {
   "collapsed_sections": [],
   "name": "DSIA Lab.4.4.ipynb",
   "provenance": []
  },
  "kernelspec": {
   "display_name": "Python 3",
   "language": "python",
   "name": "python3"
  },
  "language_info": {
   "codemirror_mode": {
    "name": "ipython",
    "version": 3
   },
   "file_extension": ".py",
   "mimetype": "text/x-python",
   "name": "python",
   "nbconvert_exporter": "python",
   "pygments_lexer": "ipython3",
   "version": "3.8.8"
  }
 },
 "nbformat": 4,
 "nbformat_minor": 1
}
